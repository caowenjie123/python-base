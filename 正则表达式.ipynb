{
 "cells": [
  {
   "cell_type": "markdown",
   "metadata": {},
   "source": [
    "# <center>正则表达式</center>"
   ]
  },
  {
   "cell_type": "markdown",
   "metadata": {},
   "source": [
    "<font size=5 full='微软雅黑'>\n",
    "\n",
    "&emsp;&emsp;正则表达式是一种用来匹配字符串的强有力的武器。它的设计思想是用一种描述性的语言来给字符串定义一个规则，凡是符合规则的字符串，我们就认为它“匹配”了，否则，该字符串就是不合法的。\n",
    "</font>"
   ]
  },
  {
   "cell_type": "markdown",
   "metadata": {},
   "source": [
    "# 一、简单匹配"
   ]
  },
  {
   "cell_type": "markdown",
   "metadata": {},
   "source": [
    "&emsp;&emsp;用 Python 来进行匹配，能做简单判断，进行符合条件的字符串的查看、提取、替换等操作较困难。"
   ]
  },
  {
   "cell_type": "code",
   "execution_count": 1,
   "metadata": {},
   "outputs": [
    {
     "name": "stdout",
     "output_type": "stream",
     "text": [
      "True\n",
      "False\n"
     ]
    }
   ],
   "source": [
    "# matching string\n",
    "pattern1 = \"cat\"\n",
    "pattern2 = \"bird\"\n",
    "string = \"dog runs to cat\"\n",
    "print(pattern1 in string)    \n",
    "print(pattern2 in string)"
   ]
  },
  {
   "cell_type": "markdown",
   "metadata": {},
   "source": [
    "&emsp;&emsp;用正则表达式简单匹配。"
   ]
  },
  {
   "cell_type": "code",
   "execution_count": 2,
   "metadata": {},
   "outputs": [
    {
     "name": "stdout",
     "output_type": "stream",
     "text": [
      "<re.Match object; span=(12, 15), match='cat'>\n",
      "None\n"
     ]
    }
   ],
   "source": [
    "import re\n",
    "pattern1 = \"cat\"\n",
    "pattern2 = \"bird\"\n",
    "string = \"dog runs to cat\"\n",
    "r=re.search(pattern1, string) \n",
    "print(r)\n",
    "print(re.search(pattern2, string)) "
   ]
  },
  {
   "cell_type": "markdown",
   "metadata": {},
   "source": [
    "# 二、匹配方式：match search  和 findall "
   ]
  },
  {
   "cell_type": "markdown",
   "metadata": {},
   "source": [
    "\n",
    "match() 从目标的开头与匹配模式进行匹配，一旦匹配成功就返回其匹配对象，失败就返回 None.\n",
    "<br>\n",
    "<br>\n",
    "search() 用于对目标的整体与匹配模式进行匹配，匹配成功就返回其匹配对象，失败就返回 None，只返回匹配到的第一个结果！\n",
    "<br>\n",
    "<br>\n",
    "findall()同样会匹配目标的整体，不同的是 findall()会返会所有条件符合的部分。"
   ]
  },
  {
   "cell_type": "code",
   "execution_count": 3,
   "metadata": {},
   "outputs": [
    {
     "name": "stdout",
     "output_type": "stream",
     "text": [
      "findall:----> [('3', 'rertert'), ('4', '')]\n",
      "match:----> None\n",
      "search:----> <re.Match object; span=(6, 17), match='3333rertert'>\n"
     ]
    }
   ],
   "source": [
    "s = 'werwrw3333rertert4444' #要匹配的字符串 \n",
    "p = r'(\\d)\\1+([a-zA-Z]*)'   #正则表达式\n",
    "\n",
    "#用 findall 方法，返回所有符合条件的部分\n",
    "fa=re.findall(p,s)   \n",
    "print('findall:---->',fa)\n",
    "\n",
    "#用 match方法，在字符串开头匹配不成功，返回 none\n",
    "m=re.match(p,s)\n",
    "print('match:---->',m)\n",
    "\n",
    "#用 search方法，只返回匹配成功的第一个结果\n",
    "s=re.search(p,s)\n",
    "print('search:---->',s)"
   ]
  },
  {
   "cell_type": "markdown",
   "metadata": {},
   "source": [
    "# 三、特殊类型匹配"
   ]
  },
  {
   "cell_type": "markdown",
   "metadata": {},
   "source": [
    "## 1、数字\n",
    "\n",
    "/d 匹配任意数字，等价于[0-9], /D 匹配任意非数字"
   ]
  },
  {
   "cell_type": "code",
   "execution_count": 4,
   "metadata": {},
   "outputs": [
    {
     "name": "stdout",
     "output_type": "stream",
     "text": [
      "<re.Match object; span=(4, 7), match='r4n'>\n",
      "<re.Match object; span=(0, 3), match='run'>\n"
     ]
    }
   ],
   "source": [
    "# \\d : decimal digit\n",
    "print(re.search(r\"r\\dn\", \"run r4n\"))                \n",
    "# \\D : any non-decimal digit\n",
    "print(re.search(r\"r\\Dn\", \"run r4n\"))"
   ]
  },
  {
   "cell_type": "markdown",
   "metadata": {},
   "source": [
    "## 2、空白\n",
    "\\s 匹配任意空白字符，等价于 [\\t\\n\\r\\f]; \\S 匹配任意非空白字符"
   ]
  },
  {
   "cell_type": "code",
   "execution_count": 5,
   "metadata": {},
   "outputs": [
    {
     "name": "stdout",
     "output_type": "stream",
     "text": [
      "<re.Match object; span=(0, 4), match='r\\n\\tn'>\n",
      "<re.Match object; span=(4, 7), match='r4n'>\n"
     ]
    }
   ],
   "source": [
    "# \\s : any white space [\\t\\n\\r\\f\\v]\n",
    "print(re.search(r\"r\\s+n\", \"r\\n\\tn r4n\"))               \n",
    "# \\S : opposite to \\s, any non-white space\n",
    "print(re.search(r\"r\\Sn\", \"r\\nn r4n\"))"
   ]
  },
  {
   "cell_type": "markdown",
   "metadata": {},
   "source": [
    "## 3、所有字母数字和“_”\n",
    "\\w 匹配所有字母数字和下划线，相当于[a-zA-Z0-9]，\\W 匹配非字母数字及下划线"
   ]
  },
  {
   "cell_type": "code",
   "execution_count": 6,
   "metadata": {},
   "outputs": [
    {
     "name": "stdout",
     "output_type": "stream",
     "text": [
      "<re.Match object; span=(4, 7), match='r4n'>\n",
      "<re.Match object; span=(0, 3), match='r\\nn'>\n"
     ]
    }
   ],
   "source": [
    "# \\w : [a-zA-Z0-9_]\n",
    "print(re.search(r\"r\\wn\", \"r\\nn r4n\"))               \n",
    "# \\W : opposite to \\w\n",
    "print(re.search(r\"r\\Wn\", \"r\\nn r4n\"))"
   ]
  },
  {
   "cell_type": "markdown",
   "metadata": {},
   "source": [
    "## 4、单词边界\n",
    "\\b 匹配一个单词边界，也就是指单词和空格间的位置。\\B 匹配非单词边界。"
   ]
  },
  {
   "cell_type": "code",
   "execution_count": 7,
   "metadata": {},
   "outputs": [
    {
     "name": "stdout",
     "output_type": "stream",
     "text": [
      "<re.Match object; span=(4, 8), match='runs'>\n",
      "None\n"
     ]
    }
   ],
   "source": [
    "# \\b : empty string (only at the start or end of the word)\n",
    "print(re.search(r\"\\bruns\\b\", \"dog runs to cat\"))    \n",
    "# \\B : empty string (but not at the start or end of a word)\n",
    "print(re.search(r\"\\Bruns\\B\", \"dog runs to cat\"))"
   ]
  },
  {
   "cell_type": "code",
   "execution_count": 8,
   "metadata": {},
   "outputs": [
    {
     "name": "stdout",
     "output_type": "stream",
     "text": [
      "<re.Match object; span=(3, 5), match='er'>\n",
      "None\n",
      "<re.Match object; span=(7, 9), match='er'>\n"
     ]
    }
   ],
   "source": [
    "print(re.search(r\"er\\b\",\"never verb\"))  #匹配 never 中的‘er’\n",
    "print(re.search(r\"\\ber\\b\",\"never verb\"))  #什么都匹配不了\n",
    "print(re.search(r\"\\Ber\\B\",\"never verb\")) #匹配 verb 中的‘er’"
   ]
  },
  {
   "cell_type": "markdown",
   "metadata": {},
   "source": [
    "## 5、特殊字符 任意字符\n",
    "\n",
    "\"\\\\\" 匹配 \"\\\"; \".\"匹配任意字符"
   ]
  },
  {
   "cell_type": "code",
   "execution_count": 9,
   "metadata": {},
   "outputs": [
    {
     "name": "stdout",
     "output_type": "stream",
     "text": [
      "<re.Match object; span=(0, 5), match='runs\\\\'>\n",
      "<re.Match object; span=(0, 3), match='r[n'>\n"
     ]
    }
   ],
   "source": [
    "# \\\\ : match \\\n",
    "print(re.search(r\"runs\\\\\", \"runs\\ to me\"))          \n",
    "# . : match anything (except \\n)\n",
    "print(re.search(r\"r.n\", \"r[ns to me\"))"
   ]
  },
  {
   "cell_type": "markdown",
   "metadata": {},
   "source": [
    "## 6、行首行尾\n",
    "^ 匹配行的开始；$ 匹配行的结束。"
   ]
  },
  {
   "cell_type": "code",
   "execution_count": 10,
   "metadata": {},
   "outputs": [
    {
     "name": "stdout",
     "output_type": "stream",
     "text": [
      "['dog', 'dog']\n",
      "['dog']\n",
      "<re.Match object; span=(12, 15), match='cat'>\n",
      "['dog', 'dog']\n"
     ]
    }
   ],
   "source": [
    "print(re.findall(r\"dog\", \"dog dog runs to cat\"))#两个 dog 都会返回    \n",
    "# ^ : match line beginning\n",
    "print(re.findall(r\"^dog\", \"dog dog runs to cat\"))  #只会返回开头的‘dog’      \n",
    "# $ : match line ending\n",
    "print(re.search(r\"cat$\", \"dog runs to cat\"))\n",
    "#这里我用了个换行符‘\\n’，匹配了两个 dog\n",
    "print(re.findall(r\"^dog\", \"dog dog runs to cat. \\ndog\",flags=re.M))"
   ]
  },
  {
   "cell_type": "markdown",
   "metadata": {},
   "source": [
    "## 7、多行匹配"
   ]
  },
  {
   "cell_type": "markdown",
   "metadata": {},
   "source": [
    "&emsp;&emsp;如果一个字符串有很多行, 我们想使用 ^ 形式来匹配行开头的字符, 如果用通常的形式是不成功的. 比如下面的 “I” 出现在第二行开头, 但是使用 r\"^I\" 却匹配不到第二行, 这时候, 我们要使用 另外一个参数, 让 re.search() 可以对每一行单独处理. 这个参数就是 flags=re.M, 或者这样写也行 flags=re.MULTILINE."
   ]
  },
  {
   "cell_type": "code",
   "execution_count": 11,
   "metadata": {},
   "outputs": [
    {
     "name": "stdout",
     "output_type": "stream",
     "text": [
      "None\n",
      "<re.Match object; span=(18, 19), match='I'>\n"
     ]
    }
   ],
   "source": [
    "string = \"\"\"\n",
    "dog runs to cat.\n",
    "I run to dog.\n",
    "\"\"\"\n",
    "print(re.search(r\"^I\", string))                 # None\n",
    "print(re.search(r\"^I\", string, flags=re.M))     # <_sre.SRE_Match object; span=(18, 19), match='I'>"
   ]
  },
  {
   "cell_type": "markdown",
   "metadata": {},
   "source": [
    "## 8、是否\n",
    "？ 匹配 0 个或 1 个由前面的正则表达式定义的片段，非贪婪方式"
   ]
  },
  {
   "cell_type": "code",
   "execution_count": 12,
   "metadata": {},
   "outputs": [
    {
     "name": "stdout",
     "output_type": "stream",
     "text": [
      "<re.Match object; span=(0, 6), match='Monday'>\n",
      "<re.Match object; span=(0, 3), match='Mon'>\n"
     ]
    }
   ],
   "source": [
    "# ? : may or may not occur\n",
    "print(re.search(r\"Mon(day)?\", \"Monday\"))            \n",
    "print(re.search(r\"Mon(day)?\", \"Mon\"))"
   ]
  },
  {
   "cell_type": "markdown",
   "metadata": {},
   "source": [
    "# 四、切分字符串"
   ]
  },
  {
   "cell_type": "markdown",
   "metadata": {},
   "source": [
    "&emsp;&emsp;re.split() 用于切分字符串。用正则表达式切分字符串比用固定的字符更灵活，"
   ]
  },
  {
   "cell_type": "code",
   "execution_count": 13,
   "metadata": {},
   "outputs": [
    {
     "name": "stdout",
     "output_type": "stream",
     "text": [
      "['a', 'b', '', '', 'c']\n"
     ]
    },
    {
     "data": {
      "text/plain": [
       "['a', 'b', 'c', 'd']"
      ]
     },
     "execution_count": 13,
     "metadata": {},
     "output_type": "execute_result"
    }
   ],
   "source": [
    "#正常切分连续空格都无法识别\n",
    "print('a b   c'.split(' '))\n",
    "\n",
    "#用正则表达式切分，无论字符串之间有什么分隔符，都可以精确识别！\n",
    "re.split(r'[\\s\\,\\;]+', 'a,b;; c  d')"
   ]
  },
  {
   "cell_type": "markdown",
   "metadata": {},
   "source": [
    "# 五、分组"
   ]
  },
  {
   "cell_type": "markdown",
   "metadata": {},
   "source": [
    "<font szie=4 full='新宋体'>\n",
    "\n",
    "&emsp;&emsp;使用 () 可以为找到的内容分组. 通过分组, 我们能轻松定位所找到的内容. 比如在这个 (\\d+) 组里, 需要找到的是一些数字, 在 (.+) 这个组里, 我们会找到 “Date: “ 后面的所有内容. 当使用 match.group() 时, 他会返回所有组里的内容, 而如果给 .group() 里加一个数, 它就能定位你需要返回哪个组里的信息.\n",
    "</font>"
   ]
  },
  {
   "cell_type": "code",
   "execution_count": 14,
   "metadata": {},
   "outputs": [
    {
     "name": "stdout",
     "output_type": "stream",
     "text": [
      "021523, Date: Feb/12/2017\n",
      "021523\n",
      "Feb/12/2017\n"
     ]
    }
   ],
   "source": [
    "match = re.search(r\"(\\d+), Date: (.+)\", \"ID: 021523, Date: Feb/12/2017\")\n",
    "print(match.group())   #等价于 print(match.group(0))              \n",
    "print(match.group(1))                 \n",
    "print(match.group(2))  "
   ]
  },
  {
   "cell_type": "markdown",
   "metadata": {},
   "source": [
    "&emsp;&emsp;有时候, 组会很多, 光用数字可能比较难找到自己想要的组, 这时候, 如果有一个名字当做索引, 会是一件很容易的事. 我们字需要在括号的开头写上这样的形式: <font color='red'> ?P<名字> </font> 就给这个组定义了一个名字. 然后就能用这个名字找到这个组的内容."
   ]
  },
  {
   "cell_type": "code",
   "execution_count": 15,
   "metadata": {},
   "outputs": [
    {
     "name": "stdout",
     "output_type": "stream",
     "text": [
      "021523\n",
      "Feb/12/2017\n",
      "021523, Date: Feb/12/2017\n"
     ]
    }
   ],
   "source": [
    "match = re.search(r\"(?P<id>\\d+), Date: (?P<date>.+)\", \"ID: 021523, Date: Feb/12/2017\")\n",
    "print(match.group('id'))                # 021523\n",
    "print(match.group('date'))              # Date: Feb/12/2017\n",
    "print(match.group())"
   ]
  },
  {
   "cell_type": "markdown",
   "metadata": {},
   "source": [
    "# 六、重复匹配"
   ]
  },
  {
   "cell_type": "markdown",
   "metadata": {},
   "source": [
    "<font size=4 full='新宋体'>\n",
    "\n",
    "*: 重复零次或多次\n",
    "<br>\n",
    "+: 重复一次或多次\n",
    "<br>\n",
    "{n, m} : 重复 n 至 m 次\n",
    "<br>\n",
    "{n} : 重复 n 次\n",
    "\n",
    "</font>"
   ]
  },
  {
   "cell_type": "markdown",
   "metadata": {},
   "source": [
    "## * 匹配 0 次或多次"
   ]
  },
  {
   "cell_type": "code",
   "execution_count": 16,
   "metadata": {},
   "outputs": [
    {
     "name": "stdout",
     "output_type": "stream",
     "text": [
      "<re.Match object; span=(0, 1), match='a'>\n",
      "<re.Match object; span=(0, 6), match='abbbbb'>\n"
     ]
    }
   ],
   "source": [
    "# * : occur 0 or more times\n",
    "print(re.search(r\"ab*\", \"a\"))                       \n",
    "print(re.search(r\"ab*\", \"abbbbb\"))"
   ]
  },
  {
   "cell_type": "markdown",
   "metadata": {},
   "source": [
    "## 匹配一次或多次 "
   ]
  },
  {
   "cell_type": "code",
   "execution_count": 55,
   "metadata": {},
   "outputs": [
    {
     "name": "stdout",
     "output_type": "stream",
     "text": [
      "None\n",
      "<_sre.SRE_Match object; span=(0, 6), match='abbbbb'>\n"
     ]
    }
   ],
   "source": [
    "# * : occur 0 or more times\n",
    "print(re.search(r\"ab+\", \"a\"))                       \n",
    "print(re.search(r\"ab+\", \"abbbbb\"))"
   ]
  },
  {
   "cell_type": "markdown",
   "metadata": {},
   "source": [
    "## 可选次数"
   ]
  },
  {
   "cell_type": "code",
   "execution_count": 56,
   "metadata": {},
   "outputs": [
    {
     "name": "stdout",
     "output_type": "stream",
     "text": [
      "None\n",
      "<_sre.SRE_Match object; span=(0, 6), match='abbbbb'>\n"
     ]
    }
   ],
   "source": [
    "# {n, m} : occur n to m times\n",
    "print(re.search(r\"ab{2,10}\", \"a\"))                  \n",
    "print(re.search(r\"ab{2,10}\", \"abbbbb\"))"
   ]
  },
  {
   "cell_type": "markdown",
   "metadata": {},
   "source": [
    "# 七、替换"
   ]
  },
  {
   "cell_type": "markdown",
   "metadata": {},
   "source": [
    "<font size=4 full='新宋体'>\n",
    "\n",
    "re.sub用于替换字符串中的匹配项。\n",
    "\n",
    "\n",
    "**re.sub(pattern, repl, string, count=0, flags=0)**\n",
    "\n",
    "pattern : 正则中的模式字符串。\n",
    "<br>\n",
    "repl : 替换的字符串，也可为一个函数。\n",
    "<br>\n",
    "string : 要被查找替换的原始字符串。\n",
    "<br>\n",
    "count : 模式匹配后替换的最大次数，默认 0 表示替换所有的匹配。"
   ]
  },
  {
   "cell_type": "code",
   "execution_count": 57,
   "metadata": {},
   "outputs": [
    {
     "name": "stdout",
     "output_type": "stream",
     "text": [
      "dog catches catches runs to cat\n"
     ]
    }
   ],
   "source": [
    "# re.sub() replace\n",
    "print(re.sub(r\"r[au]ns\", \"catches\", \"dog runs rans runs to cat\",2))"
   ]
  },
  {
   "cell_type": "markdown",
   "metadata": {},
   "source": [
    "# 八、编译"
   ]
  },
  {
   "cell_type": "markdown",
   "metadata": {},
   "source": [
    "当我们在Python中使用正则表达式时，re模块内部会干两件事情：\n",
    "\n",
    "1.编译正则表达式，如果正则表达式的字符串本身不合法，会报错；\n",
    "\n",
    "2.用编译后的正则表达式去匹配字符串。\n",
    "\n",
    "如果一个正则表达式要重复使用几千次，出于效率的考虑，我们可以预编译该正则表达式，接下来重复使用时就不需要编译这个步骤了，直接匹配："
   ]
  },
  {
   "cell_type": "code",
   "execution_count": 67,
   "metadata": {},
   "outputs": [
    {
     "name": "stdout",
     "output_type": "stream",
     "text": [
      "<_sre.SRE_Match object; span=(4, 7), match='ran'>\n"
     ]
    }
   ],
   "source": [
    "# compile\n",
    "compiled_re = re.compile(r\"r[ua]n\")\n",
    "print(compiled_re.search(\"dog ran to cat\"))"
   ]
  },
  {
   "cell_type": "markdown",
   "metadata": {},
   "source": []
  }
 ],
 "metadata": {
  "kernelspec": {
   "display_name": "Python 3",
   "language": "python",
   "name": "python3"
  },
  "language_info": {
   "codemirror_mode": {
    "name": "ipython",
    "version": 3
   },
   "file_extension": ".py",
   "mimetype": "text/x-python",
   "name": "python",
   "nbconvert_exporter": "python",
   "pygments_lexer": "ipython3",
   "version": "3.7.0"
  }
 },
 "nbformat": 4,
 "nbformat_minor": 2
}
