{
 "cells": [
  {
   "cell_type": "code",
   "execution_count": 2,
   "metadata": {},
   "outputs": [
    {
     "name": "stdout",
     "output_type": "stream",
     "text": [
      "[[1 2 3]\n",
      " [2 3 4]\n",
      " [3 4 5]\n",
      " [4 5 6]]\n",
      "number of dim: 2\n",
      "shape: (4, 3)\n",
      "size: 12\n"
     ]
    }
   ],
   "source": [
    "import numpy as np # 导入 numpy 这个包，并简写为 np\n",
    "array = np.array([[1,2,3],[2,3,4],[3,4,5],[4,5,6]]) # 用 numpy 定义一个两行三列的矩阵或者说二维数组 \n",
    "print(array) # 输出这个矩阵\n",
    "print('number of dim:',array.ndim) # 输出这个矩阵的维数，显然是个 2 维数组\n",
    "print('shape:',array.shape) # 输出这个矩阵的行数和列数\n",
    "print('size:',array.size) # 输出这个矩阵中一共有多少元素"
   ]
  },
  {
   "cell_type": "code",
   "execution_count": 2,
   "metadata": {},
   "outputs": [
    {
     "name": "stdout",
     "output_type": "stream",
     "text": [
      "[1 2 3]\n"
     ]
    }
   ],
   "source": [
    "import numpy as np # 导入 numpy 这个软件包并简写为 np\n",
    "a = np.array([1,2,3]) # 用 numpy 定义一个列表\n",
    "print(a) # 输出这个列表，我们发现输出的列表没有逗号"
   ]
  },
  {
   "cell_type": "code",
   "execution_count": 3,
   "metadata": {},
   "outputs": [
    {
     "name": "stdout",
     "output_type": "stream",
     "text": [
      "int32\n"
     ]
    }
   ],
   "source": [
    "# 定义 array 的 dtype ，比如说整数或者小数\n",
    "a = np.array([1,2,3],dtype=np.int)\n",
    "print(a.dtype) # 输出 a 的 type 默认是 32"
   ]
  },
  {
   "cell_type": "code",
   "execution_count": 4,
   "metadata": {},
   "outputs": [
    {
     "name": "stdout",
     "output_type": "stream",
     "text": [
      "int64\n"
     ]
    }
   ],
   "source": [
    "a = np.array([1,2,3],dtype=np.int64) # 设置 dtype 为 int64\n",
    "print(a.dtype) # 输出 a 的 type"
   ]
  },
  {
   "cell_type": "code",
   "execution_count": 5,
   "metadata": {},
   "outputs": [
    {
     "name": "stdout",
     "output_type": "stream",
     "text": [
      "int32\n"
     ]
    }
   ],
   "source": [
    "a = np.array([1,2,3],dtype=np.int32) # 设置 dtype 为 int32\n",
    "print(a.dtype) # 输出 a 的 type"
   ]
  },
  {
   "cell_type": "code",
   "execution_count": 6,
   "metadata": {},
   "outputs": [
    {
     "name": "stdout",
     "output_type": "stream",
     "text": [
      "float64\n"
     ]
    }
   ],
   "source": [
    "# 一般来说位数越小占用内存空间越小精度也较低，位数越大占用内存空间越大精度也较高\n",
    "a = np.array([1,2,3],dtype=np.float) \n",
    "print(a.dtype) # 输出 a 的 type 默认是 64"
   ]
  },
  {
   "cell_type": "code",
   "execution_count": 7,
   "metadata": {},
   "outputs": [
    {
     "name": "stdout",
     "output_type": "stream",
     "text": [
      "float32\n"
     ]
    }
   ],
   "source": [
    "a = np.array([1,2,3],dtype=np.float32) # 设置 dtype 为 float32\n",
    "print(a.dtype) # 输出 a 的 type"
   ]
  },
  {
   "cell_type": "code",
   "execution_count": 8,
   "metadata": {},
   "outputs": [
    {
     "name": "stdout",
     "output_type": "stream",
     "text": [
      "float64\n"
     ]
    }
   ],
   "source": [
    "a = np.array([1,2,3],dtype=np.float64) # 设置 dtype 为 float64\n",
    "print(a.dtype) # 输出 a 的 type"
   ]
  },
  {
   "cell_type": "code",
   "execution_count": 9,
   "metadata": {},
   "outputs": [
    {
     "name": "stdout",
     "output_type": "stream",
     "text": [
      "[[1 2 3]\n",
      " [2 3 4]\n",
      " [3 4 5]\n",
      " [4 5 6]]\n"
     ]
    }
   ],
   "source": [
    "a = np.array([[1,2,3],[2,3,4],[3,4,5],[4,5,6]]) # 定义一个矩阵\n",
    "print(a)"
   ]
  },
  {
   "cell_type": "code",
   "execution_count": 10,
   "metadata": {},
   "outputs": [
    {
     "name": "stdout",
     "output_type": "stream",
     "text": [
      "[[0. 0. 0. 0. 0.]\n",
      " [0. 0. 0. 0. 0.]\n",
      " [0. 0. 0. 0. 0.]]\n"
     ]
    }
   ],
   "source": [
    "a = np.zeros((3,5)) # 生成一个 3 行 5 列的零矩阵\n",
    "print(a)"
   ]
  },
  {
   "cell_type": "code",
   "execution_count": 11,
   "metadata": {},
   "outputs": [
    {
     "name": "stdout",
     "output_type": "stream",
     "text": [
      "[[1 1 1 1 1]\n",
      " [1 1 1 1 1]\n",
      " [1 1 1 1 1]]\n"
     ]
    }
   ],
   "source": [
    "a = np.ones((3,5),dtype=np.int16) # 生成一个 3 行 5 列的元素全是 1 的矩阵\n",
    "print(a)"
   ]
  },
  {
   "cell_type": "code",
   "execution_count": 3,
   "metadata": {},
   "outputs": [
    {
     "name": "stdout",
     "output_type": "stream",
     "text": [
      "[[0. 0. 0. 0. 0.]\n",
      " [0. 0. 0. 0. 0.]\n",
      " [0. 0. 0. 0. 0.]]\n"
     ]
    }
   ],
   "source": [
    "a = np.empty((3,5)) # 生成一个 3 行 5 列的空的矩阵\n",
    "print(a)"
   ]
  },
  {
   "cell_type": "code",
   "execution_count": 4,
   "metadata": {},
   "outputs": [
    {
     "name": "stdout",
     "output_type": "stream",
     "text": [
      "[1 3 5 7 9]\n"
     ]
    }
   ],
   "source": [
    "a = np.arange(1,10,2) # 生成一个列表首个元素为 1 步长为 2 一直到 9 结束\n",
    "print(a)"
   ]
  },
  {
   "cell_type": "code",
   "execution_count": 5,
   "metadata": {},
   "outputs": [
    {
     "name": "stdout",
     "output_type": "stream",
     "text": [
      "[[0 1 2 3 4]\n",
      " [5 6 7 8 9]]\n"
     ]
    }
   ],
   "source": [
    "a = np.arange(10).reshape(2,5) # 生成一个 2 行 5 列，元素从 0 到 9\n",
    "print(a)"
   ]
  },
  {
   "cell_type": "code",
   "execution_count": 6,
   "metadata": {},
   "outputs": [
    {
     "name": "stdout",
     "output_type": "stream",
     "text": [
      "[[0. 1. 2.]\n",
      " [3. 4. 5.]]\n"
     ]
    }
   ],
   "source": [
    "a = np.linspace(0,5,6).reshape(2,3) # 生成一个 2 行 3 列的矩阵，该矩阵的元素是从 0 到 5 的等差数列列表，该矩阵的元素个数为 6\n",
    "print(a)"
   ]
  },
  {
   "cell_type": "code",
   "execution_count": 7,
   "metadata": {},
   "outputs": [
    {
     "name": "stdout",
     "output_type": "stream",
     "text": [
      "[11 22 33 44] [0 1 2 3]\n",
      "[11 21 31 41]\n",
      "[11 23 35 47]\n",
      "[0 1 4 9]\n"
     ]
    }
   ],
   "source": [
    "import numpy as np # 导入 numpy 软件包\n",
    "a = np.array([11,22,33,44]) # 定义一个列表 a\n",
    "b = np.arange(4) # 定义一个一行元素为 0,1,2,3 的列表 b\n",
    "c = a-b # 做减法运算并将结果赋给 c，注意两个列表的行数列数应该相等\n",
    "d = a+b # 做加法运算并将结果赋给 d，注意两个列表的行数列数应该相等\n",
    "e = b**2 # 做列表 b 的 2 次方运算（每个元素平方）并将结果赋给 e\n",
    "print(a,b) # 输出 a,b 两个列表\n",
    "print(c) # 输出列表 c\n",
    "print(d) # 输出列表 d\n",
    "print(e) # 输出列表 e"
   ]
  },
  {
   "cell_type": "code",
   "execution_count": 8,
   "metadata": {},
   "outputs": [
    {
     "name": "stdout",
     "output_type": "stream",
     "text": [
      "[0 1 2 3]\n",
      "[0.         0.84147098 0.90929743 0.14112001]\n",
      "[ 1.          0.54030231 -0.41614684 -0.9899925 ]\n",
      "[ 0.          1.55740772 -2.18503986 -0.14254654]\n"
     ]
    }
   ],
   "source": [
    "import numpy as np\n",
    "b = np.arange(4) # 定义一个一行元素为 0,1,2,3 的列表 b\n",
    "f = np.sin(b) # 对 b 中每一个元素求 sin\n",
    "g= np.cos(b) # 对 b 中每一个元素求 cos\n",
    "h = np.tan(b) # 对 b 中每一个元素求 tan\n",
    "print(b)\n",
    "print(f)\n",
    "print(g)\n",
    "print(h)"
   ]
  },
  {
   "cell_type": "code",
   "execution_count": 9,
   "metadata": {},
   "outputs": [
    {
     "name": "stdout",
     "output_type": "stream",
     "text": [
      "[0 1 2 3]\n",
      "[ True  True  True False]\n"
     ]
    }
   ],
   "source": [
    "import numpy as np\n",
    "b = np.arange(4)\n",
    "print(b)\n",
    "print(b<3) # 判断 b 的每个元素是否小于 3 "
   ]
  },
  {
   "cell_type": "code",
   "execution_count": 10,
   "metadata": {},
   "outputs": [
    {
     "name": "stdout",
     "output_type": "stream",
     "text": [
      "[0 1 2 3]\n",
      "[False False False  True]\n"
     ]
    }
   ],
   "source": [
    "import numpy as np\n",
    "b = np.arange(4)\n",
    "print(b)\n",
    "print(b==3) # 判断 b 中每个元素是否等于 3"
   ]
  },
  {
   "cell_type": "code",
   "execution_count": 11,
   "metadata": {},
   "outputs": [
    {
     "name": "stdout",
     "output_type": "stream",
     "text": [
      "[[0 1]\n",
      " [2 3]]\n",
      "\n",
      "[[1 1]\n",
      " [0 1]]\n",
      "\n",
      "\n",
      "[[0 1]\n",
      " [0 3]]\n",
      "\n",
      "[[0 1]\n",
      " [2 5]]\n",
      "[[0 1]\n",
      " [2 5]]\n"
     ]
    }
   ],
   "source": [
    "import numpy as np\n",
    "b = np.arange(4).reshape((2,2)) # 将 b 变为一个两行两列的矩阵\n",
    "k= np.array([[1,1],[0,1]])  # 定义一个矩阵 k\n",
    "print(b)\n",
    "print()\n",
    "print(k)\n",
    "print()\n",
    "l = b*k # 逐个相乘\n",
    "m =np.dot(b,k) # 矩阵相乘\n",
    "m1= b.dot(k) # 矩阵相乘的另一种方法\n",
    "print()\n",
    "print(l)\n",
    "print()\n",
    "print(m)\n",
    "print(m1)"
   ]
  },
  {
   "cell_type": "code",
   "execution_count": 12,
   "metadata": {},
   "outputs": [
    {
     "name": "stdout",
     "output_type": "stream",
     "text": [
      "[[0.36404343 0.21177334 0.45097296 0.71081163]\n",
      " [0.22247974 0.10102981 0.74304474 0.45834105]\n",
      " [0.8644329  0.78488325 0.52958726 0.0888815 ]]\n"
     ]
    }
   ],
   "source": [
    "import numpy as np\n",
    "n = np.random.random((3,4)) # 生成三行四列的矩阵，其中每一个元素都是从 0~1 随机生成的\n",
    "print(n)"
   ]
  },
  {
   "cell_type": "code",
   "execution_count": 13,
   "metadata": {},
   "outputs": [
    {
     "name": "stdout",
     "output_type": "stream",
     "text": [
      "[0 1 2 3]\n",
      "6\n",
      "0\n",
      "3\n"
     ]
    }
   ],
   "source": [
    "import numpy as np\n",
    "b = np.arange(4)\n",
    "print(b)\n",
    "print(np.sum(b)) # 输出该列表所有元素求和的值\n",
    "print(np.min(b)) # 输出该列表所有元素中的最小值\n",
    "print(np.max(b)) # 输出该列表所有元素中的最大值"
   ]
  },
  {
   "cell_type": "code",
   "execution_count": 14,
   "metadata": {},
   "outputs": [
    {
     "name": "stdout",
     "output_type": "stream",
     "text": [
      "[[ 0  1  2  3  4  5]\n",
      " [ 6  7  8  9 10 11]]\n",
      "[ 6  8 10 12 14 16]\n",
      "[15 51]\n",
      "[0 1 2 3 4 5]\n",
      "[0 6]\n",
      "[ 6  7  8  9 10 11]\n",
      "[ 5 11]\n"
     ]
    }
   ],
   "source": [
    "import numpy as np\n",
    "o = np.arange(12).reshape((2,6)) # 定义一个两行六列的矩阵，元素为 0,1,...11\n",
    "print(o) \n",
    "print(np.sum(o,axis=0)) # 逐列求和，然后输出一个列表\n",
    "print(np.sum(o,axis=1)) # 逐行求和，然后输出一个列表\n",
    "print(np.min(o,axis=0)) # 逐列找最小值，然后输出一个列表\n",
    "print(np.min(o,axis=1)) # 逐行找最小值，然后输出一个列表\n",
    "print(np.max(o,axis=0)) # 逐列找最大值，然后输出一个列表\n",
    "print(np.max(o,axis=1)) # 逐行找最大值，然后输出一个列表"
   ]
  },
  {
   "cell_type": "code",
   "execution_count": 15,
   "metadata": {},
   "outputs": [
    {
     "name": "stdout",
     "output_type": "stream",
     "text": [
      "[[ 3  4  5  6]\n",
      " [ 7  8  9 10]\n",
      " [11 12 13 14]]\n",
      "0\n",
      "11\n",
      "8.5\n",
      "8.5\n",
      "8.5\n"
     ]
    }
   ],
   "source": [
    "import numpy as np\n",
    "a = np.arange(3,15).reshape((3,4)) # 定义一个 3 行 4 列的矩阵，元素从 3 到 14，步长为 1\n",
    "print(a) \n",
    "print(np.argmin(a)) # 输出矩阵中最小值的索引\n",
    "print(np.argmax(a)) # 输出矩阵中最大值的索引\n",
    "print(np.mean(a)) # 输出矩阵所有元素的平均值\n",
    "print(a.mean()) # 输出矩阵所有元素的平均值\n",
    "print(np.median(a)) # 输出矩阵所有元素的中位数"
   ]
  },
  {
   "cell_type": "code",
   "execution_count": 16,
   "metadata": {},
   "outputs": [
    {
     "name": "stdout",
     "output_type": "stream",
     "text": [
      "[[ 3  4  5  6]\n",
      " [ 7  8  9 10]\n",
      " [11 12 13 14]]\n",
      "[  3   7  12  18  25  33  42  52  63  75  88 102]\n",
      "[[1 1 1]\n",
      " [1 1 1]\n",
      " [1 1 1]]\n"
     ]
    },
    {
     "data": {
      "text/plain": [
       "'做差分生成一个矩阵，与原来矩阵相比少了 1 列，新矩阵的第零个元素是原矩阵第一个元素减第零个元素，\\n新矩阵第一个元素是原矩阵第二个元素减第一个元素......'"
      ]
     },
     "execution_count": 16,
     "metadata": {},
     "output_type": "execute_result"
    }
   ],
   "source": [
    "print(a)\n",
    "print(np.cumsum(a)) \n",
    "'''逐个累加形成一个列表，列表元素个数与矩阵个数相同，列表第零个元素就是矩阵第零个元素，\n",
    "第一个元素等于矩阵前两个元素相加，第二个元素等于矩阵前三个元素相加......'''\n",
    "print(np.diff(a))\n",
    "'''做差分生成一个矩阵，与原来矩阵相比少了 1 列，新矩阵的第零个元素是原矩阵第一个元素减第零个元素，\n",
    "新矩阵第一个元素是原矩阵第二个元素减第一个元素......'''"
   ]
  },
  {
   "cell_type": "code",
   "execution_count": 17,
   "metadata": {},
   "outputs": [
    {
     "name": "stdout",
     "output_type": "stream",
     "text": [
      "[[ 3  4  5  6]\n",
      " [ 7  8  9 10]\n",
      " [11 12 13 14]]\n",
      "(array([0, 0, 0, 0, 1, 1, 1, 1, 2, 2, 2, 2], dtype=int64), array([0, 1, 2, 3, 0, 1, 2, 3, 0, 1, 2, 3], dtype=int64))\n"
     ]
    }
   ],
   "source": [
    "print(a)\n",
    "print(np.nonzero(a)) # 输出两个列表，第一个列表表示各对应元素所处的行数，第二个列表表示各对应元素所处的列数\n",
    "# 也是非零的元素的行列数"
   ]
  },
  {
   "cell_type": "code",
   "execution_count": 18,
   "metadata": {},
   "outputs": [
    {
     "name": "stdout",
     "output_type": "stream",
     "text": [
      "[[15 14 13 12]\n",
      " [11 10  9  8]\n",
      " [ 7  6  5  4]]\n",
      "[[12 13 14 15]\n",
      " [ 8  9 10 11]\n",
      " [ 4  5  6  7]]\n"
     ]
    }
   ],
   "source": [
    "a = np.arange(15,3,-1).reshape((3,4))\n",
    "print(a)\n",
    "print(np.sort(a)) # 逐行排序"
   ]
  },
  {
   "cell_type": "code",
   "execution_count": 19,
   "metadata": {},
   "outputs": [
    {
     "name": "stdout",
     "output_type": "stream",
     "text": [
      "[[15 14 13 12]\n",
      " [11 10  9  8]\n",
      " [ 7  6  5  4]]\n",
      "[[15 11  7]\n",
      " [14 10  6]\n",
      " [13  9  5]\n",
      " [12  8  4]]\n",
      "[[15 11  7]\n",
      " [14 10  6]\n",
      " [13  9  5]\n",
      " [12  8  4]]\n"
     ]
    }
   ],
   "source": [
    "print(a)\n",
    "print(a.T) # 矩阵转置\n",
    "print(np.transpose(a)) # 矩阵转置"
   ]
  },
  {
   "cell_type": "code",
   "execution_count": 20,
   "metadata": {},
   "outputs": [
    {
     "name": "stdout",
     "output_type": "stream",
     "text": [
      "[[15 14 13 12]\n",
      " [11 10  9  8]\n",
      " [ 7  6  5  4]]\n",
      "[[12 12 12 12]\n",
      " [11 10  9  8]\n",
      " [ 7  6  6  6]]\n"
     ]
    }
   ],
   "source": [
    "print(a)\n",
    "print(np.clip(a,6,12)) # 将 6 到 12 之间的数保持不变包括 6 和 12，小于 6 的换成 6 ，大于 12 的换成 12"
   ]
  },
  {
   "cell_type": "code",
   "execution_count": 21,
   "metadata": {},
   "outputs": [
    {
     "name": "stdout",
     "output_type": "stream",
     "text": [
      "[ 4  5  6  7  8  9 10 11 12 13 14 15]\n",
      "7\n",
      "[5 6 7 8]\n"
     ]
    }
   ],
   "source": [
    "import numpy as np\n",
    "a = np.arange(4,16) # 生成一个元素为 4 到 15 步长为 1 的一维数组\n",
    "print(a)\n",
    "print(a[3]) # 输出这个列表索引是 3 的元素\n",
    "print(a[1:5]) # 对这个一维数组进行切片，取索引第 1 到第 4 的元素构成列表"
   ]
  },
  {
   "cell_type": "code",
   "execution_count": 22,
   "metadata": {},
   "outputs": [
    {
     "name": "stdout",
     "output_type": "stream",
     "text": [
      "[[ 4  5  6  7]\n",
      " [ 8  9 10 11]\n",
      " [12 13 14 15]]\n",
      "\n",
      "[12 13 14 15]\n",
      "[12 13 14 15]\n",
      "\n",
      "[ 5  9 13]\n",
      "\n",
      "8\n",
      "8\n",
      "\n",
      "12\n",
      "12\n",
      "\n",
      "[ 9 10 11]\n"
     ]
    }
   ],
   "source": [
    "a = np.arange(4,16).reshape(3,4) # 生成一个 3 行 4 列的矩阵，其中元素为 4 到 15 步长为 1 \n",
    "print(a) \n",
    "print()\n",
    "print(a[2]) # 输出第二行的元素\n",
    "print(a[2,:]) # 输出第二行的元素\n",
    "print()\n",
    "print(a[:,1]) # 输出第一列的元素\n",
    "print()\n",
    "print(a[1][0]) # 输出第一行第零列的元素\n",
    "print(a[1,0]) # 输出第一行第零列的元素\n",
    "print()\n",
    "print(a[2][0]) # 输出第二行第零列的元素\n",
    "print(a[2,0]) # 输出第二行第零列的元素\n",
    "print()\n",
    "print(a[1,1:4]) # 对矩阵进行切片，输出第一行第一到第三个元素"
   ]
  },
  {
   "cell_type": "code",
   "execution_count": 23,
   "metadata": {},
   "outputs": [
    {
     "name": "stdout",
     "output_type": "stream",
     "text": [
      "[[ 4  5  6  7]\n",
      " [ 8  9 10 11]\n",
      " [12 13 14 15]]\n",
      "\n",
      "[12 13 14 15]\n",
      "[12 13 14 15]\n",
      "\n",
      "[ 5  9 13]\n",
      "\n",
      "8\n",
      "8\n",
      "\n",
      "12\n",
      "12\n",
      "\n",
      "[ 9 10 11]\n"
     ]
    }
   ],
   "source": [
    "a = np.arange(4,16).reshape(3,4) # 生成一个 3 行 4 列的矩阵，其中元素为 4 到 15 步长为 1 \n",
    "print(a) \n",
    "print()\n",
    "print(a[2]) # 输出第二行的元素\n",
    "print(a[2,:]) # 输出第二行的元素\n",
    "print()\n",
    "print(a[:,1]) # 输出第一列的元素\n",
    "print()\n",
    "print(a[1][0]) # 输出第一行第零列的元素\n",
    "print(a[1,0]) # 输出第一行第零列的元素\n",
    "print()\n",
    "print(a[2][0]) # 输出第二行第零列的元素\n",
    "print(a[2,0]) # 输出第二行第零列的元素\n",
    "print()\n",
    "print(a[1,1:4]) # 对矩阵进行切片，输出第一行第一到第三个元素"
   ]
  },
  {
   "cell_type": "code",
   "execution_count": 33,
   "metadata": {},
   "outputs": [
    {
     "name": "stdout",
     "output_type": "stream",
     "text": [
      "[[ 3  4  5  6]\n",
      " [ 7  8  9 10]\n",
      " [11 12 13 14]]\n",
      "[3 4 5 6]\n",
      "[ 7  8  9 10]\n",
      "[11 12 13 14]\n"
     ]
    }
   ],
   "source": [
    "a = np.arange(3,15).reshape((3,4))# 生成一个 3 行 4 列的矩阵，其中元素为 4 到 15 步长为 1 \n",
    "print(a) # 打印矩阵 a \n",
    "\n",
    "# 利用循环的方式打印矩阵的每一行\n",
    "for row in a:\n",
    "    print(row)"
   ]
  },
  {
   "cell_type": "code",
   "execution_count": 35,
   "metadata": {},
   "outputs": [
    {
     "name": "stdout",
     "output_type": "stream",
     "text": [
      "[[ 3  4  5  6]\n",
      " [ 7  8  9 10]\n",
      " [11 12 13 14]]\n",
      "[[ 3  7 11]\n",
      " [ 4  8 12]\n",
      " [ 5  9 13]\n",
      " [ 6 10 14]]\n",
      "[ 3  7 11]\n",
      "[ 4  8 12]\n",
      "[ 5  9 13]\n",
      "[ 6 10 14]\n"
     ]
    }
   ],
   "source": [
    "a = np.arange(3,15).reshape((3,4))# 生成一个 3 行 4 列的矩阵，其中元素为 4 到 15 步长为 1 \n",
    "print(a) # 打印矩阵 a \n",
    "print(a.T) # 打印转置后的矩阵 a\n",
    "\n",
    "# 利用循环的方式打印矩阵的每一列（通过转置的方式）\n",
    "for col in a.T:\n",
    "    print(col)"
   ]
  },
  {
   "cell_type": "code",
   "execution_count": 38,
   "metadata": {},
   "outputs": [
    {
     "name": "stdout",
     "output_type": "stream",
     "text": [
      "[[ 3  4  5  6]\n",
      " [ 7  8  9 10]\n",
      " [11 12 13 14]]\n",
      "[ 3  4  5  6  7  8  9 10 11 12 13 14]\n",
      "3\n",
      "4\n",
      "5\n",
      "6\n",
      "7\n",
      "8\n",
      "9\n",
      "10\n",
      "11\n",
      "12\n",
      "13\n",
      "14\n"
     ]
    }
   ],
   "source": [
    "a = np.arange(3,15).reshape((3,4))# 生成一个 3 行 4 列的矩阵，其中元素为 4 到 15 步长为 1 \n",
    "print(a) # 打印矩阵 a \n",
    "print(a.flatten())\n",
    "\n",
    "# 循环输出矩阵 a 的每一个元素\n",
    "for item in a.flat:\n",
    "    print(item)"
   ]
  },
  {
   "cell_type": "code",
   "execution_count": 41,
   "metadata": {},
   "outputs": [
    {
     "name": "stdout",
     "output_type": "stream",
     "text": [
      "(3,) (3,)\n",
      "\n",
      "[[1 1 1]\n",
      " [2 2 2]]\n",
      "(2, 3)\n",
      "\n",
      "[1 1 1 2 2 2]\n",
      "(6,)\n"
     ]
    }
   ],
   "source": [
    "import numpy as np\n",
    "a = np.array([1,1,1])\n",
    "b = np.array([2,2,2])\n",
    "print(a.shape,b.shape) # 输出这两个数组的 shape\n",
    "print()\n",
    "print(np.vstack((a,b))) # 上下合并两个数组 vertical stack\n",
    "print(np.vstack((a,b)).shape) # 输出上面合并数组的 shape\n",
    "print()\n",
    "print(np.hstack((a,b))) # 左右合并两个数组 horizontal\n",
    "print(np.hstack((a,b)).shape) # 输出上面合并数组的 shape"
   ]
  },
  {
   "cell_type": "code",
   "execution_count": 42,
   "metadata": {},
   "outputs": [
    {
     "name": "stdout",
     "output_type": "stream",
     "text": [
      "[1 1 1]\n",
      "\n",
      "[1 1 1]\n",
      "\n",
      "[[1 1 1]]\n",
      "(1, 3)\n",
      "\n",
      "[[1]\n",
      " [1]\n",
      " [1]]\n",
      "(3, 1)\n"
     ]
    }
   ],
   "source": [
    "print(a)\n",
    "print()\n",
    "print(a.T) # 转置数组 a 发现并没有什么用，因为它不是一个矩阵 \n",
    "print()\n",
    "print(a[np.newaxis,:]) # 在数组行加上维度，使之成为一个 1 行 3 列的矩阵\n",
    "print(a[np.newaxis,:].shape) # 输出上面数组的 shape\n",
    "print()\n",
    "print(a[:,np.newaxis]) # 在数组列上添加维度，使之成为一个 3 行 1 列的矩阵 \n",
    "print(a[:,np.newaxis].shape) # 输出上面数组的 shape"
   ]
  },
  {
   "cell_type": "code",
   "execution_count": 43,
   "metadata": {},
   "outputs": [
    {
     "name": "stdout",
     "output_type": "stream",
     "text": [
      "[[1]\n",
      " [1]\n",
      " [1]]\n",
      "[[2]\n",
      " [2]\n",
      " [2]]\n",
      "\n",
      "[[1]\n",
      " [1]\n",
      " [1]\n",
      " [2]\n",
      " [2]\n",
      " [2]]\n",
      "[[1 2]\n",
      " [1 2]\n",
      " [1 2]]\n",
      "\n",
      "[[1]\n",
      " [1]\n",
      " [1]\n",
      " [2]\n",
      " [2]\n",
      " [2]\n",
      " [2]\n",
      " [2]\n",
      " [2]\n",
      " [1]\n",
      " [1]\n",
      " [1]]\n",
      "\n",
      "[[1 2 2 1]\n",
      " [1 2 2 1]\n",
      " [1 2 2 1]]\n"
     ]
    }
   ],
   "source": [
    "a = np.array([1,1,1])[:,np.newaxis] # 把数组 a 转化为一个 3 行 1 列的矩阵\n",
    "b = np.array([2,2,2])[:,np.newaxis] # 把数组 b 转化为一个 3 行 1 列的矩阵\n",
    "print(a)\n",
    "print(b)\n",
    "print()\n",
    "print(np.vstack((a,b))) # 上下合并两个数组\n",
    "print(np.hstack((a,b))) # 左右合并两个数组\n",
    "print()\n",
    "c = np.concatenate((a,b,b,a),axis=0) # 采用 concatenate() 函数对多个数组的上下合并,axis=0 表示是上下合并\n",
    "print(c)\n",
    "print()\n",
    "d = np.concatenate((a,b,b,a),axis=1) # 采用 concatenate() 函数多个数组的左右合并，axis=1 表示是左右合并\n",
    "print(d)"
   ]
  },
  {
   "cell_type": "code",
   "execution_count": 44,
   "metadata": {},
   "outputs": [
    {
     "name": "stdout",
     "output_type": "stream",
     "text": [
      "[[ 0  1  2  3]\n",
      " [ 4  5  6  7]\n",
      " [ 8  9 10 11]]\n",
      "\n",
      "[array([[0, 1],\n",
      "       [4, 5],\n",
      "       [8, 9]]), array([[ 2,  3],\n",
      "       [ 6,  7],\n",
      "       [10, 11]])]\n",
      "\n",
      "[array([[0, 1, 2, 3]]), array([[4, 5, 6, 7]]), array([[ 8,  9, 10, 11]])]\n"
     ]
    }
   ],
   "source": [
    "import numpy as np\n",
    "a = np.arange(12).reshape(3,4)\n",
    "print(a)\n",
    "print()\n",
    "print(np.split(a,2,axis=1)) # 将这个矩阵分割为 2 个 3 行 2 列的 array（等量分割）\n",
    "print()\n",
    "print(np.split(a,3,axis=0)) # 将这个矩阵分割为 3 个 1 行 4 列的array（等量分割）"
   ]
  },
  {
   "cell_type": "code",
   "execution_count": 45,
   "metadata": {},
   "outputs": [
    {
     "name": "stdout",
     "output_type": "stream",
     "text": [
      "[[ 0  1  2  3]\n",
      " [ 4  5  6  7]\n",
      " [ 8  9 10 11]]\n",
      "\n",
      "[array([[0, 1, 2, 3]]), array([[4, 5, 6, 7]]), array([[ 8,  9, 10, 11]])]\n",
      "\n",
      "[array([[0, 1],\n",
      "       [4, 5],\n",
      "       [8, 9]]), array([[ 2,  3],\n",
      "       [ 6,  7],\n",
      "       [10, 11]])]\n"
     ]
    }
   ],
   "source": [
    "print(a)\n",
    "print()\n",
    "print(np.vsplit(a,3)) # 对这个矩阵进行纵向分割，分割成 3 个 1 行 4 列的 array\n",
    "print()\n",
    "print(np.hsplit(a,2)) # 对这个矩阵进行横向分割，分割成 2 个 3 行 2 列的 array"
   ]
  },
  {
   "cell_type": "code",
   "execution_count": 46,
   "metadata": {},
   "outputs": [
    {
     "name": "stdout",
     "output_type": "stream",
     "text": [
      "[[ 0  1  2  3]\n",
      " [ 4  5  6  7]\n",
      " [ 8  9 10 11]]\n",
      "\n",
      "[array([[0, 1],\n",
      "       [4, 5],\n",
      "       [8, 9]]), array([[ 2],\n",
      "       [ 6],\n",
      "       [10]]), array([[ 3],\n",
      "       [ 7],\n",
      "       [11]])]\n"
     ]
    }
   ],
   "source": [
    "print(a)\n",
    "print()\n",
    "print(np.array_split(a,3,axis=1)) # 对这个矩阵进行不等量分割，分成 3 个 array，分别是 3 行 2 列，3 行 1 列，3 行 1 列"
   ]
  },
  {
   "cell_type": "code",
   "execution_count": 47,
   "metadata": {},
   "outputs": [
    {
     "name": "stdout",
     "output_type": "stream",
     "text": [
      "[0 1 2 3 4]\n",
      "\n",
      "[0 1 2 3 4]\n",
      "\n",
      "[0 1 2 3 4]\n",
      "\n",
      "[0 1 2 3 4]\n"
     ]
    }
   ],
   "source": [
    "import numpy as np \n",
    "a = np.arange(5) # 生成一个元素为 0,1,2，...4，的一行 array\n",
    "print(a) \n",
    "print()\n",
    "b = a # 把 a 赋值（copy）给 b \n",
    "c = a # 把 a 赋值（copy）给 c \n",
    "d = b # 把 b 赋值（copy）给 d \n",
    "print(b)\n",
    "print()\n",
    "print(c)\n",
    "print()\n",
    "print(d)"
   ]
  },
  {
   "cell_type": "code",
   "execution_count": 48,
   "metadata": {},
   "outputs": [
    {
     "name": "stdout",
     "output_type": "stream",
     "text": [
      "True\n",
      "True\n",
      "True\n",
      "\n",
      "[11  1  2  3  4]\n",
      "[11  1  2  3  4]\n",
      "[11  1  2  3  4]\n",
      "[11  1  2  3  4]\n",
      "\n",
      "[11 22 33 44  4]\n",
      "[11 22 33 44  4]\n",
      "[11 22 33 44  4]\n",
      "[11 22 33 44  4]\n"
     ]
    }
   ],
   "source": [
    "a[0] = 11 # 把 a 的第零个元素改为 11\n",
    "print(b is a) # 判断 a 与 b 是否为同一个东西并输出结果\n",
    "print(c is a) # 判断 a 与 c 是否为同一个东西并输出结果\n",
    "print(d is a) # 判断 a 与 d 是否为同一个东西并输出结果\n",
    "print()\n",
    "print(a)\n",
    "print(b)\n",
    "print(c)\n",
    "print(d)\n",
    "d[1:4]=[22,33,44] # 改变 d 的第 1 到第 3 个元素为 [22,33,44]\n",
    "print()\n",
    "print(d)\n",
    "print(a)\n",
    "print(b)\n",
    "print(c)"
   ]
  },
  {
   "cell_type": "code",
   "execution_count": 49,
   "metadata": {},
   "outputs": [
    {
     "name": "stdout",
     "output_type": "stream",
     "text": [
      "[11 22 33 44  4]\n",
      "[11 22 33 44  4]\n",
      "\n",
      "[11 22 33 44 55]\n",
      "[11 22 33 44  4]\n"
     ]
    }
   ],
   "source": [
    "e = a.copy() # deep copy\n",
    "print(a)\n",
    "print(e)\n",
    "a[4] = 55 # 改变 a 的第 4 个元素为 55 \n",
    "print()\n",
    "print(a)\n",
    "print(e)"
   ]
  },
  {
   "cell_type": "code",
   "execution_count": null,
   "metadata": {},
   "outputs": [],
   "source": []
  }
 ],
 "metadata": {
  "kernelspec": {
   "display_name": "Python 3",
   "language": "python",
   "name": "python3"
  },
  "language_info": {
   "codemirror_mode": {
    "name": "ipython",
    "version": 3
   },
   "file_extension": ".py",
   "mimetype": "text/x-python",
   "name": "python",
   "nbconvert_exporter": "python",
   "pygments_lexer": "ipython3",
   "version": "3.7.0"
  }
 },
 "nbformat": 4,
 "nbformat_minor": 2
}
