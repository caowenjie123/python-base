{
 "cells": [
  {
   "cell_type": "code",
   "execution_count": 10,
   "metadata": {},
   "outputs": [
    {
     "name": "stdout",
     "output_type": "stream",
     "text": [
      "This is an added Thread,number is <Thread(Thread-9, started 3832)>5\n",
      "\n",
      "[<_MainThread(MainThread, started 5836)>, <Thread(Thread-4, started daemon 4408)>, <Heartbeat(Thread-5, started daemon 6540)>, <HistorySavingThread(IPythonHistorySavingThread, started 5152)>]\n",
      "<_MainThread(MainThread, started 5836)>\n"
     ]
    }
   ],
   "source": [
    "import threading\n",
    "\n",
    "def thread_job():\n",
    "    print('This is an added Thread,number is %s'%threading.current_thread())\n",
    "\n",
    "def main():\n",
    "    # 加一个线程\n",
    "    added_thread = threading.Thread(target=thread_job)\n",
    "    # 执行这个线程\n",
    "    added_thread.start()\n",
    "    \n",
    "    # 打印现在运行的线程数\n",
    "    print(threading.active_count())\n",
    "    # 打印现在运行的线程名称\n",
    "    print(threading.enumerate())\n",
    "    # 打印当前运行的线程名称：主线程\n",
    "    print(threading.current_thread())\n",
    "\n",
    "if __name__=='__main__':\n",
    "    main()"
   ]
  },
  {
   "cell_type": "code",
   "execution_count": 11,
   "metadata": {},
   "outputs": [
    {
     "name": "stdout",
     "output_type": "stream",
     "text": [
      "This is an added Thread,number is <Thread(Thread-10, started 6444)>\n"
     ]
    }
   ],
   "source": [
    "import threading\n",
    "\n",
    "def thread_job():\n",
    "    print('This is an added Thread,number is %s'%threading.current_thread())\n",
    "\n",
    "def main():\n",
    "    # 加一个线程\n",
    "    added_thread = threading.Thread(target=thread_job)\n",
    "    # 执行这个线程\n",
    "    added_thread.start()\n",
    "    \n",
    "if __name__=='__main__':\n",
    "    main()"
   ]
  },
  {
   "cell_type": "code",
   "execution_count": 14,
   "metadata": {},
   "outputs": [
    {
     "name": "stdout",
     "output_type": "stream",
     "text": [
      "T1 start\n",
      "all done\n",
      "\n",
      "\n",
      "T1 finish\n",
      "\n"
     ]
    }
   ],
   "source": [
    "# 同时进行的线程任务，没有等到所有线程都结束就输出了 all done\n",
    "\n",
    "import threading\n",
    "import time\n",
    "\n",
    "def thread_job():\n",
    "    print(\"T1 start\\n\")\n",
    "    for i in range(10):\n",
    "        time.sleep(0.1)\n",
    "    print(\"T1 finish\\n\")\n",
    "        \n",
    "        \n",
    "def main():\n",
    "    # 加一个线程\n",
    "    added_thread = threading.Thread(target=thread_job,name=\"T1\")\n",
    "    # 执行这个线程\n",
    "    added_thread.start()\n",
    "    print(\"all done\\n\")\n",
    "    \n",
    "if __name__=='__main__':\n",
    "    main()"
   ]
  },
  {
   "cell_type": "code",
   "execution_count": 17,
   "metadata": {},
   "outputs": [
    {
     "name": "stdout",
     "output_type": "stream",
     "text": [
      "T1 start\n",
      "\n",
      "T2 start\n",
      "\n",
      "T2 finish\n",
      "\n",
      "T1 finish\n",
      "\n",
      "all done\n",
      "\n"
     ]
    }
   ],
   "source": [
    "# 等到所有线程都结束才输出 all done\n",
    "\n",
    "import threading\n",
    "import time\n",
    "\n",
    "def thread_job():\n",
    "    print(\"T1 start\\n\")\n",
    "    for i in range(10):\n",
    "        time.sleep(0.1)\n",
    "    print(\"T1 finish\\n\")\n",
    "        \n",
    "def T2_job():\n",
    "    print(\"T2 start\\n\")\n",
    "    print(\"T2 finish\\n\")\n",
    "        \n",
    "        \n",
    "def main():\n",
    "    # 加一个线程\n",
    "    added_thread = threading.Thread(target=thread_job,name=\"T1\")\n",
    "    thread2 = threading.Thread(target=T2_job,name='T2')\n",
    "    # 执行这个线程\n",
    "    added_thread.start()\n",
    "    thread2.start()\n",
    "    added_thread.join()\n",
    "    thread2.join()\n",
    "    print(\"all done\\n\")\n",
    "    \n",
    "if __name__=='__main__':\n",
    "    main()"
   ]
  },
  {
   "cell_type": "code",
   "execution_count": 21,
   "metadata": {},
   "outputs": [
    {
     "name": "stdout",
     "output_type": "stream",
     "text": [
      "[[1, 4, 9], [9, 16, 25], [16, 16, 16], [25, 25, 25]]\n"
     ]
    }
   ],
   "source": [
    "import threading\n",
    "import time\n",
    "from queue import Queue\n",
    "\n",
    "def job(l,q):\n",
    "    for i in range(len(l)):\n",
    "        l[i] = l[i]**2\n",
    "    # 多线程无法return\n",
    "    # return l\n",
    "    q.put(l)\n",
    "\n",
    "def multithreading():\n",
    "    q=Queue()\n",
    "    threads =[]\n",
    "    data = [[1,2,3],[3,4,5],[4,4,4],[5,5,5]]\n",
    "    for i in range(4):\n",
    "        t = threading.Thread(target=job,args=(data[i],q))\n",
    "        t.start()\n",
    "        threads.append(t)\n",
    "    for thread in threads:\n",
    "        thread.join()\n",
    "    results = []\n",
    "    for i in range(4):\n",
    "        results.append(q.get())\n",
    "    print(results)\n",
    "\n",
    "if __name__ == '__main__':\n",
    "    multithreading()"
   ]
  },
  {
   "cell_type": "code",
   "execution_count": 24,
   "metadata": {},
   "outputs": [
    {
     "name": "stdout",
     "output_type": "stream",
     "text": [
      "1999998000000\n",
      "normal:  0.29420995712280273\n",
      "1999998000000\n",
      "multithreading:  0.2504551410675049\n"
     ]
    }
   ],
   "source": [
    "import threading\n",
    "from queue import Queue\n",
    "import copy\n",
    "import time\n",
    "\n",
    "def job(l, q):\n",
    "    res = sum(l)\n",
    "    q.put(res)\n",
    "\n",
    "def multithreading(l):\n",
    "    q = Queue()\n",
    "    threads = []\n",
    "    for i in range(4):\n",
    "        t = threading.Thread(target=job, args=(copy.copy(l), q), name='T%i' % i)\n",
    "        t.start()\n",
    "        threads.append(t)\n",
    "    [t.join() for t in threads]\n",
    "    total = 0\n",
    "    for _ in range(4):\n",
    "        total += q.get()\n",
    "    print(total)\n",
    "\n",
    "def normal(l):\n",
    "    total = sum(l)\n",
    "    print(total)\n",
    "\n",
    "if __name__ == '__main__':\n",
    "    l = list(range(1000000))\n",
    "    s_t = time.time()\n",
    "    normal(l*4)\n",
    "    print('normal: ',time.time()-s_t)\n",
    "    s_t = time.time()\n",
    "    multithreading(l)\n",
    "    print('multithreading: ', time.time()-s_t)\n",
    "\n",
    "# 相当于扣除了输入输出的运算"
   ]
  },
  {
   "cell_type": "code",
   "execution_count": 26,
   "metadata": {},
   "outputs": [
    {
     "name": "stdout",
     "output_type": "stream",
     "text": [
      "job1job2 1\n",
      "job1 12\n",
      "job1 13\n",
      "job1 14\n",
      "job1 15\n",
      "job1 16\n",
      "job1 17\n",
      " 11\n",
      "job2 27\n",
      "job2 37\n",
      "job2 47\n",
      "job2 57\n",
      "job2 67\n",
      "job2 77\n",
      "job2 87\n",
      "job2 97\n",
      "job2 107\n",
      "job1 108\n",
      "job1 109\n",
      "job1 110\n"
     ]
    }
   ],
   "source": [
    "# 打印的很乱\n",
    "import threading\n",
    "\n",
    "def job1():\n",
    "    global A\n",
    "    for i in range(10):\n",
    "        A+= 1\n",
    "        print('job1',A)\n",
    "\n",
    "def job2():\n",
    "    global A\n",
    "    for i in range(10):\n",
    "        A+= 10\n",
    "        print('job2',A)\n",
    "    \n",
    "    \n",
    "if __name__ == '__main__':\n",
    "    A = 0\n",
    "    t1 = threading.Thread(target=job1)\n",
    "    t2 = threading.Thread(target=job2)\n",
    "    t1.start()\n",
    "    t2.start()\n",
    "    t1.join()\n",
    "    t2.join()"
   ]
  },
  {
   "cell_type": "code",
   "execution_count": 27,
   "metadata": {},
   "outputs": [
    {
     "name": "stdout",
     "output_type": "stream",
     "text": [
      "job1 1\n",
      "job1 2\n",
      "job1 3\n",
      "job1 4\n",
      "job1 5\n",
      "job1 6\n",
      "job1 7\n",
      "job1 8\n",
      "job1 9\n",
      "job1 10\n",
      "job2 20\n",
      "job2 30\n",
      "job2 40\n",
      "job2 50\n",
      "job2 60\n",
      "job2 70\n",
      "job2 80\n",
      "job2 90\n",
      "job2 100\n",
      "job2 110\n"
     ]
    }
   ],
   "source": [
    "# 我们想先做完job1在做job2，用到了 lock\n",
    "\n",
    "import threading\n",
    "\n",
    "def job1():\n",
    "    global A,lock\n",
    "    lock.acquire()\n",
    "    for i in range(10):\n",
    "        A+= 1\n",
    "        print('job1',A)\n",
    "    lock.release()\n",
    "\n",
    "def job2():\n",
    "    global A,lock\n",
    "    lock.acquire()\n",
    "    for i in range(10):\n",
    "        A+= 10\n",
    "        print('job2',A)\n",
    "    lock.release()\n",
    "    \n",
    "    \n",
    "if __name__ == '__main__':\n",
    "    lock = threading.Lock()\n",
    "    A = 0\n",
    "    t1 = threading.Thread(target=job1)\n",
    "    t2 = threading.Thread(target=job2)\n",
    "    t1.start()\n",
    "    t2.start()\n",
    "    t1.join()\n",
    "    t2.join()\n"
   ]
  },
  {
   "cell_type": "code",
   "execution_count": null,
   "metadata": {},
   "outputs": [],
   "source": []
  }
 ],
 "metadata": {
  "kernelspec": {
   "display_name": "Python 3",
   "language": "python",
   "name": "python3"
  },
  "language_info": {
   "codemirror_mode": {
    "name": "ipython",
    "version": 3
   },
   "file_extension": ".py",
   "mimetype": "text/x-python",
   "name": "python",
   "nbconvert_exporter": "python",
   "pygments_lexer": "ipython3",
   "version": "3.7.0"
  }
 },
 "nbformat": 4,
 "nbformat_minor": 2
}
