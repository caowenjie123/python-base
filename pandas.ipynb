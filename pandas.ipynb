{
 "cells": [
  {
   "cell_type": "code",
   "execution_count": 1,
   "metadata": {},
   "outputs": [
    {
     "name": "stdout",
     "output_type": "stream",
     "text": [
      "0     1.0\n",
      "1     3.0\n",
      "2     6.0\n",
      "3     NaN\n",
      "4    33.0\n",
      "5     1.0\n",
      "dtype: float64\n"
     ]
    }
   ],
   "source": [
    "import pandas as pd # 导入 pandas 这个包，并简写为 pd\n",
    "import numpy as np # 导入 numpy 软件包，并简写为 np\n",
    "s = pd.Series([1,3,6,np.nan,33,1]) # 定义序列，其中元素为 1,3,6,缺失值,33,1\n",
    "print(s) # 我没有给这个序列定义索引，它会使用默认的索引 0,1,2,3,4,5"
   ]
  },
  {
   "cell_type": "code",
   "execution_count": 2,
   "metadata": {},
   "outputs": [
    {
     "name": "stdout",
     "output_type": "stream",
     "text": [
      "   0  1   2   3\n",
      "0  0  1   2   3\n",
      "1  4  5   6   7\n",
      "2  8  9  10  11\n"
     ]
    }
   ],
   "source": [
    "df1 = pd.DataFrame(np.arange(12).reshape(3,4)) # 定义一个 3 行 4 列元素为 0,1,2,3...,11 的 DataFrame \n",
    "print(df1) # 由于我没有定义行和列的索引或者说行标题和列标题，所以它使用默认索引 0,1,2..."
   ]
  },
  {
   "cell_type": "code",
   "execution_count": 3,
   "metadata": {},
   "outputs": [
    {
     "name": "stdout",
     "output_type": "stream",
     "text": [
      "DatetimeIndex(['2017-11-11', '2017-11-12', '2017-11-13', '2017-11-14',\n",
      "               '2017-11-15', '2017-11-16'],\n",
      "              dtype='datetime64[ns]', freq='D')\n",
      "\n",
      "2017-11-11    1\n",
      "2017-11-12    2\n",
      "2017-11-13    3\n",
      "2017-11-14    4\n",
      "2017-11-15    5\n",
      "2017-11-16    6\n",
      "Freq: D, dtype: int64\n",
      "\n",
      "                   a         b         c         d\n",
      "2017-11-11  0.907260  0.270987 -0.079362 -0.460997\n",
      "2017-11-12  0.451933 -0.105476  0.792105 -2.482590\n",
      "2017-11-13  0.373847  0.011038  0.710344 -0.984425\n",
      "2017-11-14  1.289990  2.187820 -0.258915 -1.643058\n",
      "2017-11-15 -0.336901 -0.049439 -0.128960  0.579649\n",
      "2017-11-16  0.203927 -2.189606  0.812812 -0.178001\n"
     ]
    }
   ],
   "source": [
    "dates = pd.date_range('20171111',periods=6) # 定义一个时间的索引从 2017-11-11 到 2017-11-16\n",
    "print(dates)\n",
    "print()\n",
    "ts = pd.Series([1,2,3,4,5,6],index=dates) # 定义一个时间序列数据，采用上面定义的时间索引\n",
    "print(ts)\n",
    "print()\n",
    "df = pd.DataFrame(np.random.randn(6,4),index=dates,columns=['a','b','c','d']) # 定义一个时间序列数据框，采用上面定义的时间索引\n",
    "print(df)"
   ]
  },
  {
   "cell_type": "code",
   "execution_count": 4,
   "metadata": {},
   "outputs": [
    {
     "name": "stdout",
     "output_type": "stream",
     "text": [
      "     A          B  C  D      E    F\n",
      "0  1.0 2013-01-02  1  3   test  foo\n",
      "1  1.0 2013-01-02  1  3  train  foo\n",
      "2  1.0 2013-01-02  1  3   test  foo\n",
      "3  1.0 2013-01-02  1  3  train  foo\n",
      "\n",
      "A           float64\n",
      "B    datetime64[ns]\n",
      "C             int64\n",
      "D             int32\n",
      "E          category\n",
      "F            object\n",
      "dtype: object\n",
      "\n",
      "Int64Index([0, 1, 2, 3], dtype='int64')\n",
      "\n",
      "Index(['A', 'B', 'C', 'D', 'E', 'F'], dtype='object')\n",
      "\n",
      "[[1.0 Timestamp('2013-01-02 00:00:00') 1 3 'test' 'foo']\n",
      " [1.0 Timestamp('2013-01-02 00:00:00') 1 3 'train' 'foo']\n",
      " [1.0 Timestamp('2013-01-02 00:00:00') 1 3 'test' 'foo']\n",
      " [1.0 Timestamp('2013-01-02 00:00:00') 1 3 'train' 'foo']]\n",
      "\n",
      "         A    C    D\n",
      "count  4.0  4.0  4.0\n",
      "mean   1.0  1.0  3.0\n",
      "std    0.0  0.0  0.0\n",
      "min    1.0  1.0  3.0\n",
      "25%    1.0  1.0  3.0\n",
      "50%    1.0  1.0  3.0\n",
      "75%    1.0  1.0  3.0\n",
      "max    1.0  1.0  3.0\n"
     ]
    }
   ],
   "source": [
    "# 定义一个数据框\n",
    "df2 = pd.DataFrame({'A':1.,'B':pd.Timestamp('20130102'),'C':pd.Series(1,index=list(range(4))),\n",
    "                    'D':np.array([3]*4,dtype='int32'),'E':pd.Categorical(['test','train','test','train']),'F':'foo'})\n",
    "\n",
    "print(df2)\n",
    "print()\n",
    "print(df2.dtypes) # 输出每一列值的 type\n",
    "print()\n",
    "print(df2.index) # 输出每一行的 index\n",
    "print()\n",
    "print(df2.columns) # 输出每一列值的 index\n",
    "print()\n",
    "print(df2.values) # 输出这个数据框的值\n",
    "print()\n",
    "print(df2.describe()) # 输出这个数据框的描述性统计，只对数值型变量做描述性统计，非数值型变量会跳过"
   ]
  },
  {
   "cell_type": "code",
   "execution_count": 5,
   "metadata": {},
   "outputs": [
    {
     "name": "stdout",
     "output_type": "stream",
     "text": [
      "     A          B  C  D      E    F\n",
      "0  1.0 2013-01-02  1  3   test  foo\n",
      "1  1.0 2013-01-02  1  3  train  foo\n",
      "2  1.0 2013-01-02  1  3   test  foo\n",
      "3  1.0 2013-01-02  1  3  train  foo\n",
      "\n",
      "                     0                    1                    2  \\\n",
      "A                    1                    1                    1   \n",
      "B  2013-01-02 00:00:00  2013-01-02 00:00:00  2013-01-02 00:00:00   \n",
      "C                    1                    1                    1   \n",
      "D                    3                    3                    3   \n",
      "E                 test                train                 test   \n",
      "F                  foo                  foo                  foo   \n",
      "\n",
      "                     3  \n",
      "A                    1  \n",
      "B  2013-01-02 00:00:00  \n",
      "C                    1  \n",
      "D                    3  \n",
      "E                train  \n",
      "F                  foo  \n",
      "\n",
      "     F      E  D  C          B    A\n",
      "0  foo   test  3  1 2013-01-02  1.0\n",
      "1  foo  train  3  1 2013-01-02  1.0\n",
      "2  foo   test  3  1 2013-01-02  1.0\n",
      "3  foo  train  3  1 2013-01-02  1.0\n",
      "\n",
      "     A          B  C  D      E    F\n",
      "3  1.0 2013-01-02  1  3  train  foo\n",
      "2  1.0 2013-01-02  1  3   test  foo\n",
      "1  1.0 2013-01-02  1  3  train  foo\n",
      "0  1.0 2013-01-02  1  3   test  foo\n",
      "\n",
      "     A          B  C  D      E    F\n",
      "0  1.0 2013-01-02  1  3   test  foo\n",
      "2  1.0 2013-01-02  1  3   test  foo\n",
      "1  1.0 2013-01-02  1  3  train  foo\n",
      "3  1.0 2013-01-02  1  3  train  foo\n"
     ]
    }
   ],
   "source": [
    "print(df2)\n",
    "print()\n",
    "print(df2.T) # 对这个数据框进行转置\n",
    "print()\n",
    "print(df2.sort_index(axis=1,ascending=False)) # 根据列索引对列（axis=1）进行反向排序（ascending=False）\n",
    "print()\n",
    "print(df2.sort_index(axis=0,ascending=False)) # 根据行索引对行（axis=0）进行反向排序（ascending=False）\n",
    "print()\n",
    "print(df2.sort_values(by='E')) # 根据 E 那一列的值对这个数据框进行排序"
   ]
  },
  {
   "cell_type": "code",
   "execution_count": 6,
   "metadata": {},
   "outputs": [
    {
     "name": "stdout",
     "output_type": "stream",
     "text": [
      "             a   b   c   d\n",
      "2017-01-01   0   1   2   3\n",
      "2017-01-02   4   5   6   7\n",
      "2017-01-03   8   9  10  11\n",
      "2017-01-04  12  13  14  15\n",
      "2017-01-05  16  17  18  19\n",
      "2017-01-06  20  21  22  23\n",
      "\n",
      "2017-01-01     1\n",
      "2017-01-02     5\n",
      "2017-01-03     9\n",
      "2017-01-04    13\n",
      "2017-01-05    17\n",
      "2017-01-06    21\n",
      "Freq: D, Name: b, dtype: int32\n",
      "\n",
      "2017-01-01     1\n",
      "2017-01-02     5\n",
      "2017-01-03     9\n",
      "2017-01-04    13\n",
      "2017-01-05    17\n",
      "2017-01-06    21\n",
      "Freq: D, Name: b, dtype: int32\n",
      "\n",
      "            a  b  c  d\n",
      "2017-01-01  0  1  2  3\n",
      "2017-01-02  4  5  6  7\n",
      "            a  b  c  d\n",
      "2017-01-01  0  1  2  3\n",
      "2017-01-02  4  5  6  7\n"
     ]
    }
   ],
   "source": [
    "import pandas as pd\n",
    "import numpy as np\n",
    "dates = pd.date_range('20170101',periods=6) # 定义时间索引 从 20170101 到 20170106\n",
    "df = pd.DataFrame(np.arange(24).reshape((6,4)),index=dates,columns=['a','b','c','d']) # 定义一个 DataFrame\n",
    "print(df)\n",
    "print()\n",
    "print(df['b']) # 输出 'b' 这一列数据\n",
    "print()\n",
    "print(df.b) # 输出 'b' 这一列数据\n",
    "print()\n",
    "print(df[0:2]) # 输出第 0 到第 1 行，与 python 中的列表一样——左闭右开\n",
    "print(df['20170101':'20170102']) # 输出第 '20170101' 行到第 '20170102' 行，这个是闭区间——左右都取得到"
   ]
  },
  {
   "cell_type": "code",
   "execution_count": 7,
   "metadata": {},
   "outputs": [
    {
     "name": "stdout",
     "output_type": "stream",
     "text": [
      "             a   b   c   d\n",
      "2017-01-01   0   1   2   3\n",
      "2017-01-02   4   5   6   7\n",
      "2017-01-03   8   9  10  11\n",
      "2017-01-04  12  13  14  15\n",
      "2017-01-05  16  17  18  19\n",
      "2017-01-06  20  21  22  23\n",
      "\n",
      "a     8\n",
      "b     9\n",
      "c    10\n",
      "d    11\n",
      "Name: 2017-01-03 00:00:00, dtype: int32\n",
      "\n",
      "             a   c\n",
      "2017-01-01   0   2\n",
      "2017-01-02   4   6\n",
      "2017-01-03   8  10\n",
      "2017-01-04  12  14\n",
      "2017-01-05  16  18\n",
      "2017-01-06  20  22\n",
      "\n",
      "a    16\n",
      "c    18\n",
      "Name: 2017-01-05 00:00:00, dtype: int32\n"
     ]
    }
   ],
   "source": [
    "# select by label:loc 根据标签（label）来选择数据\n",
    "print(df)\n",
    "print()\n",
    "print(df.loc['20170103']) # 以标签的名义选择\n",
    "print()\n",
    "print(df.loc[:,['a','c']]) # 输出 'a' 和 'c' 列的所有的值\n",
    "print()\n",
    "print(df.loc['20170105',['a','c']]) # 输出 '20170105' 行 'a' 和 'c' 的值"
   ]
  },
  {
   "cell_type": "code",
   "execution_count": 8,
   "metadata": {},
   "outputs": [
    {
     "name": "stdout",
     "output_type": "stream",
     "text": [
      "             a   b   c   d\n",
      "2017-01-01   0   1   2   3\n",
      "2017-01-02   4   5   6   7\n",
      "2017-01-03   8   9  10  11\n",
      "2017-01-04  12  13  14  15\n",
      "2017-01-05  16  17  18  19\n",
      "2017-01-06  20  21  22  23\n",
      "\n",
      "a    12\n",
      "b    13\n",
      "c    14\n",
      "d    15\n",
      "Name: 2017-01-04 00:00:00, dtype: int32\n",
      "\n",
      "13\n",
      "\n",
      "             b   c\n",
      "2017-01-04  13  14\n",
      "2017-01-05  17  18\n",
      "\n",
      "             b   c\n",
      "2017-01-02   5   6\n",
      "2017-01-04  13  14\n",
      "2017-01-06  21  22\n"
     ]
    }
   ],
   "source": [
    "# select by position:iloc 根据位置（index）选择数据\n",
    "print(df)\n",
    "print()\n",
    "print(df.iloc[3]) # 输出第三行的数据\n",
    "print()\n",
    "print(df.iloc[3,1]) # 输出第三行的第一位数据\n",
    "print()\n",
    "print(df.iloc[3:5,1:3]) # 输出第三到第四行的第一到第二列的数据\n",
    "print()\n",
    "print(df.iloc[[1,3,5],1:3]) # 输出第一第三第五行的第一到第二列的数据"
   ]
  },
  {
   "cell_type": "code",
   "execution_count": 9,
   "metadata": {},
   "outputs": [
    {
     "name": "stdout",
     "output_type": "stream",
     "text": [
      "             a   b   c   d\n",
      "2017-01-01   0   1   2   3\n",
      "2017-01-02   4   5   6   7\n",
      "2017-01-03   8   9  10  11\n",
      "2017-01-04  12  13  14  15\n",
      "2017-01-05  16  17  18  19\n",
      "2017-01-06  20  21  22  23\n",
      "\n",
      "            a   c\n",
      "2017-01-01  0   2\n",
      "2017-01-02  4   6\n",
      "2017-01-03  8  10\n"
     ]
    },
    {
     "name": "stderr",
     "output_type": "stream",
     "text": [
      "D:\\a\\lib\\site-packages\\ipykernel_launcher.py:4: DeprecationWarning: \n",
      ".ix is deprecated. Please use\n",
      ".loc for label based indexing or\n",
      ".iloc for positional indexing\n",
      "\n",
      "See the documentation here:\n",
      "http://pandas.pydata.org/pandas-docs/stable/indexing.html#ix-indexer-is-deprecated\n",
      "  after removing the cwd from sys.path.\n"
     ]
    }
   ],
   "source": [
    "# mixed selection:ix 结合 label 和 index 对数据进行选择\n",
    "print(df)\n",
    "print()\n",
    "print(df.ix[:3,['a','c']]) # 输出第零到第二行，'a' 和 'c' 列的数据"
   ]
  },
  {
   "cell_type": "code",
   "execution_count": 10,
   "metadata": {},
   "outputs": [
    {
     "name": "stdout",
     "output_type": "stream",
     "text": [
      "             a   b   c   d\n",
      "2017-01-01   0   1   2   3\n",
      "2017-01-02   4   5   6   7\n",
      "2017-01-03   8   9  10  11\n",
      "2017-01-04  12  13  14  15\n",
      "2017-01-05  16  17  18  19\n",
      "2017-01-06  20  21  22  23\n",
      "\n",
      "             a   b   c   d\n",
      "2017-01-04  12  13  14  15\n",
      "2017-01-05  16  17  18  19\n",
      "2017-01-06  20  21  22  23\n"
     ]
    }
   ],
   "source": [
    "# Boolean indexing 根据判断结果选择数据\n",
    "print(df)\n",
    "print()\n",
    "print(df[df.a>8]) # 输出 'a' 列值大于 8 的所有数据"
   ]
  },
  {
   "cell_type": "code",
   "execution_count": 11,
   "metadata": {},
   "outputs": [
    {
     "name": "stdout",
     "output_type": "stream",
     "text": [
      "             a   b   c   d\n",
      "2017-01-01   0   1   2   3\n",
      "2017-01-02   4   5   6   7\n",
      "2017-01-03   8   9  10  11\n",
      "2017-01-04  12  13  14  15\n",
      "2017-01-05  16  17  18  19\n",
      "2017-01-06  20  21  22  23\n",
      "\n",
      "             a     b     c   d\n",
      "2017-01-01   0   NaN   2.0   3\n",
      "2017-01-02   4   5.0   NaN   7\n",
      "2017-01-03   8   9.0  10.0  11\n",
      "2017-01-04  12  13.0  14.0  15\n",
      "2017-01-05  16  17.0  18.0  19\n",
      "2017-01-06  20  21.0  22.0  23\n",
      "\n",
      "                a      b      c      d\n",
      "2017-01-01  False   True  False  False\n",
      "2017-01-02  False  False   True  False\n",
      "2017-01-03  False  False  False  False\n",
      "2017-01-04  False  False  False  False\n",
      "2017-01-05  False  False  False  False\n",
      "2017-01-06  False  False  False  False\n",
      "\n",
      "True\n"
     ]
    }
   ],
   "source": [
    "dates = pd.date_range('20170101',periods=6) # 定义时间索引 从 20170101 到 20170106\n",
    "df = pd.DataFrame(np.arange(24).reshape((6,4)),index=dates,columns=['a','b','c','d']) # 定义一个 DataFrame\n",
    "print(df)\n",
    "print()\n",
    "df.iloc[0,1] = np.nan # iloc:按照 index 将上面的 DataFrame 第 0 行第 1 列数据更改为 NaN 缺失数据\n",
    "df.iloc[1,2] = np.nan # iloc:按照 index 将上面的 DataFrame 第 1 行第 2 列数据更改为 NaN 缺失数据\n",
    "print(df)\n",
    "print()\n",
    "print(df.isnull()) # 判断 DataFrame 里每一个数据是否为缺失数据，是的返回 True 不是返回 False \n",
    "print()\n",
    "print(np.any(df.isnull())==True) # DataFrame 里只要有一个缺失数据就返回 True，否则返回 False\n",
    "# 注意每一次输出都没有改变 df 的值"
   ]
  },
  {
   "cell_type": "code",
   "execution_count": 12,
   "metadata": {},
   "outputs": [
    {
     "name": "stdout",
     "output_type": "stream",
     "text": [
      "             a   b   c   d\n",
      "2017-01-01   0   1   2   3\n",
      "2017-01-02   4   5   6   7\n",
      "2017-01-03   8   9  10  11\n",
      "2017-01-04  12  13  14  15\n",
      "2017-01-05  16  17  18  19\n",
      "2017-01-06  20  21  22  23\n",
      "\n",
      "             a     b     c   d\n",
      "2017-01-01   0   NaN   2.0   3\n",
      "2017-01-02   4   5.0   NaN   7\n",
      "2017-01-03   8   9.0  10.0  11\n",
      "2017-01-04  12  13.0  14.0  15\n",
      "2017-01-05  16  17.0  18.0  19\n",
      "2017-01-06  20  21.0  22.0  23\n",
      "\n",
      "             a     b     c   d\n",
      "2017-01-03   8   9.0  10.0  11\n",
      "2017-01-04  12  13.0  14.0  15\n",
      "2017-01-05  16  17.0  18.0  19\n",
      "2017-01-06  20  21.0  22.0  23\n",
      "\n",
      "             a     b     c   d\n",
      "2017-01-03   8   9.0  10.0  11\n",
      "2017-01-04  12  13.0  14.0  15\n",
      "2017-01-05  16  17.0  18.0  19\n",
      "2017-01-06  20  21.0  22.0  23\n",
      "\n",
      "             a   d\n",
      "2017-01-01   0   3\n",
      "2017-01-02   4   7\n",
      "2017-01-03   8  11\n",
      "2017-01-04  12  15\n",
      "2017-01-05  16  19\n",
      "2017-01-06  20  23\n"
     ]
    }
   ],
   "source": [
    "\n",
    "import pandas as pd\n",
    "import numpy as np\n",
    "dates = pd.date_range('20170101',periods=6) # 定义时间索引 从 20170101 到 20170106\n",
    "df = pd.DataFrame(np.arange(24).reshape((6,4)),index=dates,columns=['a','b','c','d']) # 定义一个 DataFrame\n",
    "print(df)\n",
    "print()\n",
    "df.iloc[0,1] = np.nan # iloc:按照 index 将上面的 DataFrame 第 0 行第 1 列数据更改为 NaN 缺失数据\n",
    "df.iloc[1,2] = np.nan # iloc:按照 index 将上面的 DataFrame 第 1 行第 2 列数据更改为 NaN 缺失数据\n",
    "print(df)\n",
    "print()\n",
    "print(df.dropna()) # 默认是去掉有缺失值的行\n",
    "print()\n",
    "print(df.dropna(axis=0,how='any')) # 将有缺失值的行直接去掉\n",
    "print()\n",
    "print(df.dropna(axis=1,how='any')) # 将有缺失值的列直接去掉\n",
    "# 注意每一次输出都没有改变 df 的值"
   ]
  },
  {
   "cell_type": "code",
   "execution_count": 13,
   "metadata": {},
   "outputs": [
    {
     "name": "stdout",
     "output_type": "stream",
     "text": [
      "             a   b   c   d\n",
      "2017-01-01   0   1   2   3\n",
      "2017-01-02   4   5   6   7\n",
      "2017-01-03   8   9  10  11\n",
      "2017-01-04  12  13  14  15\n",
      "2017-01-05  16  17  18  19\n",
      "2017-01-06  20  21  22  23\n",
      "\n",
      "               a     b     c     d\n",
      "2017-01-01   0.0   1.0   2.0   3.0\n",
      "2017-01-02   NaN   NaN   NaN   NaN\n",
      "2017-01-03   8.0   NaN  10.0  11.0\n",
      "2017-01-04  12.0  13.0  14.0  15.0\n",
      "2017-01-05  16.0  17.0  18.0  19.0\n",
      "2017-01-06  20.0  21.0  22.0  23.0\n",
      "\n",
      "               a     b     c     d\n",
      "2017-01-01   0.0   1.0   2.0   3.0\n",
      "2017-01-03   8.0   NaN  10.0  11.0\n",
      "2017-01-04  12.0  13.0  14.0  15.0\n",
      "2017-01-05  16.0  17.0  18.0  19.0\n",
      "2017-01-06  20.0  21.0  22.0  23.0\n"
     ]
    }
   ],
   "source": [
    "dates = pd.date_range('20170101',periods=6) # 定义时间索引 从 20170101 到 20170106\n",
    "df = pd.DataFrame(np.arange(24).reshape((6,4)),index=dates,columns=['a','b','c','d']) # 定义一个 DataFrame\n",
    "print(df)\n",
    "print()\n",
    "df.iloc[1,:] = np.nan # iloc:按照 index 将上面的 DataFrame 第 1 行所有数据更改为 NaN 缺失数据\n",
    "df.iloc[2,1] = np.nan # iloc:按照 index 将上面的 DataFrame 第 2 行第 1 列数据更改为 NaN 缺失数据\n",
    "print(df)\n",
    "print()\n",
    "print(df.dropna(axis=0,how='all')) # 将全是缺失值的行去掉\n",
    "# 注意每一次输出都没有改变 df 的值"
   ]
  },
  {
   "cell_type": "code",
   "execution_count": 14,
   "metadata": {},
   "outputs": [
    {
     "name": "stdout",
     "output_type": "stream",
     "text": [
      "             a   b   c   d\n",
      "2017-01-01   0   1   2   3\n",
      "2017-01-02   4   5   6   7\n",
      "2017-01-03   8   9  10  11\n",
      "2017-01-04  12  13  14  15\n",
      "2017-01-05  16  17  18  19\n",
      "2017-01-06  20  21  22  23\n",
      "\n",
      "             a     b     c   d\n",
      "2017-01-01   0   NaN   2.0   3\n",
      "2017-01-02   4   5.0   NaN   7\n",
      "2017-01-03   8   9.0  10.0  11\n",
      "2017-01-04  12  13.0  14.0  15\n",
      "2017-01-05  16  17.0  18.0  19\n",
      "2017-01-06  20  21.0  22.0  23\n",
      "\n",
      "             a     b     c   d\n",
      "2017-01-01   0   0.0   2.0   3\n",
      "2017-01-02   4   5.0   0.0   7\n",
      "2017-01-03   8   9.0  10.0  11\n",
      "2017-01-04  12  13.0  14.0  15\n",
      "2017-01-05  16  17.0  18.0  19\n",
      "2017-01-06  20  21.0  22.0  23\n",
      "\n",
      "             a     b     c   d\n",
      "2017-01-01   0  13.0   2.0   3\n",
      "2017-01-02   4   5.0  13.2   7\n",
      "2017-01-03   8   9.0  10.0  11\n",
      "2017-01-04  12  13.0  14.0  15\n",
      "2017-01-05  16  17.0  18.0  19\n",
      "2017-01-06  20  21.0  22.0  23\n"
     ]
    }
   ],
   "source": [
    "dates = pd.date_range('20170101',periods=6) # 定义时间索引 从 20170101 到 20170106\n",
    "df = pd.DataFrame(np.arange(24).reshape((6,4)),index=dates,columns=['a','b','c','d']) # 定义一个 DataFrame\n",
    "print(df)\n",
    "print()\n",
    "df.iloc[0,1] = np.nan # iloc:按照 index 将上面的 DataFrame 第 0 行第 1 列数据更改为 NaN 缺失数据\n",
    "df.iloc[1,2] = np.nan # iloc:按照 index 将上面的 DataFrame 第 1 行第 2 列数据更改为 NaN 缺失数据\n",
    "print(df)\n",
    "print()\n",
    "print(df.fillna(value=0)) # 用 0 填补缺失值，用 print(df.fillna(0)) 也可以\n",
    "print()\n",
    "print(df.fillna(df.mean())) # 用列均值进行填补\n",
    "# 注意每一次输出都没有改变 df 的值"
   ]
  },
  {
   "cell_type": "code",
   "execution_count": 15,
   "metadata": {},
   "outputs": [
    {
     "name": "stdout",
     "output_type": "stream",
     "text": [
      "             a   b   c   d\n",
      "2017-01-01   0   1   2   3\n",
      "2017-01-02   4   5   6   7\n",
      "2017-01-03   8   9  10  11\n",
      "2017-01-04  12  13  14  15\n",
      "2017-01-05  16  17  18  19\n",
      "2017-01-06  20  21  22  23\n",
      "\n",
      "             a   b     c   d\n",
      "2017-01-01   0   1     2   3\n",
      "2017-01-02   4   5     6   7\n",
      "2017-01-03   8   9  1111  11\n",
      "2017-01-04  12  13    14  15\n",
      "2017-01-05  16  17    18  19\n",
      "2017-01-06  20  21    22  23\n",
      "\n",
      "             a     b     c   d\n",
      "2017-01-01   0  2222     2   3\n",
      "2017-01-02   4     5     6   7\n",
      "2017-01-03   8     9  1111  11\n",
      "2017-01-04  12    13    14  15\n",
      "2017-01-05  16    17    18  19\n",
      "2017-01-06  20    21    22  23\n"
     ]
    }
   ],
   "source": [
    "import pandas as pd\n",
    "import numpy as np\n",
    "dates = pd.date_range('20170101',periods=6) # 定义时间索引 从 20170101 到 20170106\n",
    "df = pd.DataFrame(np.arange(24).reshape((6,4)),index=dates,columns=['a','b','c','d']) # 定义一个 DataFrame\n",
    "print(df)\n",
    "print()\n",
    "df.iloc[2,2] = 1111 # iloc:按照 index 将上面的 DataFrame 第 2 行第 2 列的值改为 1111\n",
    "print(df)\n",
    "print()\n",
    "df.loc['20170101','b'] = 2222 # loc 按照 label 将上面的 DataFrame 第 20170101 行第 b 列值改为 2222\n",
    "print(df)"
   ]
  },
  {
   "cell_type": "code",
   "execution_count": 16,
   "metadata": {},
   "outputs": [
    {
     "name": "stdout",
     "output_type": "stream",
     "text": [
      "             a   b   c   d\n",
      "2017-01-01   0   1   2   3\n",
      "2017-01-02   4   5   6   7\n",
      "2017-01-03   8   9  10  11\n",
      "2017-01-04  12  13  14  15\n",
      "2017-01-05  16  17  18  19\n",
      "2017-01-06  20  21  22  23\n",
      "\n",
      "            a  b  c  d\n",
      "2017-01-01  0  1  2  3\n",
      "2017-01-02  4  5  6  7\n",
      "2017-01-03  0  0  0  0\n",
      "2017-01-04  0  0  0  0\n",
      "2017-01-05  0  0  0  0\n",
      "2017-01-06  0  0  0  0\n"
     ]
    }
   ],
   "source": [
    "dates = pd.date_range('20170101',periods=6) # 定义时间索引 从 20170101 到 20170106\n",
    "df = pd.DataFrame(np.arange(24).reshape((6,4)),index=dates,columns=['a','b','c','d']) # 定义一个 DataFrame\n",
    "print(df)\n",
    "print()\n",
    "df[df.a>4] = 0 # 对整个 DataFrame a>4  的那一行的所有值改为 0\n",
    "print(df)"
   ]
  },
  {
   "cell_type": "code",
   "execution_count": 17,
   "metadata": {},
   "outputs": [
    {
     "name": "stdout",
     "output_type": "stream",
     "text": [
      "             a   b   c   d\n",
      "2017-01-01   0   1   2   3\n",
      "2017-01-02   4   5   6   7\n",
      "2017-01-03   8   9  10  11\n",
      "2017-01-04  12  13  14  15\n",
      "2017-01-05  16  17  18  19\n",
      "2017-01-06  20  21  22  23\n",
      "\n",
      "            a   b   c   d\n",
      "2017-01-01  0   1   2   3\n",
      "2017-01-02  4   5   6   7\n",
      "2017-01-03  0   9  10  11\n",
      "2017-01-04  0  13  14  15\n",
      "2017-01-05  0  17  18  19\n",
      "2017-01-06  0  21  22  23\n"
     ]
    }
   ],
   "source": [
    "dates = pd.date_range('20170101',periods=6) # 定义时间索引 从 20170101 到 20170106\n",
    "df = pd.DataFrame(np.arange(24).reshape((6,4)),index=dates,columns=['a','b','c','d']) # 定义一个 DataFrame\n",
    "print(df)\n",
    "print()\n",
    "df.a[df.a>4] = 0 # 对 a 列数据 a>4 的值进行更改，改为 0\n",
    "print(df)"
   ]
  },
  {
   "cell_type": "code",
   "execution_count": 18,
   "metadata": {},
   "outputs": [
    {
     "name": "stdout",
     "output_type": "stream",
     "text": [
      "             a   b   c   d\n",
      "2017-01-01   0   1   2   3\n",
      "2017-01-02   4   5   6   7\n",
      "2017-01-03   8   9  10  11\n",
      "2017-01-04  12  13  14  15\n",
      "2017-01-05  16  17  18  19\n",
      "2017-01-06  20  21  22  23\n",
      "\n",
      "             a  b   c   d\n",
      "2017-01-01   0  1   2   3\n",
      "2017-01-02   4  5   6   7\n",
      "2017-01-03   8  0  10  11\n",
      "2017-01-04  12  0  14  15\n",
      "2017-01-05  16  0  18  19\n",
      "2017-01-06  20  0  22  23\n"
     ]
    }
   ],
   "source": [
    "dates = pd.date_range('20170101',periods=6) # 定义时间索引 从 20170101 到 20170106\n",
    "df = pd.DataFrame(np.arange(24).reshape((6,4)),index=dates,columns=['a','b','c','d']) # 定义一个 DataFrame\n",
    "print(df)\n",
    "print()\n",
    "df.b[df.a>4] = 0 # 对 b 列数据中 a>4 的值进行更改，改为 0\n",
    "print(df)"
   ]
  },
  {
   "cell_type": "code",
   "execution_count": 19,
   "metadata": {},
   "outputs": [
    {
     "name": "stdout",
     "output_type": "stream",
     "text": [
      "             a   b   c   d\n",
      "2017-01-01   0   1   2   3\n",
      "2017-01-02   4   5   6   7\n",
      "2017-01-03   8   9  10  11\n",
      "2017-01-04  12  13  14  15\n",
      "2017-01-05  16  17  18  19\n",
      "2017-01-06  20  21  22  23\n",
      "\n",
      "             a   b   c   d   e\n",
      "2017-01-01   0   1   2   3 NaN\n",
      "2017-01-02   4   5   6   7 NaN\n",
      "2017-01-03   8   9  10  11 NaN\n",
      "2017-01-04  12  13  14  15 NaN\n",
      "2017-01-05  16  17  18  19 NaN\n",
      "2017-01-06  20  21  22  23 NaN\n",
      "\n",
      "             a   b   c   d   e  f\n",
      "2017-01-01   0   1   2   3 NaN  1\n",
      "2017-01-02   4   5   6   7 NaN  2\n",
      "2017-01-03   8   9  10  11 NaN  3\n",
      "2017-01-04  12  13  14  15 NaN  4\n",
      "2017-01-05  16  17  18  19 NaN  5\n",
      "2017-01-06  20  21  22  23 NaN  6\n"
     ]
    }
   ],
   "source": [
    "dates = pd.date_range('20170101',periods=6) # 定义时间索引 从 20170101 到 20170106\n",
    "df = pd.DataFrame(np.arange(24).reshape((6,4)),index=dates,columns=['a','b','c','d']) # 定义一个 DataFrame\n",
    "print(df)\n",
    "print()\n",
    "df['e'] =np.nan # 加一列缺失值，列标签为 e\n",
    "print(df)\n",
    "print()\n",
    "df['f'] = pd.Series([1,2,3,4,5,6],index=dates) # 加一列值 [1,2,3,4,5,6]，列标签为 f，行标签对应原来的 DataFrame\n",
    "print(df)"
   ]
  },
  {
   "cell_type": "code",
   "execution_count": 21,
   "metadata": {},
   "outputs": [
    {
     "name": "stdout",
     "output_type": "stream",
     "text": [
      "    student ID   name  age  gender\n",
      "0         1100  kelly   22  female\n",
      "1         1101    clo   21  female\n",
      "2         1102  tilly   22  female\n",
      "3         1103   tony   24    male\n",
      "4         1104  david   20    male\n",
      "5         1105  catty   22  female\n",
      "6         1106      M    3  female\n",
      "7         1107      N   43    male\n",
      "8         1108      A   13    male\n",
      "9         1109      S   12    male\n",
      "10        1110  david   33    male\n",
      "11        1111     dw    3  female\n",
      "12        1112      q   23    male\n"
     ]
    }
   ],
   "source": [
    "import os # 导入 os\n",
    "os.getcwd() # 查看工作目录，并将 student.csv 文件放入工作目录\n",
    "import pandas as pd\n",
    "data = pd.read_csv('student.csv') # 读取该 CSV 文件\n",
    "print(data) # 输出文件内容，注意到读取的时候会自动的加上行索引\n",
    "data.to_pickle('student.pickle') # 导出该数据，格式为 pickle"
   ]
  },
  {
   "cell_type": "code",
   "execution_count": 22,
   "metadata": {},
   "outputs": [
    {
     "name": "stdout",
     "output_type": "stream",
     "text": [
      "     a    b    c    d\n",
      "0  0.0  0.0  0.0  0.0\n",
      "1  0.0  0.0  0.0  0.0\n",
      "2  0.0  0.0  0.0  0.0\n",
      "     a    b    c    d\n",
      "0  1.0  1.0  1.0  1.0\n",
      "1  1.0  1.0  1.0  1.0\n",
      "2  1.0  1.0  1.0  1.0\n",
      "     a    b    c    d\n",
      "0  2.0  2.0  2.0  2.0\n",
      "1  2.0  2.0  2.0  2.0\n",
      "2  2.0  2.0  2.0  2.0\n",
      "\n",
      "上下合并的结果：\n",
      "     a    b    c    d\n",
      "0  0.0  0.0  0.0  0.0\n",
      "1  0.0  0.0  0.0  0.0\n",
      "2  0.0  0.0  0.0  0.0\n",
      "3  1.0  1.0  1.0  1.0\n",
      "4  1.0  1.0  1.0  1.0\n",
      "5  1.0  1.0  1.0  1.0\n",
      "6  2.0  2.0  2.0  2.0\n",
      "7  2.0  2.0  2.0  2.0\n",
      "8  2.0  2.0  2.0  2.0\n"
     ]
    }
   ],
   "source": [
    "# concatenating\n",
    "# 用 concat([a,b,c],axis=0/1,ignore_index=True) 对 DataFrame 进行合并，axis=1 表示竖向/上下合并，axis=1 表示横向/左右合并\n",
    "# ignore_index=True 表示忽略原来的索引，定义新的索引，如果不设置的话会导致索引可能有重复，因为用的是原来的索引。\n",
    "import numpy as np\n",
    "import pandas as pd\n",
    "df1 = pd.DataFrame(np.ones((3,4))*0,columns=['a','b','c','d']) # 定义一个元素全为 0 的 3 行 4 列的 DataFrame\n",
    "df2 = pd.DataFrame(np.ones((3,4))*1,columns=['a','b','c','d']) # 定义一个元素全为 1 的 3 行 4 列的 DataFrame\n",
    "df3 = pd.DataFrame(np.ones((3,4))*2,columns=['a','b','c','d']) # 定义一个元素全为 2 的 3 行 4 列的 DataFrame\n",
    "print(df1)\n",
    "print(df2)\n",
    "print(df3)\n",
    "print()\n",
    "print('上下合并的结果：')\n",
    "# 因为这三个 DataFrame 的列标题一样所以我们可以将他们上下合并\n",
    "res = pd.concat([df1,df2,df3],axis=0,ignore_index=True) # 竖向合并 3 个 DataFrame，并给出新的索引\n",
    "print(res)\n"
   ]
  },
  {
   "cell_type": "code",
   "execution_count": 23,
   "metadata": {},
   "outputs": [
    {
     "name": "stdout",
     "output_type": "stream",
     "text": [
      "     a    b    c    d\n",
      "1  0.0  0.0  0.0  0.0\n",
      "2  0.0  0.0  0.0  0.0\n",
      "3  0.0  0.0  0.0  0.0\n",
      "     b    c    d    e\n",
      "2  1.0  1.0  1.0  1.0\n",
      "3  1.0  1.0  1.0  1.0\n",
      "4  1.0  1.0  1.0  1.0\n",
      "\n",
      "     a    b    c    d    e\n",
      "1  0.0  0.0  0.0  0.0  NaN\n",
      "2  0.0  0.0  0.0  0.0  NaN\n",
      "3  0.0  0.0  0.0  0.0  NaN\n",
      "2  NaN  1.0  1.0  1.0  1.0\n",
      "3  NaN  1.0  1.0  1.0  1.0\n",
      "4  NaN  1.0  1.0  1.0  1.0\n",
      "\n",
      "     b    c    d\n",
      "1  0.0  0.0  0.0\n",
      "2  0.0  0.0  0.0\n",
      "3  0.0  0.0  0.0\n",
      "2  1.0  1.0  1.0\n",
      "3  1.0  1.0  1.0\n",
      "4  1.0  1.0  1.0\n"
     ]
    },
    {
     "name": "stderr",
     "output_type": "stream",
     "text": [
      "D:\\a\\lib\\site-packages\\ipykernel_launcher.py:8: FutureWarning: Sorting because non-concatenation axis is not aligned. A future version\n",
      "of pandas will change to not sort by default.\n",
      "\n",
      "To accept the future behavior, pass 'sort=False'.\n",
      "\n",
      "To retain the current behavior and silence the warning, pass 'sort=True'.\n",
      "\n",
      "  \n"
     ]
    }
   ],
   "source": [
    "# join:['inner','outer']\n",
    "df1 = pd.DataFrame(np.ones((3,4))*0,columns=['a','b','c','d'],index=[1,2,3])\n",
    "df2 = pd.DataFrame(np.ones((3,4))*1,columns=['b','c','d','e'],index=[2,3,4])\n",
    "print(df1)\n",
    "print(df2)\n",
    "# 这次我们可以看到这两 DataFrame 在列标题有重复的也有不同的，在索引有重复的也有不同的\n",
    "print()\n",
    "res = pd.concat([df1,df2]) # 采用默认参数进行合并(join='outer')\n",
    "print(res) # 它就会自动的将没有的定义成 NaN 然后索引保持不变\n",
    "print()\n",
    "res = pd.concat([df1,df2],join='inner') # 采用 join='inner' 进行合并\n",
    "print(res)# 它就会保留公共的部分"
   ]
  },
  {
   "cell_type": "code",
   "execution_count": 24,
   "metadata": {},
   "outputs": [
    {
     "name": "stdout",
     "output_type": "stream",
     "text": [
      "     a    b    c    d\n",
      "1  0.0  0.0  0.0  0.0\n",
      "2  0.0  0.0  0.0  0.0\n",
      "3  0.0  0.0  0.0  0.0\n",
      "     b    c    d    e\n",
      "2  1.0  1.0  1.0  1.0\n",
      "3  1.0  1.0  1.0  1.0\n",
      "4  1.0  1.0  1.0  1.0\n",
      "\n",
      "按照 df1 的索引进行左右合并\n",
      "     a    b    c    d    b    c    d    e\n",
      "1  0.0  0.0  0.0  0.0  NaN  NaN  NaN  NaN\n",
      "2  0.0  0.0  0.0  0.0  1.0  1.0  1.0  1.0\n",
      "3  0.0  0.0  0.0  0.0  1.0  1.0  1.0  1.0\n"
     ]
    }
   ],
   "source": [
    "# join_axes\n",
    "df1 = pd.DataFrame(np.ones((3,4))*0,columns=['a','b','c','d'],index=[1,2,3])\n",
    "df2 = pd.DataFrame(np.ones((3,4))*1,columns=['b','c','d','e'],index=[2,3,4])\n",
    "print(df1)\n",
    "print(df2)\n",
    "print()\n",
    "print(\"按照 df1 的索引进行左右合并\")\n",
    "res = pd.concat([df1,df2],axis=1,join_axes=[df1.index]) # join_axes=[df1.index] 表示按照 df1 的索引进行合并\n",
    "print(res)"
   ]
  },
  {
   "cell_type": "code",
   "execution_count": 25,
   "metadata": {},
   "outputs": [
    {
     "name": "stdout",
     "output_type": "stream",
     "text": [
      "上下合并 df1 和 df2\n",
      "     a    b    c    d\n",
      "0  0.0  0.0  0.0  0.0\n",
      "1  0.0  0.0  0.0  0.0\n",
      "2  0.0  0.0  0.0  0.0\n",
      "3  1.0  1.0  1.0  1.0\n",
      "4  1.0  1.0  1.0  1.0\n",
      "5  1.0  1.0  1.0  1.0\n",
      "上下合并 df1 和 df2 和 df3\n",
      "     a    b    c    d\n",
      "0  0.0  0.0  0.0  0.0\n",
      "1  0.0  0.0  0.0  0.0\n",
      "2  0.0  0.0  0.0  0.0\n",
      "3  1.0  1.0  1.0  1.0\n",
      "4  1.0  1.0  1.0  1.0\n",
      "5  1.0  1.0  1.0  1.0\n",
      "6  2.0  2.0  2.0  2.0\n",
      "7  2.0  2.0  2.0  2.0\n",
      "8  2.0  2.0  2.0  2.0\n"
     ]
    }
   ],
   "source": [
    "# append\n",
    "df1 = pd.DataFrame(np.ones((3,4))*0, columns=['a','b','c','d'])\n",
    "df2 = pd.DataFrame(np.ones((3,4))*1, columns=['a','b','c','d'])\n",
    "res = df1.append(df2, ignore_index=True)\n",
    "print('上下合并 df1 和 df2')\n",
    "print(res)\n",
    "df3 = pd.DataFrame(np.ones((3,4))*2, columns=['a','b','c','d'])\n",
    "print('上下合并 df1 和 df2 和 df3')\n",
    "res = df1.append([df2,df3], ignore_index=True)\n",
    "print(res)"
   ]
  },
  {
   "cell_type": "code",
   "execution_count": 26,
   "metadata": {},
   "outputs": [
    {
     "name": "stdout",
     "output_type": "stream",
     "text": [
      "     a    b    c    d\n",
      "0  0.0  0.0  0.0  0.0\n",
      "1  0.0  0.0  0.0  0.0\n",
      "2  0.0  0.0  0.0  0.0\n",
      "3  2.0  4.0  6.0  8.0\n"
     ]
    }
   ],
   "source": [
    "df1 = pd.DataFrame(np.ones((3,4))*0, columns=['a','b','c','d'])\n",
    "s1 = pd.Series([2,4,6,8],index=['a','b','c','d']) # 定义一个序列，各元素为 2,4,6,8，index 为 'a','b','c','d' \n",
    "res = df1.append(s1,ignore_index=True) # 添加一行序列\n",
    "print(res)"
   ]
  },
  {
   "cell_type": "code",
   "execution_count": 27,
   "metadata": {},
   "outputs": [
    {
     "name": "stdout",
     "output_type": "stream",
     "text": [
      "  key   A   B\n",
      "0  K0  A0  B0\n",
      "1  K1  A1  B1\n",
      "2  K2  A2  B2\n",
      "3  K3  A3  B3\n",
      "  key   C   D\n",
      "0  K0  C0  D0\n",
      "1  K1  C1  D1\n",
      "2  K2  C2  D2\n",
      "3  K3  C3  D3\n",
      "\n",
      "  key   A   B   C   D\n",
      "0  K0  A0  B0  C0  D0\n",
      "1  K1  A1  B1  C1  D1\n",
      "2  K2  A2  B2  C2  D2\n",
      "3  K3  A3  B3  C3  D3\n"
     ]
    }
   ],
   "source": [
    "import pandas as pd\n",
    "# merging two df by key/keys. (may be used in database)\n",
    "# simple example\n",
    "# 定义两个数据框它们有相同的列 key\n",
    "left = pd.DataFrame({'key': ['K0', 'K1', 'K2', 'K3'],\n",
    "                                  'A': ['A0', 'A1', 'A2', 'A3'],\n",
    "                                  'B': ['B0', 'B1', 'B2', 'B3']})\n",
    "right = pd.DataFrame({'key': ['K0', 'K1', 'K2', 'K3'],\n",
    "                                    'C': ['C0', 'C1', 'C2', 'C3'],\n",
    "                                    'D': ['D0', 'D1', 'D2', 'D3']})\n",
    "print(left)\n",
    "print(right)\n",
    "print()\n",
    "res = pd.merge(left,right,on='key') # 根据这两个 DataFrame 的 key 对这两个 DataFrame 进行合并\n",
    "print(res)"
   ]
  },
  {
   "cell_type": "code",
   "execution_count": 28,
   "metadata": {},
   "outputs": [
    {
     "name": "stdout",
     "output_type": "stream",
     "text": [
      "  key1 key2   A   B\n",
      "0   K0   K0  A0  B0\n",
      "1   K0   K1  A1  B1\n",
      "2   K1   K0  A2  B2\n",
      "3   K2   K1  A3  B3\n",
      "  key1 key2   C   D\n",
      "0   K0   K0  C0  D0\n",
      "1   K1   K0  C1  D1\n",
      "2   K1   K0  C2  D2\n",
      "3   K2   K0  C3  D3\n",
      "\n",
      "  key1 key2   A   B   C   D\n",
      "0   K0   K0  A0  B0  C0  D0\n",
      "1   K1   K0  A2  B2  C1  D1\n",
      "2   K1   K0  A2  B2  C2  D2\n",
      "\n",
      "  key1 key2    A    B    C    D\n",
      "0   K0   K0   A0   B0   C0   D0\n",
      "1   K0   K1   A1   B1  NaN  NaN\n",
      "2   K1   K0   A2   B2   C1   D1\n",
      "3   K1   K0   A2   B2   C2   D2\n",
      "4   K2   K1   A3   B3  NaN  NaN\n",
      "5   K2   K0  NaN  NaN   C3   D3\n"
     ]
    }
   ],
   "source": [
    "# consider two keys\n",
    "# how = ['left','right','outer','inner'] how 有这四种参数可以选择，默认参数是 inner\n",
    "# 定义两个 DataFrame ，它们都有两个 key 包括 key1 和 key2\n",
    "left = pd.DataFrame({'key1': ['K0', 'K0', 'K1', 'K2'],\n",
    "                             'key2': ['K0', 'K1', 'K0', 'K1'],\n",
    "                             'A': ['A0', 'A1', 'A2', 'A3'],\n",
    "                             'B': ['B0', 'B1', 'B2', 'B3']})\n",
    "right = pd.DataFrame({'key1': ['K0', 'K1', 'K1', 'K2'],\n",
    "                              'key2': ['K0', 'K0', 'K0', 'K0'],\n",
    "                              'C': ['C0', 'C1', 'C2', 'C3'],\n",
    "                              'D': ['D0', 'D1', 'D2', 'D3']})\n",
    "print(left)\n",
    "print(right)\n",
    "print()\n",
    "res = pd.merge(left,right,on=['key1','key2'],how='inner') # 根据 key1 和 key2 将公共的部分进行合并\n",
    "print(res)\n",
    "print()\n",
    "res = pd.merge(left,right,on=['key1','key2'],how='outer') # 根据 key1 和 key2 将所有的元素进行合并，不存在的用 NaN 显示\n",
    "print(res)\n",
    "# 这里所说的公共元素，是指具有相同指定标签的值的元素，上面的指定标签就是 key1 和 key2。 "
   ]
  },
  {
   "cell_type": "code",
   "execution_count": 29,
   "metadata": {},
   "outputs": [
    {
     "name": "stdout",
     "output_type": "stream",
     "text": [
      "  key1 key2   A   B    C    D\n",
      "0   K0   K0  A0  B0   C0   D0\n",
      "1   K0   K1  A1  B1  NaN  NaN\n",
      "2   K1   K0  A2  B2   C1   D1\n",
      "3   K1   K0  A2  B2   C2   D2\n",
      "4   K2   K1  A3  B3  NaN  NaN\n",
      "\n",
      "  key1 key2    A    B   C   D\n",
      "0   K0   K0   A0   B0  C0  D0\n",
      "1   K1   K0   A2   B2  C1  D1\n",
      "2   K1   K0   A2   B2  C2  D2\n",
      "3   K2   K0  NaN  NaN  C3  D3\n"
     ]
    }
   ],
   "source": [
    "res = pd.merge(left,right,on=['key1','key2'],how='left') # 根据前一个 DataFrame 的 key1 和 key2 进行合并，不存在的用 NaN 显示\n",
    "print(res)\n",
    "print()\n",
    "res = pd.merge(left,right,on=['key1','key2'],how='right') # 根据后一个 DataFrame 的 key1 和 key2 进行合并，不存在的用 NaN 显示\n",
    "print(res)"
   ]
  },
  {
   "cell_type": "code",
   "execution_count": 30,
   "metadata": {},
   "outputs": [
    {
     "name": "stdout",
     "output_type": "stream",
     "text": [
      "   col1 col_left\n",
      "0     0        a\n",
      "1     1        b\n",
      "   col1  col_right\n",
      "0     1          2\n",
      "1     2          2\n",
      "2     2          2\n",
      "\n",
      "   col1 col_left  col_right      _merge\n",
      "0     0        a        NaN   left_only\n",
      "1     1        b        2.0        both\n",
      "2     2      NaN        2.0  right_only\n",
      "3     2      NaN        2.0  right_only\n",
      "\n",
      "   col1 col_left  col_right indicator_column\n",
      "0     0        a        NaN        left_only\n",
      "1     1        b        2.0             both\n",
      "2     2      NaN        2.0       right_only\n",
      "3     2      NaN        2.0       right_only\n"
     ]
    }
   ],
   "source": [
    "# indicator\n",
    "df1 = pd.DataFrame({'col1':[0,1], 'col_left':['a','b']})\n",
    "df2 = pd.DataFrame({'col1':[1,2,2],'col_right':[2,2,2]})\n",
    "print(df1)\n",
    "print(df2)\n",
    "# indicator = True 表示增加一列说明这一行的两元素哪些是存在的（即不是缺失值）\n",
    "# left_only 表示只有左边的那个存在，right_only 表示只有右边的存在，both 表示两个都存在\n",
    "res = pd.merge(df1, df2, on='col1', how='outer', indicator=True) # 根据 col1 对 DataFrame 进行合并\n",
    "print()\n",
    "print(res)\n",
    "print()\n",
    "# give the indicator a custom name\n",
    "# indicator='indicator_column' 就是将这个表示元素存在性的列表题重新命名为 indicator_column\n",
    "res = pd.merge(df1, df2, on='col1', how='outer', indicator='indicator_column') \n",
    "print(res)"
   ]
  },
  {
   "cell_type": "code",
   "execution_count": 31,
   "metadata": {},
   "outputs": [
    {
     "name": "stdout",
     "output_type": "stream",
     "text": [
      "     A   B\n",
      "K0  A0  B0\n",
      "K1  A1  B1\n",
      "K2  A2  B2\n",
      "     C   D\n",
      "K0  C0  D0\n",
      "K2  C2  D2\n",
      "K3  C3  D3\n",
      "\n",
      "      A    B    C    D\n",
      "K0   A0   B0   C0   D0\n",
      "K1   A1   B1  NaN  NaN\n",
      "K2   A2   B2   C2   D2\n",
      "K3  NaN  NaN   C3   D3\n",
      "\n",
      "     A   B   C   D\n",
      "K0  A0  B0  C0  D0\n",
      "K2  A2  B2  C2  D2\n"
     ]
    }
   ],
   "source": [
    "# merged by index\n",
    "left = pd.DataFrame({'A': ['A0', 'A1', 'A2'],\n",
    "                                  'B': ['B0', 'B1', 'B2']},\n",
    "                                  index=['K0', 'K1', 'K2'])\n",
    "right = pd.DataFrame({'C': ['C0', 'C2', 'C3'],\n",
    "                                     'D': ['D0', 'D2', 'D3']},\n",
    "                                      index=['K0', 'K2', 'K3'])\n",
    "print(left)\n",
    "print(right)\n",
    "# 根据索引合并 DataFrame 的所有元素，不存在的用 NaN 显示\n",
    "res = pd.merge(left, right, left_index=True, right_index=True, how='outer') \n",
    "print()\n",
    "print(res)\n",
    "# 根据索引合并 DataFrame 的公共元素，不存在的用 NaN 显示\n",
    "res = pd.merge(left, right, left_index=True, right_index=True, how='inner')\n",
    "print()\n",
    "print(res)\n",
    "# 这里所说的公共元素，是指具有相同指定标签的值的元素，这里的指定标签就是 index"
   ]
  },
  {
   "cell_type": "code",
   "execution_count": 32,
   "metadata": {},
   "outputs": [
    {
     "name": "stdout",
     "output_type": "stream",
     "text": [
      "    k  age\n",
      "0  K0    1\n",
      "1  K1    2\n",
      "2  K2    3\n",
      "    k  age\n",
      "0  K0    4\n",
      "1  K0    5\n",
      "2  K3    6\n",
      "\n",
      "    k  age_boy  age_girl\n",
      "0  K0        1         4\n",
      "1  K0        1         5\n",
      "\n",
      "    k  age_boy  age_girl\n",
      "0  K0      1.0       4.0\n",
      "1  K0      1.0       5.0\n",
      "2  K1      2.0       NaN\n",
      "3  K2      3.0       NaN\n",
      "4  K3      NaN       6.0\n"
     ]
    }
   ],
   "source": [
    "# handle overlapping\n",
    "boys = pd.DataFrame({'k': ['K0', 'K1', 'K2'], 'age': [1, 2, 3]})\n",
    "girls = pd.DataFrame({'k': ['K0', 'K0', 'K3'], 'age': [4, 5, 6]})\n",
    "# suffixes=['_boy', '_girl'] 表示将两个 DataFrame 同样的列标题 age 分为两个一个是 _boy 另一个是 _girl\n",
    "# 根据 k 对这两个 DataFrame 的公共元素进行合并\n",
    "res = pd.merge(boys, girls, on='k', suffixes=['_boy', '_girl'], how='inner')\n",
    "# 根据 k 对这两个 DataFrame 的所有元素进行合并\n",
    "res1 = pd.merge(boys, girls, on='k', suffixes=['_boy', '_girl'], how='outer')\n",
    "print(boys)\n",
    "print(girls)\n",
    "print()\n",
    "print(res)\n",
    "print()\n",
    "print(res1)\n",
    "# 这里所说的公共元素，是指具有相同指定标签的值的元素，上面的指定标签就是 k"
   ]
  },
  {
   "cell_type": "code",
   "execution_count": 38,
   "metadata": {},
   "outputs": [
    {
     "data": {
      "image/png": "[encoded data removed]",
      "text/plain": [
       "<Figure size 432x288 with 1 Axes>"
      ]
     },
     "metadata": {
      "needs_background": "light"
     },
     "output_type": "display_data"
    }
   ],
   "source": [
    "import pandas as pd\n",
    "import numpy as np\n",
    "import matplotlib.pyplot as plt\n",
    "# plot data\n",
    "# Series\n",
    "data = pd.Series(np.random.randn(1000),index=np.arange(1000)) # 定义一个 1000 个随机数的序列，索引从 0 到 999\n",
    "data = data.cumsum() # 这个函数以前讲过，就是用于累加的函数，比如说 1,2,3 输入这个函数，输出的就是 1,3,6\n",
    "data.plot()# 画图\n",
    "plt.show()# 显示"
   ]
  },
  {
   "cell_type": "code",
   "execution_count": 37,
   "metadata": {},
   "outputs": [
    {
     "name": "stdout",
     "output_type": "stream",
     "text": [
      "          a         b         c         d\n",
      "0 -1.344239  0.964496  1.216302 -0.864811\n",
      "1 -1.774504  2.509467  1.842599 -2.256047\n",
      "2 -2.691059  4.317325  2.692530 -1.818247\n",
      "3 -2.978830  3.095457  1.385831 -3.257031\n",
      "4 -2.322550  4.747015  0.243752 -2.949770\n"
     ]
    },
    {
     "data": {
      "image/png": "[encoded data removed]",
      "text/plain": [
       "<Figure size 432x288 with 1 Axes>"
      ]
     },
     "metadata": {
      "needs_background": "light"
     },
     "output_type": "display_data"
    }
   ],
   "source": [
    "# DataFrame\n",
    "# 定义一个 1000 行 4 列的 DataFrame 每个元素都输一个随机数，索引为 0 到 999，列标签为 a,b,c,d\n",
    "data = pd.DataFrame(np.random.randn(1000,4),index=np.arange(1000),columns=list(\"abcd\"))\n",
    "data = data.cumsum() # 将每一列累加起来\n",
    "print(data.head()) # 输出这个 DataFrame 的前 5 行，想输出前 10 行只要 head(10) 就行了 \n",
    "data.plot() # 画图\n",
    "plt.show() # 显示\n",
    "# 因为有四个列（变量）所以有四条线"
   ]
  },
  {
   "cell_type": "code",
   "execution_count": 39,
   "metadata": {},
   "outputs": [
    {
     "data": {
      "image/png": "[encoded data removed]",
      "text/plain": [
       "<Figure size 432x288 with 1 Axes>"
      ]
     },
     "metadata": {
      "needs_background": "light"
     },
     "output_type": "display_data"
    }
   ],
   "source": [
    "# plot methods:bar——条形图，hist——直方图，box——箱线图，kde——密度图，area——区域图，\n",
    "# scatter——散点图，hexbin——六角形图，pie——饼图\n",
    "data = pd.DataFrame(np.random.randn(1000,4),index=np.arange(1000),columns=list(\"abcd\"))\n",
    "data = data.cumsum()\n",
    "# 由于散点图只能显示二维的数据所以我们只能选择部分变量显示，这里选择 a,b 两列数据，标签定义为 class1，颜色为深蓝色\n",
    "ax = data.plot.scatter(x='a',y='b',color='DarkBlue',label='class1') \n",
    "# 选择 a,c 两列列数据，颜色为深橘黄色，标签定义为 class2 ax=ax 表示将上面散点图加在这张散点图中，就是一张图显示两个数据\n",
    "data.plot.scatter(x='a',y='c',color='DarkOrange',label='class2',ax=ax) # 画散点图\n",
    "plt.show() # 显示散点图"
   ]
  },
  {
   "cell_type": "code",
   "execution_count": null,
   "metadata": {},
   "outputs": [],
   "source": []
  }
 ],
 "metadata": {
  "kernelspec": {
   "display_name": "Python 3",
   "language": "python",
   "name": "python3"
  },
  "language_info": {
   "codemirror_mode": {
    "name": "ipython",
    "version": 3
   },
   "file_extension": ".py",
   "mimetype": "text/x-python",
   "name": "python",
   "nbconvert_exporter": "python",
   "pygments_lexer": "ipython3",
   "version": "3.7.0"
  }
 },
 "nbformat": 4,
 "nbformat_minor": 2
}
