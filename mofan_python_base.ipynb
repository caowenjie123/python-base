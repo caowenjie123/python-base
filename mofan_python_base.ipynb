{
 "cells": [
  {
   "cell_type": "code",
   "execution_count": 1,
   "metadata": {},
   "outputs": [
    {
     "name": "stdout",
     "output_type": "stream",
     "text": [
      "we are going to do something\n"
     ]
    }
   ],
   "source": [
    "print(\"we are going to do something\") # 双引号内加字符表示字符串"
   ]
  },
  {
   "cell_type": "code",
   "execution_count": 7,
   "metadata": {},
   "outputs": [
    {
     "ename": "SyntaxError",
     "evalue": "invalid syntax (<ipython-input-7-3b3e906ca3f3>, line 1)",
     "output_type": "error",
     "traceback": [
      "\u001b[1;36m  File \u001b[1;32m\"<ipython-input-7-3b3e906ca3f3>\"\u001b[1;36m, line \u001b[1;32m1\u001b[0m\n\u001b[1;33m    print('l'm caowenjie')\u001b[0m\n\u001b[1;37m             ^\u001b[0m\n\u001b[1;31mSyntaxError\u001b[0m\u001b[1;31m:\u001b[0m invalid syntax\n"
     ]
    }
   ],
   "source": [
    "print('l'm caowenjie')"
   ]
  },
  {
   "cell_type": "code",
   "execution_count": 2,
   "metadata": {},
   "outputs": [
    {
     "name": "stdout",
     "output_type": "stream",
     "text": [
      "l'm caowenjie\n"
     ]
    }
   ],
   "source": [
    "print('l\\'m caowenjie') # 反斜杠加单引号即可输出单引号"
   ]
  },
  {
   "cell_type": "code",
   "execution_count": 3,
   "metadata": {},
   "outputs": [
    {
     "name": "stdout",
     "output_type": "stream",
     "text": [
      "l'm caowenjie\n"
     ]
    }
   ],
   "source": [
    "print(\"l'm caowenjie\") # 用双引号括住单引号可以输出单引号"
   ]
  },
  {
   "cell_type": "code",
   "execution_count": 5,
   "metadata": {},
   "outputs": [
    {
     "name": "stdout",
     "output_type": "stream",
     "text": [
      "applepay\n"
     ]
    }
   ],
   "source": [
    "print('apple'+'pay') # 字符串的加法，就是将两个字符串连在一起"
   ]
  },
  {
   "cell_type": "code",
   "execution_count": 13,
   "metadata": {},
   "outputs": [
    {
     "ename": "TypeError",
     "evalue": "can only concatenate str (not \"int\") to str",
     "output_type": "error",
     "traceback": [
      "\u001b[1;31m---------------------------------------------------------------------------\u001b[0m",
      "\u001b[1;31mTypeError\u001b[0m                                 Traceback (most recent call last)",
      "\u001b[1;32m<ipython-input-13-a865fc792b71>\u001b[0m in \u001b[0;36m<module>\u001b[1;34m()\u001b[0m\n\u001b[1;32m----> 1\u001b[1;33m \u001b[0mprint\u001b[0m\u001b[1;33m(\u001b[0m\u001b[1;34m'A'\u001b[0m\u001b[1;33m+\u001b[0m\u001b[1;36m4\u001b[0m\u001b[1;33m)\u001b[0m\u001b[1;33m\u001b[0m\u001b[0m\n\u001b[0m",
      "\u001b[1;31mTypeError\u001b[0m: can only concatenate str (not \"int\") to str"
     ]
    }
   ],
   "source": [
    "print('A'+4)"
   ]
  },
  {
   "cell_type": "code",
   "execution_count": 6,
   "metadata": {},
   "outputs": [
    {
     "name": "stdout",
     "output_type": "stream",
     "text": [
      "A4\n"
     ]
    }
   ],
   "source": [
    "print('A'+'4') # 只有相同类型的变量才能加，所以这里的 4 要加上单引号或者双引号"
   ]
  },
  {
   "cell_type": "code",
   "execution_count": 8,
   "metadata": {},
   "outputs": [
    {
     "name": "stdout",
     "output_type": "stream",
     "text": [
      "A4\n"
     ]
    }
   ],
   "source": [
    "print('A'+str(4)) # str 是将变量转为字符型的函数"
   ]
  },
  {
   "cell_type": "code",
   "execution_count": 9,
   "metadata": {},
   "outputs": [
    {
     "name": "stdout",
     "output_type": "stream",
     "text": [
      "3\n"
     ]
    }
   ],
   "source": [
    "print(1+int('2')) # int 是将变量转化为整数型变量的函数"
   ]
  },
  {
   "cell_type": "code",
   "execution_count": 11,
   "metadata": {},
   "outputs": [
    {
     "ename": "ValueError",
     "evalue": "invalid literal for int() with base 10: '1.2'",
     "output_type": "error",
     "traceback": [
      "\u001b[1;31m---------------------------------------------------------------------------\u001b[0m",
      "\u001b[1;31mValueError\u001b[0m                                Traceback (most recent call last)",
      "\u001b[1;32m<ipython-input-11-b36c460efb9b>\u001b[0m in \u001b[0;36m<module>\u001b[1;34m()\u001b[0m\n\u001b[1;32m----> 1\u001b[1;33m \u001b[0mint\u001b[0m\u001b[1;33m(\u001b[0m\u001b[1;34m'1.2'\u001b[0m\u001b[1;33m)\u001b[0m\u001b[1;33m\u001b[0m\u001b[0m\n\u001b[0m",
      "\u001b[1;31mValueError\u001b[0m: invalid literal for int() with base 10: '1.2'"
     ]
    }
   ],
   "source": [
    "int('1.2') # int 转换不了字符串形式的小数"
   ]
  },
  {
   "cell_type": "code",
   "execution_count": 39,
   "metadata": {},
   "outputs": [
    {
     "ename": "ValueError",
     "evalue": "invalid literal for int() with base 10: 'abcd'",
     "output_type": "error",
     "traceback": [
      "\u001b[1;31m---------------------------------------------------------------------------\u001b[0m",
      "\u001b[1;31mValueError\u001b[0m                                Traceback (most recent call last)",
      "\u001b[1;32m<ipython-input-39-494df82a7785>\u001b[0m in \u001b[0;36m<module>\u001b[1;34m()\u001b[0m\n\u001b[1;32m----> 1\u001b[1;33m \u001b[0mint\u001b[0m\u001b[1;33m(\u001b[0m\u001b[1;34m'abcd'\u001b[0m\u001b[1;33m)\u001b[0m \u001b[1;31m#\u001b[0m\u001b[1;33m\u001b[0m\u001b[0m\n\u001b[0m",
      "\u001b[1;31mValueError\u001b[0m: invalid literal for int() with base 10: 'abcd'"
     ]
    }
   ],
   "source": [
    "int('abcd') # int 转化不了字符串"
   ]
  },
  {
   "cell_type": "code",
   "execution_count": 14,
   "metadata": {},
   "outputs": [
    {
     "data": {
      "text/plain": [
       "1.2"
      ]
     },
     "execution_count": 14,
     "metadata": {},
     "output_type": "execute_result"
    }
   ],
   "source": [
    "float('1.2') # float 可以转化字符型的小数"
   ]
  },
  {
   "cell_type": "code",
   "execution_count": 12,
   "metadata": {},
   "outputs": [
    {
     "data": {
      "text/plain": [
       "1"
      ]
     },
     "execution_count": 12,
     "metadata": {},
     "output_type": "execute_result"
    }
   ],
   "source": [
    "int(1.8) # int 可以转化数值型的变量"
   ]
  },
  {
   "cell_type": "code",
   "execution_count": 15,
   "metadata": {},
   "outputs": [
    {
     "data": {
      "text/plain": [
       "7"
      ]
     },
     "execution_count": 15,
     "metadata": {},
     "output_type": "execute_result"
    }
   ],
   "source": [
    "1+6"
   ]
  },
  {
   "cell_type": "code",
   "execution_count": 16,
   "metadata": {},
   "outputs": [
    {
     "data": {
      "text/plain": [
       "-1"
      ]
     },
     "execution_count": 16,
     "metadata": {},
     "output_type": "execute_result"
    }
   ],
   "source": [
    "1-2"
   ]
  },
  {
   "cell_type": "code",
   "execution_count": 17,
   "metadata": {},
   "outputs": [
    {
     "data": {
      "text/plain": [
       "6"
      ]
     },
     "execution_count": 17,
     "metadata": {},
     "output_type": "execute_result"
    }
   ],
   "source": [
    "2*3"
   ]
  },
  {
   "cell_type": "code",
   "execution_count": 18,
   "metadata": {},
   "outputs": [
    {
     "data": {
      "text/plain": [
       "8"
      ]
     },
     "execution_count": 18,
     "metadata": {},
     "output_type": "execute_result"
    }
   ],
   "source": [
    "2**3 # ** 代表乘方运算"
   ]
  },
  {
   "cell_type": "code",
   "execution_count": 19,
   "metadata": {},
   "outputs": [
    {
     "data": {
      "text/plain": [
       "16"
      ]
     },
     "execution_count": 19,
     "metadata": {},
     "output_type": "execute_result"
    }
   ],
   "source": [
    "2**4"
   ]
  },
  {
   "cell_type": "code",
   "execution_count": 20,
   "metadata": {},
   "outputs": [
    {
     "data": {
      "text/plain": [
       "0"
      ]
     },
     "execution_count": 20,
     "metadata": {},
     "output_type": "execute_result"
    }
   ],
   "source": [
    "6%3 # % 代表取余数（6 能被 3 整除所以余数为 0）"
   ]
  },
  {
   "cell_type": "code",
   "execution_count": 21,
   "metadata": {},
   "outputs": [
    {
     "data": {
      "text/plain": [
       "2"
      ]
     },
     "execution_count": 21,
     "metadata": {},
     "output_type": "execute_result"
    }
   ],
   "source": [
    "6%4 # 6/4=1.......2（6/4 为 1 余 2）"
   ]
  },
  {
   "cell_type": "code",
   "execution_count": 22,
   "metadata": {},
   "outputs": [
    {
     "data": {
      "text/plain": [
       "2"
      ]
     },
     "execution_count": 22,
     "metadata": {},
     "output_type": "execute_result"
    }
   ],
   "source": [
    "9//4 # // 代表取商 9/4=2.......1"
   ]
  },
  {
   "cell_type": "code",
   "execution_count": 24,
   "metadata": {},
   "outputs": [
    {
     "data": {
      "text/plain": [
       "3"
      ]
     },
     "execution_count": 24,
     "metadata": {},
     "output_type": "execute_result"
    }
   ],
   "source": [
    "10//3"
   ]
  },
  {
   "cell_type": "code",
   "execution_count": 25,
   "metadata": {},
   "outputs": [
    {
     "data": {
      "text/plain": [
       "0"
      ]
     },
     "execution_count": 25,
     "metadata": {},
     "output_type": "execute_result"
    }
   ],
   "source": [
    "1//3"
   ]
  },
  {
   "cell_type": "code",
   "execution_count": 26,
   "metadata": {},
   "outputs": [
    {
     "name": "stdout",
     "output_type": "stream",
     "text": [
      "12\n"
     ]
    }
   ],
   "source": [
    "apple = 12 # 定义变量\n",
    "print(apple)"
   ]
  },
  {
   "cell_type": "code",
   "execution_count": 28,
   "metadata": {},
   "outputs": [
    {
     "name": "stdout",
     "output_type": "stream",
     "text": [
      "43\n"
     ]
    }
   ],
   "source": [
    "apple_egg = 10+33 # 定义变量时可以先运算再赋值\n",
    "print(apple_egg)"
   ]
  },
  {
   "cell_type": "code",
   "execution_count": 29,
   "metadata": {},
   "outputs": [
    {
     "name": "stdout",
     "output_type": "stream",
     "text": [
      "1 2 3\n"
     ]
    }
   ],
   "source": [
    "a,b,c = 1,2,3\n",
    "print(a,b,c)"
   ]
  },
  {
   "cell_type": "code",
   "execution_count": 31,
   "metadata": {},
   "outputs": [
    {
     "name": "stdout",
     "output_type": "stream",
     "text": [
      "1 5\n"
     ]
    }
   ],
   "source": [
    "a = 1 # 定义 a 的值为 1\n",
    "b= a*5 # a*5 = 1*5 将 5 赋值给 b\n",
    "print(a,b)"
   ]
  },
  {
   "cell_type": "code",
   "execution_count": 32,
   "metadata": {},
   "outputs": [
    {
     "name": "stdout",
     "output_type": "stream",
     "text": [
      "1\n",
      "2\n",
      "3\n",
      "4\n",
      "5\n",
      "6\n",
      "7\n",
      "8\n",
      "9\n"
     ]
    }
   ],
   "source": [
    "condition = 1\n",
    "while condition<10: # 定义循环时要加冒号，下一行自动空 4 个空格或者 1 个 tab\n",
    "    print(condition)\n",
    "    condition = condition+1"
   ]
  },
  {
   "cell_type": "code",
   "execution_count": null,
   "metadata": {},
   "outputs": [
    {
     "name": "stdout",
     "output_type": "stream",
     "text": [
      "l'am True\n",
      "l'am True\n",
      "l'am True\n",
     ]
    }
   ],
   "source": [
    "# 这个循环无法终止\n",
    "while True:\n",
    "    print(\"l'am True\")"
   ]
  },
  {
   "cell_type": "code",
   "execution_count": 1,
   "metadata": {},
   "outputs": [
    {
     "name": "stdout",
     "output_type": "stream",
     "text": [
      "1\n",
      "2\n",
      "3\n",
      "4\n",
      "5\n",
      "123\n",
      "4542\n",
      "5451\n",
      "2332\n",
      "43\n",
      "2\n",
      "42122\n",
      "52\n",
      "434\n"
     ]
    }
   ],
   "source": [
    "example_list = [1,2,3,4,5,123,4542,5451,2332,43,2,42122,52,434] # 定义一个列表\n",
    "# 这个 for 循环会输出列表中所有的数\n",
    "# 遍历列表的所有数据\n",
    "for i in example_list:\n",
    "    print(i)"
   ]
  },
  {
   "cell_type": "code",
   "execution_count": 2,
   "metadata": {},
   "outputs": [
    {
     "name": "stdout",
     "output_type": "stream",
     "text": [
      "1\n",
      "inner of for\n",
      "2\n",
      "inner of for\n",
      "3\n",
      "inner of for\n",
      "4\n",
      "inner of for\n",
      "5\n",
      "inner of for\n",
      "123\n",
      "inner of for\n",
      "4542\n",
      "inner of for\n",
      "5451\n",
      "inner of for\n",
      "2332\n",
      "inner of for\n",
      "43\n",
      "inner of for\n",
      "2\n",
      "inner of for\n",
      "42122\n",
      "inner of for\n",
      "52\n",
      "inner of for\n",
      "434\n",
      "inner of for\n",
      "outer of for\n"
     ]
    }
   ],
   "source": [
    "for i in example_list:\n",
    "    print(i)\n",
    "    # 下一行程序在 for 循环中，即每次打印一个数字就会打印一次 inner of for\n",
    "    print('inner of for')\n",
    "# 下一行程序在 for 循环外，到 for 循环结束后才打印 outer of for\n",
    "print('outer of for')\n",
    "\n",
    "# 关键在于是否有空四个空格或者空一个 tab\n",
    "\n",
    "# control 加 [ 可以整体向前减少一个 tab\n",
    "for i in example_list:\n",
    "        print(i)       \n",
    "        print(i)\n",
    "\n",
    "    \n",
    "for i in example_list:\n",
    "    print(i)\n",
    "    print(i)"
   ]
  },
  {
   "cell_type": "code",
   "execution_count": 6,
   "metadata": {},
   "outputs": [
    {
     "name": "stdout",
     "output_type": "stream",
     "text": [
      "1\n",
      "2\n",
      "3\n",
      "4\n",
      "5\n",
      "6\n",
      "7\n",
      "8\n",
      "9\n"
     ]
    }
   ],
   "source": [
    "# range 可与 for 搭配，生成从 0 到 9 的整数\n",
    "for i in range(1,10):\n",
    "    print(i)"
   ]
  },
  {
   "cell_type": "code",
   "execution_count": 8,
   "metadata": {},
   "outputs": [
    {
     "name": "stdout",
     "output_type": "stream",
     "text": [
      "1\n",
      "3\n",
      "5\n",
      "7\n",
      "9\n"
     ]
    }
   ],
   "source": [
    "# range 第三个参数是步长项，意味着跨度为几，可与等差数列做比较\n",
    "for i in range(1,10,2):\n",
    "    print(i)"
   ]
  },
  {
   "cell_type": "code",
   "execution_count": 1,
   "metadata": {},
   "outputs": [],
   "source": [
    "x = 1\n",
    "y = 2\n",
    "z = 3\n",
    "if x>y:\n",
    "    print('x is greater than y')"
   ]
  },
  {
   "cell_type": "code",
   "execution_count": 2,
   "metadata": {},
   "outputs": [
    {
     "name": "stdout",
     "output_type": "stream",
     "text": [
      "x is less than y\n"
     ]
    }
   ],
   "source": [
    "if x<y:\n",
    "    print('x is less than y')"
   ]
  },
  {
   "cell_type": "code",
   "execution_count": 3,
   "metadata": {},
   "outputs": [
    {
     "name": "stdout",
     "output_type": "stream",
     "text": [
      "True\n"
     ]
    }
   ],
   "source": [
    "if True:\n",
    "    print('True')"
   ]
  },
  {
   "cell_type": "code",
   "execution_count": 4,
   "metadata": {},
   "outputs": [
    {
     "name": "stdout",
     "output_type": "stream",
     "text": [
      "x is less than y,y is less than z\n"
     ]
    }
   ],
   "source": [
    "if x<y<z:\n",
    "    print('x is less than y,y is less than z')"
   ]
  },
  {
   "cell_type": "code",
   "execution_count": 5,
   "metadata": {},
   "outputs": [],
   "source": [
    "if x<y>z:\n",
    "    print('x is less than y,y is less than z')"
   ]
  },
  {
   "cell_type": "code",
   "execution_count": 6,
   "metadata": {},
   "outputs": [
    {
     "name": "stdout",
     "output_type": "stream",
     "text": [
      "True\n"
     ]
    }
   ],
   "source": [
    "z = 0\n",
    "if x<y>z:\n",
    "    print('True')"
   ]
  },
  {
   "cell_type": "code",
   "execution_count": 8,
   "metadata": {},
   "outputs": [
    {
     "name": "stdout",
     "output_type": "stream",
     "text": [
      "x is less or equal to y\n"
     ]
    }
   ],
   "source": [
    "x = 2\n",
    "y = 2\n",
    "if x<=y:\n",
    "    print('x is less or equal to y')"
   ]
  },
  {
   "cell_type": "code",
   "execution_count": 10,
   "metadata": {},
   "outputs": [
    {
     "ename": "SyntaxError",
     "evalue": "invalid syntax (<ipython-input-10-4d39354f72c3>, line 1)",
     "output_type": "error",
     "traceback": [
      "\u001b[1;36m  File \u001b[1;32m\"<ipython-input-10-4d39354f72c3>\"\u001b[1;36m, line \u001b[1;32m1\u001b[0m\n\u001b[1;33m    if x=y:\u001b[0m\n\u001b[1;37m        ^\u001b[0m\n\u001b[1;31mSyntaxError\u001b[0m\u001b[1;31m:\u001b[0m invalid syntax\n"
     ]
    }
   ],
   "source": [
    "if x=y:\n",
    "    print('x=y')"
   ]
  },
  {
   "cell_type": "code",
   "execution_count": 11,
   "metadata": {},
   "outputs": [
    {
     "name": "stdout",
     "output_type": "stream",
     "text": [
      "x=y\n"
     ]
    }
   ],
   "source": [
    "if x==y: # 用两个等号才能判断两个变量是否相等\n",
    "    print('x=y')"
   ]
  },
  {
   "cell_type": "code",
   "execution_count": 12,
   "metadata": {},
   "outputs": [
    {
     "name": "stdout",
     "output_type": "stream",
     "text": [
      "x is not equal to y\n"
     ]
    }
   ],
   "source": [
    "x = 1\n",
    "y = 2\n",
    "if x!=y:# != 表示不等于\n",
    "    print('x is not equal to y')"
   ]
  },
  {
   "cell_type": "code",
   "execution_count": 2,
   "metadata": {},
   "outputs": [
    {
     "name": "stdout",
     "output_type": "stream",
     "text": [
      "x is greater than y\n"
     ]
    }
   ],
   "source": [
    "x = 4\n",
    "y = 2\n",
    "z = 3\n",
    "if x>y:\n",
    "    print('x is greater than y')\n",
    "else:\n",
    "    print('x is less or equal to y')"
   ]
  },
  {
   "cell_type": "code",
   "execution_count": 4,
   "metadata": {},
   "outputs": [
    {
     "name": "stdout",
     "output_type": "stream",
     "text": [
      "x=1\n"
     ]
    }
   ],
   "source": [
    "x = 1\n",
    "y = 2\n",
    "z = 3\n",
    "if x>1:\n",
    "    print('x>1')\n",
    "elif x<1:\n",
    "    print('x<1')\n",
    "else:\n",
    "    print('x=1')"
   ]
  },
  {
   "cell_type": "code",
   "execution_count": 5,
   "metadata": {},
   "outputs": [
    {
     "name": "stdout",
     "output_type": "stream",
     "text": [
      "x<1\n"
     ]
    }
   ],
   "source": [
    "# 分支语句只要一个条件被满足只会执行该条件内的语句，执行完毕后会跳出分支语句\n",
    "x = -2\n",
    "y = 2\n",
    "z = 3\n",
    "if x>1:\n",
    "    print('x>1')\n",
    "elif x<1:\n",
    "    print('x<1')\n",
    "elif x<-1:\n",
    "    print('x<-1')\n",
    "else:\n",
    "    print('x=1')"
   ]
  },
  {
   "cell_type": "code",
   "execution_count": 6,
   "metadata": {},
   "outputs": [],
   "source": [
    "# 定义函数用 def\n",
    "def function():\n",
    "    print('This is a function') \n",
    "    a = 1+2\n",
    "    print(a)"
   ]
  },
  {
   "cell_type": "code",
   "execution_count": 7,
   "metadata": {},
   "outputs": [
    {
     "name": "stdout",
     "output_type": "stream",
     "text": [
      "This is a function\n",
      "3\n"
     ]
    }
   ],
   "source": [
    "# 调用函数\n",
    "function()"
   ]
  },
  {
   "cell_type": "code",
   "execution_count": 8,
   "metadata": {},
   "outputs": [],
   "source": [
    "# 定义包括参数的函数\n",
    "def fun(a,b):\n",
    "    c = a*b\n",
    "    print(c)"
   ]
  },
  {
   "cell_type": "code",
   "execution_count": 9,
   "metadata": {},
   "outputs": [
    {
     "name": "stdout",
     "output_type": "stream",
     "text": [
      "8\n"
     ]
    }
   ],
   "source": [
    "fun(2,4)"
   ]
  },
  {
   "cell_type": "code",
   "execution_count": 10,
   "metadata": {},
   "outputs": [
    {
     "name": "stdout",
     "output_type": "stream",
     "text": [
      "12\n"
     ]
    }
   ],
   "source": [
    "fun(a=2,b=6)# 指定参数"
   ]
  },
  {
   "cell_type": "code",
   "execution_count": 11,
   "metadata": {},
   "outputs": [
    {
     "name": "stdout",
     "output_type": "stream",
     "text": [
      "12\n"
     ]
    }
   ],
   "source": [
    "fun(b=6,a=2)# 顺序无所谓"
   ]
  },
  {
   "cell_type": "code",
   "execution_count": 15,
   "metadata": {},
   "outputs": [],
   "source": [
    "def sale_car(price,colour,brand,is_second_hand,length,hight):\n",
    "    print('price:',price,\n",
    "         'colour:',colour,\n",
    "         'brand:',brand,\n",
    "         'is_second__hand',is_second_hand,\n",
    "         'length:',length,\n",
    "         'hight:',hight)"
   ]
  },
  {
   "cell_type": "code",
   "execution_count": 16,
   "metadata": {},
   "outputs": [
    {
     "name": "stdout",
     "output_type": "stream",
     "text": [
      "price: 1000 colour: red brand: carmy is_second__hand True length: 100 hight: 40\n"
     ]
    }
   ],
   "source": [
    "sale_car(1000,'red','carmy',True,100,40)"
   ]
  },
  {
   "cell_type": "code",
   "execution_count": 17,
   "metadata": {},
   "outputs": [],
   "source": [
    "# 默认参数一定要在普通参数后面\n",
    "def sale_car(price,colour='red',brand='benz',is_second_hand=True,length=100,hight=40):\n",
    "    print('price:',price,\n",
    "         'colour:',colour,\n",
    "         'brand:',brand,\n",
    "         'is_second__hand',is_second_hand,\n",
    "         'length:',length,\n",
    "         'hight:',hight)"
   ]
  },
  {
   "cell_type": "code",
   "execution_count": 18,
   "metadata": {},
   "outputs": [
    {
     "name": "stdout",
     "output_type": "stream",
     "text": [
      "price: 100 colour: red brand: benz is_second__hand True length: 100 hight: 40\n"
     ]
    }
   ],
   "source": [
    "sale_car(100)"
   ]
  },
  {
   "cell_type": "code",
   "execution_count": 19,
   "metadata": {},
   "outputs": [
    {
     "name": "stdout",
     "output_type": "stream",
     "text": [
      "price: 1000 colour: blue brand: benz is_second__hand True length: 100 hight: 40\n"
     ]
    }
   ],
   "source": [
    "sale_car(1000,'blue')"
   ]
  },
  {
   "cell_type": "code",
   "execution_count": 20,
   "metadata": {},
   "outputs": [],
   "source": [
    "def fun():\n",
    "    a = 10\n",
    "    print(a)\n",
    "    return a+100"
   ]
  },
  {
   "cell_type": "code",
   "execution_count": 21,
   "metadata": {},
   "outputs": [
    {
     "name": "stdout",
     "output_type": "stream",
     "text": [
      "10\n"
     ]
    },
    {
     "data": {
      "text/plain": [
       "110"
      ]
     },
     "execution_count": 21,
     "metadata": {},
     "output_type": "execute_result"
    }
   ],
   "source": [
    "fun()"
   ]
  },
  {
   "cell_type": "code",
   "execution_count": 22,
   "metadata": {},
   "outputs": [
    {
     "name": "stdout",
     "output_type": "stream",
     "text": [
      "100\n"
     ]
    },
    {
     "ename": "NameError",
     "evalue": "name 'a' is not defined",
     "output_type": "error",
     "traceback": [
      "\u001b[1;31m---------------------------------------------------------------------------\u001b[0m",
      "\u001b[1;31mNameError\u001b[0m                                 Traceback (most recent call last)",
      "\u001b[1;32m<ipython-input-22-d51238be30ac>\u001b[0m in \u001b[0;36m<module>\u001b[1;34m()\u001b[0m\n\u001b[0;32m      4\u001b[0m     \u001b[0ma\u001b[0m \u001b[1;33m=\u001b[0m \u001b[1;36m10\u001b[0m\u001b[1;33m\u001b[0m\u001b[0m\n\u001b[0;32m      5\u001b[0m \u001b[0mprint\u001b[0m\u001b[1;33m(\u001b[0m\u001b[0mAPPLE\u001b[0m\u001b[1;33m)\u001b[0m\u001b[1;33m\u001b[0m\u001b[0m\n\u001b[1;32m----> 6\u001b[1;33m \u001b[0mprint\u001b[0m\u001b[1;33m(\u001b[0m\u001b[0ma\u001b[0m\u001b[1;33m)\u001b[0m\u001b[1;33m\u001b[0m\u001b[0m\n\u001b[0m",
      "\u001b[1;31mNameError\u001b[0m: name 'a' is not defined"
     ]
    }
   ],
   "source": [
    "# 这是一个全局变量\n",
    "APPLE = 100\n",
    "\n",
    "def fun():\n",
    "    # 这是一个局部变量\n",
    "    a = 10\n",
    "print(APPLE)\n",
    "print(a)"
   ]
  },
  {
   "cell_type": "code",
   "execution_count": 26,
   "metadata": {},
   "outputs": [
    {
     "name": "stdout",
     "output_type": "stream",
     "text": [
      "20\n"
     ]
    }
   ],
   "source": [
    "# 函数全局变量定义前，在函数外先要定义过\n",
    "a = None\n",
    "def fun():\n",
    "    # 这是一个局部变量\n",
    "    global a\n",
    "    a =20\n",
    "\n",
    "fun()\n",
    "print(a)"
   ]
  },
  {
   "cell_type": "markdown",
   "metadata": {},
   "source": [
    "## 文件写入"
   ]
  },
  {
   "cell_type": "code",
   "execution_count": 1,
   "metadata": {},
   "outputs": [],
   "source": [
    "# 反斜杠加n代表换行\n",
    "text = 'This is my first test.\\nThis is next line.\\nThis is last line'\n",
    "\n",
    "my_file = open('myfile.txt','w')\n",
    "my_file.write(text)\n",
    "my_file.close()"
   ]
  },
  {
   "cell_type": "code",
   "execution_count": 2,
   "metadata": {},
   "outputs": [],
   "source": [
    "append_text = '\\nThis is appended file'\n",
    "\n",
    "my_file = open('myfile.txt','a')\n",
    "my_file.write(append_text)\n",
    "my_file.close()"
   ]
  },
  {
   "cell_type": "code",
   "execution_count": 3,
   "metadata": {},
   "outputs": [
    {
     "name": "stdout",
     "output_type": "stream",
     "text": [
      "This is my first test.\n",
      "This is next line.\n",
      "This is last line\n",
      "This is appended file\n"
     ]
    }
   ],
   "source": [
    "file = open('myfile.txt','r')\n",
    "content = file.read()\n",
    "print(content)"
   ]
  },
  {
   "cell_type": "code",
   "execution_count": 8,
   "metadata": {},
   "outputs": [
    {
     "name": "stdout",
     "output_type": "stream",
     "text": [
      "This is my first test.\n",
      " This is next line.\n",
      "\n"
     ]
    }
   ],
   "source": [
    "file = open('myfile.txt','r')\n",
    "# 一次读一行\n",
    "content = file.readline()\n",
    "second_read_time = file.readline()\n",
    "print(content,second_read_time)"
   ]
  },
  {
   "cell_type": "code",
   "execution_count": 9,
   "metadata": {},
   "outputs": [
    {
     "name": "stdout",
     "output_type": "stream",
     "text": [
      "['This is my first test.\\n', 'This is next line.\\n', 'This is last line\\n', 'This is appended file']\n"
     ]
    }
   ],
   "source": [
    "file = open('myfile.txt','r')\n",
    "# 全部读取\n",
    "content = file.readlines()\n",
    "# 就会把它放到一个列表中\n",
    "print(content)"
   ]
  },
  {
   "cell_type": "code",
   "execution_count": 21,
   "metadata": {},
   "outputs": [],
   "source": [
    "# 定义类\n",
    "class Calculator:\n",
    "    # 定义类中的函数要有 self\n",
    "    name = 'Good calculator'\n",
    "    price = 18\n",
    "    def add(self,x,y):\n",
    "        print(self.name)\n",
    "        result = x+y\n",
    "        print(result)\n",
    "    def minus(self,x,y):\n",
    "        result = x-y\n",
    "        print(result)\n",
    "    def times(self,x,y):\n",
    "        print(x*y)\n",
    "    def divide(self,x,y):\n",
    "        print(x/y)    "
   ]
  },
  {
   "cell_type": "code",
   "execution_count": 22,
   "metadata": {},
   "outputs": [],
   "source": [
    "cal = Calculator()"
   ]
  },
  {
   "cell_type": "code",
   "execution_count": 23,
   "metadata": {},
   "outputs": [
    {
     "data": {
      "text/plain": [
       "'Good calculator'"
      ]
     },
     "execution_count": 23,
     "metadata": {},
     "output_type": "execute_result"
    }
   ],
   "source": [
    "cal.name"
   ]
  },
  {
   "cell_type": "code",
   "execution_count": 24,
   "metadata": {},
   "outputs": [
    {
     "data": {
      "text/plain": [
       "18"
      ]
     },
     "execution_count": 24,
     "metadata": {},
     "output_type": "execute_result"
    }
   ],
   "source": [
    "cal.price"
   ]
  },
  {
   "cell_type": "code",
   "execution_count": 25,
   "metadata": {},
   "outputs": [
    {
     "name": "stdout",
     "output_type": "stream",
     "text": [
      "Good calculator\n",
      "21\n"
     ]
    }
   ],
   "source": [
    "cal.add(10,11)"
   ]
  },
  {
   "cell_type": "code",
   "execution_count": 26,
   "metadata": {},
   "outputs": [
    {
     "name": "stdout",
     "output_type": "stream",
     "text": [
      "-1\n"
     ]
    }
   ],
   "source": [
    "cal.minus(10,11)"
   ]
  },
  {
   "cell_type": "code",
   "execution_count": 27,
   "metadata": {},
   "outputs": [
    {
     "name": "stdout",
     "output_type": "stream",
     "text": [
      "6.5\n"
     ]
    }
   ],
   "source": [
    "cal.divide(13,2)"
   ]
  },
  {
   "cell_type": "code",
   "execution_count": 30,
   "metadata": {},
   "outputs": [],
   "source": [
    "# 定义类\n",
    "class C:\n",
    "    # 初始化的时候，定义一些参数\n",
    "    def __init__(self,name,price,hight,width,weight):\n",
    "        self.n = name\n",
    "        self.p = price\n",
    "        self.h = hight\n",
    "        self.wi = width\n",
    "        self.we = weight\n"
   ]
  },
  {
   "cell_type": "code",
   "execution_count": 31,
   "metadata": {},
   "outputs": [],
   "source": [
    "# 使用类的时候要给出所需参数\n",
    "c=C('a',18,10,2,3)"
   ]
  },
  {
   "cell_type": "code",
   "execution_count": 33,
   "metadata": {},
   "outputs": [
    {
     "data": {
      "text/plain": [
       "'a'"
      ]
     },
     "execution_count": 33,
     "metadata": {},
     "output_type": "execute_result"
    }
   ],
   "source": [
    "c.n"
   ]
  },
  {
   "cell_type": "code",
   "execution_count": 34,
   "metadata": {},
   "outputs": [
    {
     "data": {
      "text/plain": [
       "10"
      ]
     },
     "execution_count": 34,
     "metadata": {},
     "output_type": "execute_result"
    }
   ],
   "source": [
    "c.h"
   ]
  },
  {
   "cell_type": "code",
   "execution_count": 35,
   "metadata": {},
   "outputs": [
    {
     "data": {
      "text/plain": [
       "18"
      ]
     },
     "execution_count": 35,
     "metadata": {},
     "output_type": "execute_result"
    }
   ],
   "source": [
    "c.p"
   ]
  },
  {
   "cell_type": "code",
   "execution_count": 36,
   "metadata": {},
   "outputs": [
    {
     "data": {
      "text/plain": [
       "3"
      ]
     },
     "execution_count": 36,
     "metadata": {},
     "output_type": "execute_result"
    }
   ],
   "source": [
    "c.we"
   ]
  },
  {
   "cell_type": "code",
   "execution_count": 37,
   "metadata": {},
   "outputs": [
    {
     "data": {
      "text/plain": [
       "2"
      ]
     },
     "execution_count": 37,
     "metadata": {},
     "output_type": "execute_result"
    }
   ],
   "source": [
    "c.wi"
   ]
  },
  {
   "cell_type": "code",
   "execution_count": 38,
   "metadata": {},
   "outputs": [
    {
     "name": "stdout",
     "output_type": "stream",
     "text": [
      "please give a number:1\n",
      "This input number is: 1\n"
     ]
    }
   ],
   "source": [
    "a_input = input('please give a number:')\n",
    "print(\"This input number is:\",a_input)"
   ]
  },
  {
   "cell_type": "code",
   "execution_count": 40,
   "metadata": {},
   "outputs": [
    {
     "name": "stdout",
     "output_type": "stream",
     "text": [
      "please give a number:1\n",
      "This is a good one\n",
      "This input number is: 1\n"
     ]
    }
   ],
   "source": [
    "# 输入的东西会被转化为字符串\n",
    "a_input = input('please give a number:')\n",
    "if a_input == '1':\n",
    "    print('This is a good one')\n",
    "elif a_input == '2':\n",
    "    print('See you next time')\n",
    "else:\n",
    "    print('Good Luck')\n",
    "print(\"This input number is:\",a_input)"
   ]
  },
  {
   "cell_type": "code",
   "execution_count": 41,
   "metadata": {},
   "outputs": [
    {
     "name": "stdout",
     "output_type": "stream",
     "text": [
      "please give a number:2\n",
      "See you next time\n",
      "This input number is: 2\n"
     ]
    }
   ],
   "source": [
    "# 输入的东西会被转化为字符串\n",
    "a_input = input('please give a number:')\n",
    "if a_input == '1':\n",
    "    print('This is a good one')\n",
    "elif a_input == '2':\n",
    "    print('See you next time')\n",
    "else:\n",
    "    print('Good Luck')\n",
    "print(\"This input number is:\",a_input)"
   ]
  },
  {
   "cell_type": "code",
   "execution_count": 42,
   "metadata": {},
   "outputs": [
    {
     "name": "stdout",
     "output_type": "stream",
     "text": [
      "please give a number:3\n",
      "Good Luck\n",
      "This input number is: 3\n"
     ]
    }
   ],
   "source": [
    "# 输入的东西会被转化为字符串\n",
    "a_input = input('please give a number:')\n",
    "if a_input == '1':\n",
    "    print('This is a good one')\n",
    "elif a_input == '2':\n",
    "    print('See you next time')\n",
    "else:\n",
    "    print('Good Luck')\n",
    "print(\"This input number is:\",a_input)"
   ]
  },
  {
   "cell_type": "code",
   "execution_count": 1,
   "metadata": {},
   "outputs": [
    {
     "name": "stdout",
     "output_type": "stream",
     "text": [
      "12\n",
      "3\n",
      "67\n",
      "7\n",
      "86\n"
     ]
    }
   ],
   "source": [
    "# 元组\n",
    "a_tuple = (12,4,5,15,6)\n",
    "another_tuple = 2,4,6,7,8\n",
    "\n",
    "# 列表\n",
    "a_list = [12,3,67,7,86]\n",
    "\n",
    "for i in a_list:\n",
    "    print(i)\n"
   ]
  },
  {
   "cell_type": "code",
   "execution_count": 2,
   "metadata": {},
   "outputs": [
    {
     "name": "stdout",
     "output_type": "stream",
     "text": [
      "12\n",
      "4\n",
      "5\n",
      "15\n",
      "6\n"
     ]
    }
   ],
   "source": [
    "# 列表的索引是从 0 开始的\n",
    "for i in a_tuple:\n",
    "    print(i)"
   ]
  },
  {
   "cell_type": "code",
   "execution_count": 3,
   "metadata": {},
   "outputs": [
    {
     "name": "stdout",
     "output_type": "stream",
     "text": [
      "i= 0 number in list= 12\n",
      "i= 1 number in list= 3\n",
      "i= 2 number in list= 67\n",
      "i= 3 number in list= 7\n",
      "i= 4 number in list= 86\n"
     ]
    }
   ],
   "source": [
    "for i in range(len(a_list)):\n",
    "    print('i=',i,'number in list=',a_list[i])"
   ]
  },
  {
   "cell_type": "code",
   "execution_count": 5,
   "metadata": {},
   "outputs": [
    {
     "name": "stdout",
     "output_type": "stream",
     "text": [
      "[1, 2, 3, 4, 2, 3, 1, 1, 0]\n"
     ]
    }
   ],
   "source": [
    "a = [1,2,3,4,2,3,1,1]\n",
    "# 在列表最后追加一个数字\n",
    "a.append(0)\n",
    "\n",
    "print(a)"
   ]
  },
  {
   "cell_type": "code",
   "execution_count": 6,
   "metadata": {},
   "outputs": [
    {
     "name": "stdout",
     "output_type": "stream",
     "text": [
      "[1, 0, 2, 3, 4, 2, 3, 1, 1]\n"
     ]
    }
   ],
   "source": [
    "a = [1,2,3,4,2,3,1,1]\n",
    "# 在列表插入一个数字\n",
    "# 在索引为 1 的 位置插入 1\n",
    "a.insert(1,0)\n",
    "\n",
    "print(a)"
   ]
  },
  {
   "cell_type": "code",
   "execution_count": 7,
   "metadata": {},
   "outputs": [
    {
     "name": "stdout",
     "output_type": "stream",
     "text": [
      "[1, 3, 4, 2, 3, 1, 1]\n"
     ]
    }
   ],
   "source": [
    "a = [1,2,3,4,2,3,1,1]\n",
    "# 在列表插入一个数字\n",
    "# 按顺序在列表中除掉第一个值为 2 的数\n",
    "a.remove(2)\n",
    "\n",
    "print(a)"
   ]
  },
  {
   "cell_type": "code",
   "execution_count": 9,
   "metadata": {},
   "outputs": [
    {
     "name": "stdout",
     "output_type": "stream",
     "text": [
      "1\n"
     ]
    }
   ],
   "source": [
    "# 索引从 0 开始\n",
    "print(a[0])"
   ]
  },
  {
   "cell_type": "code",
   "execution_count": 11,
   "metadata": {},
   "outputs": [
    {
     "name": "stdout",
     "output_type": "stream",
     "text": [
      "45\n"
     ]
    }
   ],
   "source": [
    "a = [1,2,45]\n",
    "# 打印最后一个值（用 -1 可以代替最后一位的索引）\n",
    "print(a[-1])"
   ]
  },
  {
   "cell_type": "code",
   "execution_count": 12,
   "metadata": {},
   "outputs": [
    {
     "name": "stdout",
     "output_type": "stream",
     "text": [
      "[1, 2, 3]\n"
     ]
    }
   ],
   "source": [
    "a = [1,2,3,4,5,5,6]\n",
    "# 打印前三位\n",
    "print(a[0:3])"
   ]
  },
  {
   "cell_type": "code",
   "execution_count": 13,
   "metadata": {},
   "outputs": [
    {
     "name": "stdout",
     "output_type": "stream",
     "text": [
      "[1, 2, 3]\n"
     ]
    }
   ],
   "source": [
    "a = [1,2,3,4,5,5,6]\n",
    "# 打印前三位\n",
    "print(a[:3])"
   ]
  },
  {
   "cell_type": "code",
   "execution_count": 15,
   "metadata": {},
   "outputs": [
    {
     "name": "stdout",
     "output_type": "stream",
     "text": [
      "[2, 3, 4, 5]\n"
     ]
    }
   ],
   "source": [
    "a = [1,2,3,4,5,5,6]\n",
    "# 打印前二位到第五位\n",
    "print(a[1:5])"
   ]
  },
  {
   "cell_type": "code",
   "execution_count": 17,
   "metadata": {},
   "outputs": [
    {
     "name": "stdout",
     "output_type": "stream",
     "text": [
      "[5, 5, 6]\n"
     ]
    }
   ],
   "source": [
    "a = [1,2,3,4,5,5,6]\n",
    "# 倒数第三位到最后\n",
    "print(a[-3:])"
   ]
  },
  {
   "cell_type": "code",
   "execution_count": 18,
   "metadata": {},
   "outputs": [
    {
     "name": "stdout",
     "output_type": "stream",
     "text": [
      "1\n"
     ]
    }
   ],
   "source": [
    "a = [1,2,3,4,5,5,6]\n",
    "# 列表第一次出现 2 时所对应的索引\n",
    "print(a.index(2))"
   ]
  },
  {
   "cell_type": "code",
   "execution_count": 19,
   "metadata": {},
   "outputs": [
    {
     "name": "stdout",
     "output_type": "stream",
     "text": [
      "2\n"
     ]
    }
   ],
   "source": [
    "a = [1,2,3,4,5,5,6]\n",
    "# 5 出现的次数\n",
    "print(a.count(5))"
   ]
  },
  {
   "cell_type": "code",
   "execution_count": 21,
   "metadata": {},
   "outputs": [
    {
     "name": "stdout",
     "output_type": "stream",
     "text": [
      "[2, 4, 5, 23, 34, 45, 54, 193, 245, 543, 798, 533232]\n"
     ]
    }
   ],
   "source": [
    "a = [193,34,54,23,4,245,533232,5,543,2,45,798]\n",
    "# 从小到大排序\n",
    "a.sort()\n",
    "print(a)"
   ]
  },
  {
   "cell_type": "code",
   "execution_count": 22,
   "metadata": {},
   "outputs": [
    {
     "name": "stdout",
     "output_type": "stream",
     "text": [
      "[533232, 798, 543, 245, 193, 54, 45, 34, 23, 5, 4, 2]\n"
     ]
    }
   ],
   "source": [
    "a = [193,34,54,23,4,245,533232,5,543,2,45,798]\n",
    "# 从小到大排序\n",
    "a.sort(reverse=True)\n",
    "print(a)"
   ]
  },
  {
   "cell_type": "code",
   "execution_count": 3,
   "metadata": {},
   "outputs": [
    {
     "name": "stdout",
     "output_type": "stream",
     "text": [
      "3\n",
      "1\n"
     ]
    }
   ],
   "source": [
    "a = [1,2,3,4,5]\n",
    "multi_dim_a = [[1,2,3],\n",
    "               [4,5,6],\n",
    "               [7,8,9]]\n",
    "print(a[2])\n",
    "print(multi_dim_a[0][0])"
   ]
  },
  {
   "cell_type": "code",
   "execution_count": 8,
   "metadata": {},
   "outputs": [
    {
     "name": "stdout",
     "output_type": "stream",
     "text": [
      "1\n",
      "a\n"
     ]
    }
   ],
   "source": [
    "d = {'apple':1,'pear':2,'orange':3}\n",
    "d2 = {1:'a','c':'b',3:'12'}\n",
    "print(d['apple'])\n",
    "print(d2[1])"
   ]
  },
  {
   "cell_type": "code",
   "execution_count": 9,
   "metadata": {},
   "outputs": [
    {
     "name": "stdout",
     "output_type": "stream",
     "text": [
      "{'apple': 1, 'orange': 3}\n"
     ]
    }
   ],
   "source": [
    "# 删除字典中的元素\n",
    "del d['pear']\n",
    "print(d)"
   ]
  },
  {
   "cell_type": "code",
   "execution_count": 10,
   "metadata": {},
   "outputs": [
    {
     "name": "stdout",
     "output_type": "stream",
     "text": [
      "{'apple': 1, 'orange': 3, 'b': 20}\n"
     ]
    }
   ],
   "source": [
    "# 加入一个键为 b 值为 20 的元素 \n",
    "d['b']=20\n",
    "print(d)"
   ]
  },
  {
   "cell_type": "code",
   "execution_count": 12,
   "metadata": {},
   "outputs": [
    {
     "name": "stdout",
     "output_type": "stream",
     "text": [
      "{'a': [1, 2, 3], 'p': {1: 3, 3: 'a'}, 'o': (2, 3, 4)}\n",
      "a\n"
     ]
    }
   ],
   "source": [
    "# 字典里的值可以是列表可以是字典可以是元组\n",
    "d = {'a':[1,2,3],'p':{1:3,3:'a'},'o':(2,3,4)}\n",
    "print(d)\n",
    "# 在 d 里面找 p 的值，在 p 的值里找 3 的值\n",
    "print(d['p'][3])"
   ]
  },
  {
   "cell_type": "code",
   "execution_count": 13,
   "metadata": {},
   "outputs": [
    {
     "name": "stdout",
     "output_type": "stream",
     "text": [
      "time.struct_time(tm_year=2019, tm_mon=7, tm_mday=9, tm_hour=16, tm_min=33, tm_sec=40, tm_wday=1, tm_yday=190, tm_isdst=0)\n"
     ]
    }
   ],
   "source": [
    "# 导入模块\n",
    "import time\n",
    "# 打印当前时间\n",
    "print(time.localtime())"
   ]
  },
  {
   "cell_type": "code",
   "execution_count": 14,
   "metadata": {},
   "outputs": [
    {
     "name": "stdout",
     "output_type": "stream",
     "text": [
      "time.struct_time(tm_year=2019, tm_mon=7, tm_mday=9, tm_hour=16, tm_min=35, tm_sec=16, tm_wday=1, tm_yday=190, tm_isdst=0)\n"
     ]
    }
   ],
   "source": [
    "import time as t\n",
    "print(t.localtime())"
   ]
  },
  {
   "cell_type": "code",
   "execution_count": 15,
   "metadata": {},
   "outputs": [
    {
     "name": "stdout",
     "output_type": "stream",
     "text": [
      "time.struct_time(tm_year=2019, tm_mon=7, tm_mday=9, tm_hour=16, tm_min=37, tm_sec=55, tm_wday=1, tm_yday=190, tm_isdst=0)\n",
      "<built-in function time>\n"
     ]
    }
   ],
   "source": [
    "from time import time,localtime\n",
    "# 仅仅导入 time 里面的两个功能 time 和 localtime，不用使用 time.localtime()\n",
    "print(localtime())\n",
    "print(time)"
   ]
  },
  {
   "cell_type": "code",
   "execution_count": 18,
   "metadata": {},
   "outputs": [
    {
     "name": "stdout",
     "output_type": "stream",
     "text": [
      "time.struct_time(tm_year=2019, tm_mon=7, tm_mday=9, tm_hour=16, tm_min=38, tm_sec=36, tm_wday=1, tm_yday=190, tm_isdst=0)\n",
      "<built-in function time>\n"
     ]
    }
   ],
   "source": [
    "# 导入 time 的所有功能\n",
    "from time import *\n",
    "print(localtime())\n",
    "print(time)"
   ]
  },
  {
   "cell_type": "code",
   "execution_count": 19,
   "metadata": {},
   "outputs": [
    {
     "name": "stdout",
     "output_type": "stream",
     "text": [
      "l am mi\n",
      "l am python1\n"
     ]
    }
   ],
   "source": [
    "# 导入当前目录的 m1 py 文件\n",
    "import m1\n",
    "\n",
    "m1.printdata('l am python1')"
   ]
  },
  {
   "cell_type": "code",
   "execution_count": 1,
   "metadata": {},
   "outputs": [
    {
     "name": "stdout",
     "output_type": "stream",
     "text": [
      "type something12\n",
      "still in while\n",
      "type something1\n",
      "still in while\n",
      "finish run\n"
     ]
    }
   ],
   "source": [
    "a = True\n",
    "while a:\n",
    "    b = input('type something')\n",
    "    if b == '1':\n",
    "        a = False\n",
    "    else:\n",
    "        pass\n",
    "    print('still in while')\n",
    "print('finish run')"
   ]
  },
  {
   "cell_type": "code",
   "execution_count": 2,
   "metadata": {},
   "outputs": [
    {
     "name": "stdout",
     "output_type": "stream",
     "text": [
      "type something1w\n",
      "still in while\n",
      "type something212\n",
      "still in while\n",
      "type something2\n",
      "still in while\n",
      "type something1\n",
      "finish run\n"
     ]
    }
   ],
   "source": [
    "while True:\n",
    "    b = input('type something')\n",
    "    if b == '1':\n",
    "        break\n",
    "    else:\n",
    "        pass\n",
    "    print('still in while')\n",
    "print('finish run')"
   ]
  },
  {
   "cell_type": "code",
   "execution_count": 3,
   "metadata": {},
   "outputs": [
    {
     "name": "stdout",
     "output_type": "stream",
     "text": [
      "type something121\n",
      "still in while\n",
      "type something1\n",
      "type something\n",
      "still in while\n",
      "type something1\n",
      "finish run\n"
     ]
    }
   ],
   "source": [
    "a = 8\n",
    "while a<10:\n",
    "    b = input('type something')\n",
    "    if b == '1':\n",
    "        a = a+1\n",
    "        continue\n",
    "    else:\n",
    "        pass\n",
    "    print('still in while')\n",
    "print('finish run')"
   ]
  },
  {
   "cell_type": "code",
   "execution_count": 4,
   "metadata": {},
   "outputs": [
    {
     "ename": "FileNotFoundError",
     "evalue": "[Errno 2] No such file or directory: 'eeee'",
     "output_type": "error",
     "traceback": [
      "\u001b[1;31m---------------------------------------------------------------------------\u001b[0m",
      "\u001b[1;31mFileNotFoundError\u001b[0m                         Traceback (most recent call last)",
      "\u001b[1;32m<ipython-input-4-a6855993d82c>\u001b[0m in \u001b[0;36m<module>\u001b[1;34m()\u001b[0m\n\u001b[1;32m----> 1\u001b[1;33m \u001b[0mfile\u001b[0m \u001b[1;33m=\u001b[0m \u001b[0mopen\u001b[0m\u001b[1;33m(\u001b[0m\u001b[1;34m'eeee'\u001b[0m\u001b[1;33m,\u001b[0m\u001b[1;34m'r'\u001b[0m\u001b[1;33m)\u001b[0m\u001b[1;33m\u001b[0m\u001b[0m\n\u001b[0m",
      "\u001b[1;31mFileNotFoundError\u001b[0m: [Errno 2] No such file or directory: 'eeee'"
     ]
    }
   ],
   "source": [
    "# 因为没有该文件所以报错\n",
    "file = open('eeee','r')"
   ]
  },
  {
   "cell_type": "code",
   "execution_count": 12,
   "metadata": {},
   "outputs": [
    {
     "name": "stdout",
     "output_type": "stream",
     "text": [
      "there is no file named as eeee\n",
      "do you want to creat a new file4\n"
     ]
    }
   ],
   "source": [
    "try:\n",
    "    file = open('eeee.txt','r+w')\n",
    "except Exception as e:\n",
    "    print('there is no file named as eeee')\n",
    "    response = input('do you want to creat a new file')\n",
    "    if response=='y':\n",
    "        file = open('eeee.txt','w')\n",
    "    else:\n",
    "        pass"
   ]
  },
  {
   "cell_type": "code",
   "execution_count": 13,
   "metadata": {},
   "outputs": [
    {
     "data": {
      "text/plain": [
       "[(1, 4), (2, 5), (3, 6)]"
      ]
     },
     "execution_count": 13,
     "metadata": {},
     "output_type": "execute_result"
    }
   ],
   "source": [
    "a = [1,2,3]\n",
    "b = [4,5,6]\n",
    "zip(a,b)\n",
    "list(zip(a,b))"
   ]
  },
  {
   "cell_type": "code",
   "execution_count": 14,
   "metadata": {},
   "outputs": [
    {
     "name": "stdout",
     "output_type": "stream",
     "text": [
      "0.5 8\n",
      "1.0 10\n",
      "1.5 12\n"
     ]
    }
   ],
   "source": [
    "for i,j in zip(a,b):\n",
    "    print(i/2,j*2)"
   ]
  },
  {
   "cell_type": "code",
   "execution_count": 15,
   "metadata": {},
   "outputs": [
    {
     "data": {
      "text/plain": [
       "[(1, 1, 4), (2, 2, 5), (3, 3, 6)]"
      ]
     },
     "execution_count": 15,
     "metadata": {},
     "output_type": "execute_result"
    }
   ],
   "source": [
    "list(zip(a,a,b))"
   ]
  },
  {
   "cell_type": "code",
   "execution_count": 16,
   "metadata": {},
   "outputs": [],
   "source": [
    "def fun1(x,y):\n",
    "    return(x+y)"
   ]
  },
  {
   "cell_type": "code",
   "execution_count": 17,
   "metadata": {},
   "outputs": [
    {
     "data": {
      "text/plain": [
       "5"
      ]
     },
     "execution_count": 17,
     "metadata": {},
     "output_type": "execute_result"
    }
   ],
   "source": [
    "fun1(2,3)"
   ]
  },
  {
   "cell_type": "code",
   "execution_count": 18,
   "metadata": {},
   "outputs": [],
   "source": [
    "fun2 = lambda x,y:x+y"
   ]
  },
  {
   "cell_type": "code",
   "execution_count": 19,
   "metadata": {},
   "outputs": [
    {
     "data": {
      "text/plain": [
       "5"
      ]
     },
     "execution_count": 19,
     "metadata": {},
     "output_type": "execute_result"
    }
   ],
   "source": [
    "fun2(2,3)"
   ]
  },
  {
   "cell_type": "code",
   "execution_count": 21,
   "metadata": {},
   "outputs": [
    {
     "data": {
      "text/plain": [
       "[3]"
      ]
     },
     "execution_count": 21,
     "metadata": {},
     "output_type": "execute_result"
    }
   ],
   "source": [
    "map(fun1,[1],[2])\n",
    "list(map(fun1,[1],[2]))"
   ]
  },
  {
   "cell_type": "code",
   "execution_count": 22,
   "metadata": {},
   "outputs": [
    {
     "data": {
      "text/plain": [
       "[3, 8]"
      ]
     },
     "execution_count": 22,
     "metadata": {},
     "output_type": "execute_result"
    }
   ],
   "source": [
    "list(map(fun1,[1,3],[2,5]))"
   ]
  },
  {
   "cell_type": "markdown",
   "metadata": {},
   "source": [
    "深拷贝和浅拷贝"
   ]
  },
  {
   "cell_type": "code",
   "execution_count": 23,
   "metadata": {},
   "outputs": [
    {
     "name": "stdout",
     "output_type": "stream",
     "text": [
      "371067140808\n",
      "371067140808\n"
     ]
    }
   ],
   "source": [
    "# 浅拷贝与深拷贝\n",
    "import copy\n",
    "a = [1,2,3]\n",
    "b = a\n",
    "# 查看变量的索引\n",
    "print(id(a))\n",
    "print(id(b))"
   ]
  },
  {
   "cell_type": "code",
   "execution_count": 24,
   "metadata": {},
   "outputs": [
    {
     "data": {
      "text/plain": [
       "[11, 2, 3]"
      ]
     },
     "execution_count": 24,
     "metadata": {},
     "output_type": "execute_result"
    }
   ],
   "source": [
    "b[0]=11\n",
    "a"
   ]
  },
  {
   "cell_type": "code",
   "execution_count": 25,
   "metadata": {},
   "outputs": [
    {
     "data": {
      "text/plain": [
       "[11, 12, 3]"
      ]
     },
     "execution_count": 25,
     "metadata": {},
     "output_type": "execute_result"
    }
   ],
   "source": [
    "a[1]=12\n",
    "b"
   ]
  },
  {
   "cell_type": "code",
   "execution_count": 26,
   "metadata": {},
   "outputs": [
    {
     "name": "stdout",
     "output_type": "stream",
     "text": [
      "True\n"
     ]
    }
   ],
   "source": [
    "print(id(a)==id(b))"
   ]
  },
  {
   "cell_type": "code",
   "execution_count": 27,
   "metadata": {},
   "outputs": [
    {
     "name": "stdout",
     "output_type": "stream",
     "text": [
      "False\n"
     ]
    }
   ],
   "source": [
    "c = copy.copy(a)\n",
    "print(id(a)==id(c))"
   ]
  },
  {
   "cell_type": "code",
   "execution_count": 28,
   "metadata": {},
   "outputs": [
    {
     "data": {
      "text/plain": [
       "[11, 12, 3]"
      ]
     },
     "execution_count": 28,
     "metadata": {},
     "output_type": "execute_result"
    }
   ],
   "source": [
    "c[1]=22222\n",
    "a"
   ]
  },
  {
   "cell_type": "code",
   "execution_count": 29,
   "metadata": {},
   "outputs": [
    {
     "data": {
      "text/plain": [
       "False"
      ]
     },
     "execution_count": 29,
     "metadata": {},
     "output_type": "execute_result"
    }
   ],
   "source": [
    "a = [1,2,[3,4]]\n",
    "d = copy.copy(a)\n",
    "id(a) == id(d)"
   ]
  },
  {
   "cell_type": "code",
   "execution_count": 31,
   "metadata": {},
   "outputs": [
    {
     "data": {
      "text/plain": [
       "True"
      ]
     },
     "execution_count": 31,
     "metadata": {},
     "output_type": "execute_result"
    }
   ],
   "source": [
    "id(a[2]) == id(d[2])"
   ]
  },
  {
   "cell_type": "code",
   "execution_count": 33,
   "metadata": {},
   "outputs": [
    {
     "data": {
      "text/plain": [
       "[1, 2, [3, 4]]"
      ]
     },
     "execution_count": 33,
     "metadata": {},
     "output_type": "execute_result"
    }
   ],
   "source": [
    "a[0]=111\n",
    "d"
   ]
  },
  {
   "cell_type": "code",
   "execution_count": 34,
   "metadata": {},
   "outputs": [
    {
     "data": {
      "text/plain": [
       "[1, 2, [333, 4]]"
      ]
     },
     "execution_count": 34,
     "metadata": {},
     "output_type": "execute_result"
    }
   ],
   "source": [
    "a[2][0]=333\n",
    "d"
   ]
  },
  {
   "cell_type": "code",
   "execution_count": 35,
   "metadata": {},
   "outputs": [],
   "source": [
    "e = copy.deepcopy(a)"
   ]
  },
  {
   "cell_type": "code",
   "execution_count": 36,
   "metadata": {},
   "outputs": [
    {
     "data": {
      "text/plain": [
       "False"
      ]
     },
     "execution_count": 36,
     "metadata": {},
     "output_type": "execute_result"
    }
   ],
   "source": [
    "id(e[2]) == id(a[2])"
   ]
  },
  {
   "cell_type": "code",
   "execution_count": 38,
   "metadata": {},
   "outputs": [],
   "source": [
    "import pickle\n",
    "\n",
    "a_dict = {'da':111,2:[23,43,1],'23':{1:2,'d':'sa'}}\n",
    "file = open('pickle_example.pickle','wb')\n",
    "pickle.dump(a_dict,file)\n",
    "file.close()"
   ]
  },
  {
   "cell_type": "code",
   "execution_count": 39,
   "metadata": {},
   "outputs": [],
   "source": [
    "file = open('pickle_example.pickle','rb')\n",
    "a_dict1 = pickle.load(file)\n",
    "file.close()"
   ]
  },
  {
   "cell_type": "code",
   "execution_count": 42,
   "metadata": {},
   "outputs": [
    {
     "name": "stdout",
     "output_type": "stream",
     "text": [
      "{'da': 111, 2: [23, 43, 1], '23': {1: 2, 'd': 'sa'}}\n",
      "{'da': 111, 2: [23, 43, 1], '23': {1: 2, 'd': 'sa'}}\n"
     ]
    }
   ],
   "source": [
    "print(a_dict1)\n",
    "print(a_dict)"
   ]
  },
  {
   "cell_type": "code",
   "execution_count": 45,
   "metadata": {},
   "outputs": [
    {
     "name": "stdout",
     "output_type": "stream",
     "text": [
      "{'da': 111, 2: [23, 43, 1], '23': {1: 2, 'd': 'sa'}}\n"
     ]
    }
   ],
   "source": [
    "# 自动 close\n",
    "with open('pickle_example.pickle','rb') as file:\n",
    "    a_dict1 = pickle.load(file)\n",
    "print(a_dict1)\n",
    "    "
   ]
  },
  {
   "cell_type": "code",
   "execution_count": 1,
   "metadata": {},
   "outputs": [
    {
     "name": "stdout",
     "output_type": "stream",
     "text": [
      "{'a', 'b', 'c', 'd'}\n"
     ]
    }
   ],
   "source": [
    "char_list = ['a','b','c','c','d','d','d']\n",
    "\n",
    "# 去除重复的元素（set）\n",
    "\n",
    "print(set(char_list))"
   ]
  },
  {
   "cell_type": "code",
   "execution_count": 2,
   "metadata": {},
   "outputs": [
    {
     "name": "stdout",
     "output_type": "stream",
     "text": [
      "<class 'set'>\n"
     ]
    }
   ],
   "source": [
    "print(type(set(char_list)))"
   ]
  },
  {
   "cell_type": "code",
   "execution_count": 3,
   "metadata": {},
   "outputs": [
    {
     "name": "stdout",
     "output_type": "stream",
     "text": [
      "<class 'dict'>\n"
     ]
    }
   ],
   "source": [
    "print(type({1:2}))"
   ]
  },
  {
   "cell_type": "code",
   "execution_count": 5,
   "metadata": {},
   "outputs": [
    {
     "name": "stdout",
     "output_type": "stream",
     "text": [
      "{'r', 'u', 's', 'l', ' ', 'e', 'w', 'm', 'o', 'a', 'i', 't', 'b', 'c', 'h', 'k'}\n"
     ]
    }
   ],
   "source": [
    "sentence = 'welcome back to this tutorial'\n",
    "print(set(sentence))"
   ]
  },
  {
   "cell_type": "code",
   "execution_count": 7,
   "metadata": {},
   "outputs": [
    {
     "ename": "TypeError",
     "evalue": "set expected at most 1 arguments, got 2",
     "output_type": "error",
     "traceback": [
      "\u001b[1;31m---------------------------------------------------------------------------\u001b[0m",
      "\u001b[1;31mTypeError\u001b[0m                                 Traceback (most recent call last)",
      "\u001b[1;32m<ipython-input-7-3394d2049d5a>\u001b[0m in \u001b[0;36m<module>\u001b[1;34m()\u001b[0m\n\u001b[1;32m----> 1\u001b[1;33m \u001b[0mprint\u001b[0m\u001b[1;33m(\u001b[0m\u001b[0mset\u001b[0m\u001b[1;33m(\u001b[0m\u001b[0msentence\u001b[0m\u001b[1;33m,\u001b[0m\u001b[0mchar_list\u001b[0m\u001b[1;33m)\u001b[0m\u001b[1;33m)\u001b[0m\u001b[1;33m\u001b[0m\u001b[0m\n\u001b[0m",
      "\u001b[1;31mTypeError\u001b[0m: set expected at most 1 arguments, got 2"
     ]
    }
   ],
   "source": [
    "print(set(sentence,char_list))"
   ]
  },
  {
   "cell_type": "code",
   "execution_count": 11,
   "metadata": {},
   "outputs": [
    {
     "name": "stdout",
     "output_type": "stream",
     "text": [
      "{'x', 'd', 'a', 'b', 'c'}\n"
     ]
    }
   ],
   "source": [
    "unique_char = set(char_list)\n",
    "unique_char.add('x')\n",
    "print(unique_char)"
   ]
  },
  {
   "cell_type": "code",
   "execution_count": 13,
   "metadata": {},
   "outputs": [
    {
     "name": "stdout",
     "output_type": "stream",
     "text": [
      "{'a', 'b', 'c', 'd'}\n"
     ]
    }
   ],
   "source": [
    "unique_char = set(char_list)\n",
    "unique_char.add('a')\n",
    "print(unique_char)"
   ]
  },
  {
   "cell_type": "code",
   "execution_count": 14,
   "metadata": {},
   "outputs": [
    {
     "ename": "TypeError",
     "evalue": "add() takes exactly one argument (2 given)",
     "output_type": "error",
     "traceback": [
      "\u001b[1;31m---------------------------------------------------------------------------\u001b[0m",
      "\u001b[1;31mTypeError\u001b[0m                                 Traceback (most recent call last)",
      "\u001b[1;32m<ipython-input-14-726338e3e503>\u001b[0m in \u001b[0;36m<module>\u001b[1;34m()\u001b[0m\n\u001b[0;32m      1\u001b[0m \u001b[0munique_char\u001b[0m \u001b[1;33m=\u001b[0m \u001b[0mset\u001b[0m\u001b[1;33m(\u001b[0m\u001b[0mchar_list\u001b[0m\u001b[1;33m)\u001b[0m\u001b[1;33m\u001b[0m\u001b[0m\n\u001b[1;32m----> 2\u001b[1;33m \u001b[0munique_char\u001b[0m\u001b[1;33m.\u001b[0m\u001b[0madd\u001b[0m\u001b[1;33m(\u001b[0m\u001b[1;34m'a'\u001b[0m\u001b[1;33m,\u001b[0m\u001b[1;34m'x'\u001b[0m\u001b[1;33m)\u001b[0m\u001b[1;33m\u001b[0m\u001b[0m\n\u001b[0m\u001b[0;32m      3\u001b[0m \u001b[0mprint\u001b[0m\u001b[1;33m(\u001b[0m\u001b[0munique_char\u001b[0m\u001b[1;33m)\u001b[0m\u001b[1;33m\u001b[0m\u001b[0m\n",
      "\u001b[1;31mTypeError\u001b[0m: add() takes exactly one argument (2 given)"
     ]
    }
   ],
   "source": [
    "unique_char = set(char_list)\n",
    "unique_char.add('a','x')\n",
    "print(unique_char)"
   ]
  },
  {
   "cell_type": "code",
   "execution_count": 16,
   "metadata": {},
   "outputs": [
    {
     "name": "stdout",
     "output_type": "stream",
     "text": [
      "set()\n"
     ]
    }
   ],
   "source": [
    "unique_char = set(char_list)\n",
    "unique_char.clear()\n",
    "print(unique_char)"
   ]
  },
  {
   "cell_type": "code",
   "execution_count": 19,
   "metadata": {},
   "outputs": [
    {
     "name": "stdout",
     "output_type": "stream",
     "text": [
      "None\n",
      "{'d', 'a', 'b', 'c'}\n"
     ]
    }
   ],
   "source": [
    "unique_char = set(char_list)\n",
    "unique_char.add('x')\n",
    "print(unique_char.remove('x'))\n",
    "print(unique_char)"
   ]
  },
  {
   "cell_type": "code",
   "execution_count": 20,
   "metadata": {},
   "outputs": [
    {
     "ename": "KeyError",
     "evalue": "'y'",
     "output_type": "error",
     "traceback": [
      "\u001b[1;31m---------------------------------------------------------------------------\u001b[0m",
      "\u001b[1;31mKeyError\u001b[0m                                  Traceback (most recent call last)",
      "\u001b[1;32m<ipython-input-20-b620cd1a6294>\u001b[0m in \u001b[0;36m<module>\u001b[1;34m()\u001b[0m\n\u001b[0;32m      1\u001b[0m \u001b[0munique_char\u001b[0m \u001b[1;33m=\u001b[0m \u001b[0mset\u001b[0m\u001b[1;33m(\u001b[0m\u001b[0mchar_list\u001b[0m\u001b[1;33m)\u001b[0m\u001b[1;33m\u001b[0m\u001b[0m\n\u001b[0;32m      2\u001b[0m \u001b[0munique_char\u001b[0m\u001b[1;33m.\u001b[0m\u001b[0madd\u001b[0m\u001b[1;33m(\u001b[0m\u001b[1;34m'x'\u001b[0m\u001b[1;33m)\u001b[0m\u001b[1;33m\u001b[0m\u001b[0m\n\u001b[1;32m----> 3\u001b[1;33m \u001b[0mprint\u001b[0m\u001b[1;33m(\u001b[0m\u001b[0munique_char\u001b[0m\u001b[1;33m.\u001b[0m\u001b[0mremove\u001b[0m\u001b[1;33m(\u001b[0m\u001b[1;34m'y'\u001b[0m\u001b[1;33m)\u001b[0m\u001b[1;33m)\u001b[0m\u001b[1;33m\u001b[0m\u001b[0m\n\u001b[0m",
      "\u001b[1;31mKeyError\u001b[0m: 'y'"
     ]
    }
   ],
   "source": [
    "unique_char = set(char_list)\n",
    "unique_char.add('x')\n",
    "print(unique_char.remove('y'))"
   ]
  },
  {
   "cell_type": "code",
   "execution_count": 21,
   "metadata": {},
   "outputs": [
    {
     "name": "stdout",
     "output_type": "stream",
     "text": [
      "None\n"
     ]
    }
   ],
   "source": [
    "unique_char = set(char_list)\n",
    "unique_char.add('x')\n",
    "print(unique_char.discard('y'))"
   ]
  },
  {
   "cell_type": "code",
   "execution_count": 24,
   "metadata": {},
   "outputs": [
    {
     "name": "stdout",
     "output_type": "stream",
     "text": [
      "{'e', 'i'}\n",
      "{'b', 'c', 'x', 'd'}\n",
      "{'a'}\n"
     ]
    }
   ],
   "source": [
    "unique_char = set(char_list)\n",
    "unique_char.add('x')\n",
    "set1 = unique_char\n",
    "set2 = {'a','e','i'}\n",
    "# 2 有 1 没有\n",
    "print(set2.difference(set1))\n",
    "# 1 有 2 没有\n",
    "print(set1.difference(set2))\n",
    "# 1 2 交集\n",
    "print(set1.intersection(set2))"
   ]
  },
  {
   "cell_type": "code",
   "execution_count": 25,
   "metadata": {},
   "outputs": [],
   "source": [
    "import re"
   ]
  },
  {
   "cell_type": "markdown",
   "metadata": {},
   "source": [
    "## 简单匹配"
   ]
  },
  {
   "cell_type": "code",
   "execution_count": 26,
   "metadata": {},
   "outputs": [
    {
     "name": "stdout",
     "output_type": "stream",
     "text": [
      "True\n",
      "False\n"
     ]
    }
   ],
   "source": [
    "pattern1 = 'cat'\n",
    "pattern2 = 'bird'\n",
    "string = 'dog runs to cat'\n",
    "print(pattern1 in  string)\n",
    "print(pattern2 in string)"
   ]
  },
  {
   "cell_type": "code",
   "execution_count": 27,
   "metadata": {},
   "outputs": [
    {
     "name": "stdout",
     "output_type": "stream",
     "text": [
      "<re.Match object; span=(12, 15), match='cat'>\n",
      "None\n"
     ]
    }
   ],
   "source": [
    "print(re.search(pattern1,string))\n",
    "print(re.search(pattern2,string))"
   ]
  },
  {
   "cell_type": "code",
   "execution_count": 32,
   "metadata": {},
   "outputs": [
    {
     "name": "stdout",
     "output_type": "stream",
     "text": [
      "<re.Match object; span=(4, 7), match='ran'>\n",
      "<re.Match object; span=(4, 7), match='run'>\n"
     ]
    }
   ],
   "source": [
    "ptn = r\"r[au]n\"\n",
    "print(re.search(ptn,\"dog rans to cat\"))\n",
    "print(re.search(ptn,\"dog runs to cat\"))"
   ]
  },
  {
   "cell_type": "code",
   "execution_count": 33,
   "metadata": {},
   "outputs": [
    {
     "name": "stdout",
     "output_type": "stream",
     "text": [
      "None\n",
      "None\n"
     ]
    }
   ],
   "source": [
    "ptn = r\"r[A-Z]n\"\n",
    "print(re.search(ptn,\"dog rans to cat\"))\n",
    "print(re.search(ptn,\"dog runs to cat\"))"
   ]
  },
  {
   "cell_type": "code",
   "execution_count": 34,
   "metadata": {},
   "outputs": [
    {
     "name": "stdout",
     "output_type": "stream",
     "text": [
      "<re.Match object; span=(4, 7), match='ran'>\n",
      "<re.Match object; span=(4, 7), match='run'>\n"
     ]
    }
   ],
   "source": [
    "ptn = r\"r[a-z]n\"\n",
    "print(re.search(ptn,\"dog rans to cat\"))\n",
    "print(re.search(ptn,\"dog runs to cat\"))"
   ]
  },
  {
   "cell_type": "code",
   "execution_count": 35,
   "metadata": {},
   "outputs": [
    {
     "name": "stdout",
     "output_type": "stream",
     "text": [
      "<re.Match object; span=(4, 7), match='r2n'>\n",
      "None\n"
     ]
    }
   ],
   "source": [
    "ptn = r\"r[0-9]n\"\n",
    "print(re.search(ptn,\"dog r2ns to cat\"))\n",
    "print(re.search(ptn,\"dog runs to cat\"))"
   ]
  },
  {
   "cell_type": "code",
   "execution_count": 36,
   "metadata": {},
   "outputs": [
    {
     "name": "stdout",
     "output_type": "stream",
     "text": [
      "<re.Match object; span=(4, 7), match='r2n'>\n",
      "<re.Match object; span=(4, 7), match='run'>\n"
     ]
    }
   ],
   "source": [
    "ptn = r\"r[0-9a-z]n\"\n",
    "print(re.search(ptn,\"dog r2ns to cat\"))\n",
    "print(re.search(ptn,\"dog runs to cat\"))"
   ]
  },
  {
   "cell_type": "code",
   "execution_count": 37,
   "metadata": {},
   "outputs": [
    {
     "name": "stdout",
     "output_type": "stream",
     "text": [
      "<re.Match object; span=(4, 7), match='r2n'>\n",
      "None\n"
     ]
    }
   ],
   "source": [
    "ptn = r\"r\\dn\"\n",
    "print(re.search(ptn,\"dog r2ns to cat\"))\n",
    "print(re.search(ptn,\"dog runs to cat\"))"
   ]
  },
  {
   "cell_type": "code",
   "execution_count": 38,
   "metadata": {},
   "outputs": [
    {
     "name": "stdout",
     "output_type": "stream",
     "text": [
      "None\n",
      "<re.Match object; span=(4, 7), match='run'>\n"
     ]
    }
   ],
   "source": [
    "ptn = r\"r\\Dn\"\n",
    "print(re.search(ptn,\"dog r2ns to cat\"))\n",
    "print(re.search(ptn,\"dog runs to cat\"))"
   ]
  },
  {
   "cell_type": "code",
   "execution_count": null,
   "metadata": {},
   "outputs": [],
   "source": []
  }
 ],
 "metadata": {
  "kernelspec": {
   "display_name": "Python 3",
   "language": "python",
   "name": "python3"
  },
  "language_info": {
   "codemirror_mode": {
    "name": "ipython",
    "version": 3
   },
   "file_extension": ".py",
   "mimetype": "text/x-python",
   "name": "python",
   "nbconvert_exporter": "python",
   "pygments_lexer": "ipython3",
   "version": "3.7.0"
  }
 },
 "nbformat": 4,
 "nbformat_minor": 2
}
